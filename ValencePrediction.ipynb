{
 "cells": [
  {
   "cell_type": "code",
   "execution_count": 79,
   "id": "lucky-design",
   "metadata": {},
   "outputs": [],
   "source": [
    "from ipynb.fs.full.preprocessing_text import PreprocessTweet\n",
    "from ipynb.fs.full.dict_lexicons import read_lexicon\n",
    "from ipynb.fs.full.lexicon_mapping import LexiconMapper, Analyzer\n",
    "from ipynb.fs.full.bert_helper import create_raw_input, pull_bert, get_max_lengths, bert_encode\n",
    "import pandas as pd"
   ]
  },
  {
   "cell_type": "code",
   "execution_count": 80,
   "id": "moral-freeware",
   "metadata": {},
   "outputs": [
    {
     "data": {
      "text/html": [
       "<div>\n",
       "<style scoped>\n",
       "    .dataframe tbody tr th:only-of-type {\n",
       "        vertical-align: middle;\n",
       "    }\n",
       "\n",
       "    .dataframe tbody tr th {\n",
       "        vertical-align: top;\n",
       "    }\n",
       "\n",
       "    .dataframe thead th {\n",
       "        text-align: right;\n",
       "    }\n",
       "</style>\n",
       "<table border=\"1\" class=\"dataframe\">\n",
       "  <thead>\n",
       "    <tr style=\"text-align: right;\">\n",
       "      <th></th>\n",
       "      <th>target</th>\n",
       "      <th>id</th>\n",
       "      <th>date</th>\n",
       "      <th>flag</th>\n",
       "      <th>user</th>\n",
       "      <th>text</th>\n",
       "    </tr>\n",
       "  </thead>\n",
       "  <tbody>\n",
       "    <tr>\n",
       "      <th>0</th>\n",
       "      <td>0</td>\n",
       "      <td>1467810369</td>\n",
       "      <td>Mon Apr 06 22:19:45 PDT 2009</td>\n",
       "      <td>NO_QUERY</td>\n",
       "      <td>_TheSpecialOne_</td>\n",
       "      <td>@switchfoot http://twitpic.com/2y1zl - Awww, t...</td>\n",
       "    </tr>\n",
       "    <tr>\n",
       "      <th>1</th>\n",
       "      <td>0</td>\n",
       "      <td>1467810672</td>\n",
       "      <td>Mon Apr 06 22:19:49 PDT 2009</td>\n",
       "      <td>NO_QUERY</td>\n",
       "      <td>scotthamilton</td>\n",
       "      <td>is upset that he can't update his Facebook by ...</td>\n",
       "    </tr>\n",
       "    <tr>\n",
       "      <th>2</th>\n",
       "      <td>0</td>\n",
       "      <td>1467810917</td>\n",
       "      <td>Mon Apr 06 22:19:53 PDT 2009</td>\n",
       "      <td>NO_QUERY</td>\n",
       "      <td>mattycus</td>\n",
       "      <td>@Kenichan I dived many times for the ball. Man...</td>\n",
       "    </tr>\n",
       "    <tr>\n",
       "      <th>3</th>\n",
       "      <td>0</td>\n",
       "      <td>1467811184</td>\n",
       "      <td>Mon Apr 06 22:19:57 PDT 2009</td>\n",
       "      <td>NO_QUERY</td>\n",
       "      <td>ElleCTF</td>\n",
       "      <td>my whole body feels itchy and like its on fire</td>\n",
       "    </tr>\n",
       "    <tr>\n",
       "      <th>4</th>\n",
       "      <td>0</td>\n",
       "      <td>1467811193</td>\n",
       "      <td>Mon Apr 06 22:19:57 PDT 2009</td>\n",
       "      <td>NO_QUERY</td>\n",
       "      <td>Karoli</td>\n",
       "      <td>@nationwideclass no, it's not behaving at all....</td>\n",
       "    </tr>\n",
       "  </tbody>\n",
       "</table>\n",
       "</div>"
      ],
      "text/plain": [
       "   target          id                          date      flag  \\\n",
       "0       0  1467810369  Mon Apr 06 22:19:45 PDT 2009  NO_QUERY   \n",
       "1       0  1467810672  Mon Apr 06 22:19:49 PDT 2009  NO_QUERY   \n",
       "2       0  1467810917  Mon Apr 06 22:19:53 PDT 2009  NO_QUERY   \n",
       "3       0  1467811184  Mon Apr 06 22:19:57 PDT 2009  NO_QUERY   \n",
       "4       0  1467811193  Mon Apr 06 22:19:57 PDT 2009  NO_QUERY   \n",
       "\n",
       "              user                                               text  \n",
       "0  _TheSpecialOne_  @switchfoot http://twitpic.com/2y1zl - Awww, t...  \n",
       "1    scotthamilton  is upset that he can't update his Facebook by ...  \n",
       "2         mattycus  @Kenichan I dived many times for the ball. Man...  \n",
       "3          ElleCTF    my whole body feels itchy and like its on fire   \n",
       "4           Karoli  @nationwideclass no, it's not behaving at all....  "
      ]
     },
     "execution_count": 80,
     "metadata": {},
     "output_type": "execute_result"
    }
   ],
   "source": [
    "df_140 = pd.read_csv(\"D:\\\\Marko\\\\MoviesSentimentAnalysis\\\\140SentimentDataset\\\\training.1600000.processed.noemoticon.csv\", \n",
    "           names = [\n",
    "                    'target',\n",
    "                    'id',\n",
    "                    'date',\n",
    "                    'flag',\n",
    "                    'user',\n",
    "                    'text'\n",
    "                ])\n",
    "df_140.head()"
   ]
  },
  {
   "cell_type": "code",
   "execution_count": 81,
   "id": "united-collect",
   "metadata": {},
   "outputs": [
    {
     "data": {
      "text/html": [
       "<div>\n",
       "<style scoped>\n",
       "    .dataframe tbody tr th:only-of-type {\n",
       "        vertical-align: middle;\n",
       "    }\n",
       "\n",
       "    .dataframe tbody tr th {\n",
       "        vertical-align: top;\n",
       "    }\n",
       "\n",
       "    .dataframe thead th {\n",
       "        text-align: right;\n",
       "    }\n",
       "</style>\n",
       "<table border=\"1\" class=\"dataframe\">\n",
       "  <thead>\n",
       "    <tr style=\"text-align: right;\">\n",
       "      <th></th>\n",
       "      <th>tweet_id</th>\n",
       "      <th>label</th>\n",
       "      <th>user</th>\n",
       "      <th>text</th>\n",
       "    </tr>\n",
       "  </thead>\n",
       "  <tbody>\n",
       "    <tr>\n",
       "      <th>0</th>\n",
       "      <td>1956967341</td>\n",
       "      <td>empty</td>\n",
       "      <td>xoshayzers</td>\n",
       "      <td>@tiffanylue i know  i was listenin to bad habi...</td>\n",
       "    </tr>\n",
       "    <tr>\n",
       "      <th>1</th>\n",
       "      <td>1956967666</td>\n",
       "      <td>sadness</td>\n",
       "      <td>wannamama</td>\n",
       "      <td>Layin n bed with a headache  ughhhh...waitin o...</td>\n",
       "    </tr>\n",
       "    <tr>\n",
       "      <th>2</th>\n",
       "      <td>1956967696</td>\n",
       "      <td>sadness</td>\n",
       "      <td>coolfunky</td>\n",
       "      <td>Funeral ceremony...gloomy friday...</td>\n",
       "    </tr>\n",
       "    <tr>\n",
       "      <th>3</th>\n",
       "      <td>1956967789</td>\n",
       "      <td>enthusiasm</td>\n",
       "      <td>czareaquino</td>\n",
       "      <td>wants to hang out with friends SOON!</td>\n",
       "    </tr>\n",
       "    <tr>\n",
       "      <th>4</th>\n",
       "      <td>1956968416</td>\n",
       "      <td>neutral</td>\n",
       "      <td>xkilljoyx</td>\n",
       "      <td>@dannycastillo We want to trade with someone w...</td>\n",
       "    </tr>\n",
       "  </tbody>\n",
       "</table>\n",
       "</div>"
      ],
      "text/plain": [
       "     tweet_id       label         user  \\\n",
       "0  1956967341       empty   xoshayzers   \n",
       "1  1956967666     sadness    wannamama   \n",
       "2  1956967696     sadness    coolfunky   \n",
       "3  1956967789  enthusiasm  czareaquino   \n",
       "4  1956968416     neutral    xkilljoyx   \n",
       "\n",
       "                                                text  \n",
       "0  @tiffanylue i know  i was listenin to bad habi...  \n",
       "1  Layin n bed with a headache  ughhhh...waitin o...  \n",
       "2                Funeral ceremony...gloomy friday...  \n",
       "3               wants to hang out with friends SOON!  \n",
       "4  @dannycastillo We want to trade with someone w...  "
      ]
     },
     "execution_count": 81,
     "metadata": {},
     "output_type": "execute_result"
    }
   ],
   "source": [
    "df_crowdflower = pd.read_csv(\"D:\\\\Marko\\\\Project_NLP_171161\\\\text_emotion.csv\", \n",
    "        names = [\n",
    "                'tweet_id',\n",
    "                'label',\n",
    "                'user',\n",
    "                'text'\n",
    "                ],\n",
    "           header=0)\n",
    "\n",
    "df_crowdflower.head()"
   ]
  },
  {
   "cell_type": "code",
   "execution_count": 82,
   "id": "special-upper",
   "metadata": {},
   "outputs": [
    {
     "name": "stdout",
     "output_type": "stream",
     "text": [
      "[('aaaaaaah', ['0.479', '0.606', '0.291']), ('aaaah', ['0.520', '0.636', '0.282']), ('aardvark', ['0.427', '0.490', '0.437']), ('aback', ['0.385', '0.407', '0.288']), ('abacus', ['0.510', '0.276', '0.485'])]\n",
      "[('abandoned', ['-2']), ('abandons', ['-2']), ('abducted', ['-2']), ('abduction', ['-2']), ('abductions', ['-2'])]\n",
      "[('term', ['score', 'AffectDimension']), ('outraged', ['0.964', 'anger']), ('brutality', ['0.922', 'fear']), ('hatred', ['0.641', 'sadness']), ('hateful', ['0.575', 'sadness'])]\n"
     ]
    }
   ],
   "source": [
    "vad_lexicon = read_lexicon('NRC-VAD')\n",
    "afinn_lexicon = read_lexicon('AFINN-111')\n",
    "nrc_lexicon = read_lexicon('NRC-AffectIntensity')\n",
    "print(list(vad_lexicon.items())[:5])\n",
    "print(list(afinn_lexicon.items())[:5])\n",
    "print(list(nrc_lexicon.items())[:5])"
   ]
  },
  {
   "cell_type": "code",
   "execution_count": 83,
   "id": "noted-hebrew",
   "metadata": {},
   "outputs": [
    {
     "data": {
      "text/html": [
       "<div>\n",
       "<style scoped>\n",
       "    .dataframe tbody tr th:only-of-type {\n",
       "        vertical-align: middle;\n",
       "    }\n",
       "\n",
       "    .dataframe tbody tr th {\n",
       "        vertical-align: top;\n",
       "    }\n",
       "\n",
       "    .dataframe thead th {\n",
       "        text-align: right;\n",
       "    }\n",
       "</style>\n",
       "<table border=\"1\" class=\"dataframe\">\n",
       "  <thead>\n",
       "    <tr style=\"text-align: right;\">\n",
       "      <th></th>\n",
       "      <th>label</th>\n",
       "      <th>text</th>\n",
       "    </tr>\n",
       "  </thead>\n",
       "  <tbody>\n",
       "    <tr>\n",
       "      <th>0</th>\n",
       "      <td>0</td>\n",
       "      <td>@switchfoot http://twitpic.com/2y1zl - Awww, t...</td>\n",
       "    </tr>\n",
       "    <tr>\n",
       "      <th>1</th>\n",
       "      <td>0</td>\n",
       "      <td>is upset that he can't update his Facebook by ...</td>\n",
       "    </tr>\n",
       "    <tr>\n",
       "      <th>2</th>\n",
       "      <td>0</td>\n",
       "      <td>@Kenichan I dived many times for the ball. Man...</td>\n",
       "    </tr>\n",
       "    <tr>\n",
       "      <th>3</th>\n",
       "      <td>0</td>\n",
       "      <td>my whole body feels itchy and like its on fire</td>\n",
       "    </tr>\n",
       "    <tr>\n",
       "      <th>4</th>\n",
       "      <td>0</td>\n",
       "      <td>@nationwideclass no, it's not behaving at all....</td>\n",
       "    </tr>\n",
       "  </tbody>\n",
       "</table>\n",
       "</div>"
      ],
      "text/plain": [
       "  label                                               text\n",
       "0     0  @switchfoot http://twitpic.com/2y1zl - Awww, t...\n",
       "1     0  is upset that he can't update his Facebook by ...\n",
       "2     0  @Kenichan I dived many times for the ball. Man...\n",
       "3     0    my whole body feels itchy and like its on fire \n",
       "4     0  @nationwideclass no, it's not behaving at all...."
      ]
     },
     "execution_count": 83,
     "metadata": {},
     "output_type": "execute_result"
    }
   ],
   "source": [
    "xy140_df = pd.DataFrame(df_140.values[:,0:6:5], columns=['label', 'text'])\n",
    "xy140_df.head()"
   ]
  },
  {
   "cell_type": "code",
   "execution_count": 84,
   "id": "every-nicholas",
   "metadata": {},
   "outputs": [
    {
     "data": {
      "text/html": [
       "<div>\n",
       "<style scoped>\n",
       "    .dataframe tbody tr th:only-of-type {\n",
       "        vertical-align: middle;\n",
       "    }\n",
       "\n",
       "    .dataframe tbody tr th {\n",
       "        vertical-align: top;\n",
       "    }\n",
       "\n",
       "    .dataframe thead th {\n",
       "        text-align: right;\n",
       "    }\n",
       "</style>\n",
       "<table border=\"1\" class=\"dataframe\">\n",
       "  <thead>\n",
       "    <tr style=\"text-align: right;\">\n",
       "      <th></th>\n",
       "      <th>label</th>\n",
       "      <th>text</th>\n",
       "    </tr>\n",
       "  </thead>\n",
       "  <tbody>\n",
       "    <tr>\n",
       "      <th>0</th>\n",
       "      <td>empty</td>\n",
       "      <td>@tiffanylue i know  i was listenin to bad habi...</td>\n",
       "    </tr>\n",
       "    <tr>\n",
       "      <th>1</th>\n",
       "      <td>sadness</td>\n",
       "      <td>Layin n bed with a headache  ughhhh...waitin o...</td>\n",
       "    </tr>\n",
       "    <tr>\n",
       "      <th>2</th>\n",
       "      <td>sadness</td>\n",
       "      <td>Funeral ceremony...gloomy friday...</td>\n",
       "    </tr>\n",
       "    <tr>\n",
       "      <th>3</th>\n",
       "      <td>enthusiasm</td>\n",
       "      <td>wants to hang out with friends SOON!</td>\n",
       "    </tr>\n",
       "    <tr>\n",
       "      <th>4</th>\n",
       "      <td>neutral</td>\n",
       "      <td>@dannycastillo We want to trade with someone w...</td>\n",
       "    </tr>\n",
       "  </tbody>\n",
       "</table>\n",
       "</div>"
      ],
      "text/plain": [
       "        label                                               text\n",
       "0       empty  @tiffanylue i know  i was listenin to bad habi...\n",
       "1     sadness  Layin n bed with a headache  ughhhh...waitin o...\n",
       "2     sadness                Funeral ceremony...gloomy friday...\n",
       "3  enthusiasm               wants to hang out with friends SOON!\n",
       "4     neutral  @dannycastillo We want to trade with someone w..."
      ]
     },
     "execution_count": 84,
     "metadata": {},
     "output_type": "execute_result"
    }
   ],
   "source": [
    "xycf_df = pd.DataFrame(df_crowdflower.values[:,1:4:2], columns=['label', 'text'])\n",
    "xycf_df.head()"
   ]
  },
  {
   "cell_type": "code",
   "execution_count": 85,
   "id": "split-lafayette",
   "metadata": {},
   "outputs": [
    {
     "data": {
      "text/html": [
       "<div>\n",
       "<style scoped>\n",
       "    .dataframe tbody tr th:only-of-type {\n",
       "        vertical-align: middle;\n",
       "    }\n",
       "\n",
       "    .dataframe tbody tr th {\n",
       "        vertical-align: top;\n",
       "    }\n",
       "\n",
       "    .dataframe thead th {\n",
       "        text-align: right;\n",
       "    }\n",
       "</style>\n",
       "<table border=\"1\" class=\"dataframe\">\n",
       "  <thead>\n",
       "    <tr style=\"text-align: right;\">\n",
       "      <th></th>\n",
       "      <th>Label</th>\n",
       "      <th>Tweet</th>\n",
       "      <th>Mark</th>\n",
       "      <th>Caps</th>\n",
       "      <th>Letters</th>\n",
       "    </tr>\n",
       "  </thead>\n",
       "  <tbody>\n",
       "    <tr>\n",
       "      <th>0</th>\n",
       "      <td>0</td>\n",
       "      <td>usertag linktag awww thats a bummer you should...</td>\n",
       "      <td>False</td>\n",
       "      <td>False</td>\n",
       "      <td>False</td>\n",
       "    </tr>\n",
       "    <tr>\n",
       "      <th>1</th>\n",
       "      <td>0</td>\n",
       "      <td>is upset that he cant update his facebook by t...</td>\n",
       "      <td>False</td>\n",
       "      <td>False</td>\n",
       "      <td>False</td>\n",
       "    </tr>\n",
       "    <tr>\n",
       "      <th>2</th>\n",
       "      <td>0</td>\n",
       "      <td>usertag i dived many times for the ball manage...</td>\n",
       "      <td>False</td>\n",
       "      <td>False</td>\n",
       "      <td>False</td>\n",
       "    </tr>\n",
       "    <tr>\n",
       "      <th>3</th>\n",
       "      <td>0</td>\n",
       "      <td>my whole body feels itchy and like its on fire</td>\n",
       "      <td>False</td>\n",
       "      <td>False</td>\n",
       "      <td>False</td>\n",
       "    </tr>\n",
       "    <tr>\n",
       "      <th>4</th>\n",
       "      <td>0</td>\n",
       "      <td>usertag no its not behaving at all im mad why ...</td>\n",
       "      <td>False</td>\n",
       "      <td>False</td>\n",
       "      <td>False</td>\n",
       "    </tr>\n",
       "  </tbody>\n",
       "</table>\n",
       "</div>"
      ],
      "text/plain": [
       "   Label                                              Tweet   Mark   Caps  \\\n",
       "0      0  usertag linktag awww thats a bummer you should...  False  False   \n",
       "1      0  is upset that he cant update his facebook by t...  False  False   \n",
       "2      0  usertag i dived many times for the ball manage...  False  False   \n",
       "3      0     my whole body feels itchy and like its on fire  False  False   \n",
       "4      0  usertag no its not behaving at all im mad why ...  False  False   \n",
       "\n",
       "   Letters  \n",
       "0    False  \n",
       "1    False  \n",
       "2    False  \n",
       "3    False  \n",
       "4    False  "
      ]
     },
     "execution_count": 85,
     "metadata": {},
     "output_type": "execute_result"
    }
   ],
   "source": [
    "preprocessor = PreprocessTweet()\n",
    "preprocessed140_df = preprocessor.preprocess_tweets(xy140_df, True, True, False)\n",
    "preprocessed140_df.head()"
   ]
  },
  {
   "cell_type": "code",
   "execution_count": 86,
   "id": "specialized-external",
   "metadata": {},
   "outputs": [
    {
     "data": {
      "text/html": [
       "<div>\n",
       "<style scoped>\n",
       "    .dataframe tbody tr th:only-of-type {\n",
       "        vertical-align: middle;\n",
       "    }\n",
       "\n",
       "    .dataframe tbody tr th {\n",
       "        vertical-align: top;\n",
       "    }\n",
       "\n",
       "    .dataframe thead th {\n",
       "        text-align: right;\n",
       "    }\n",
       "</style>\n",
       "<table border=\"1\" class=\"dataframe\">\n",
       "  <thead>\n",
       "    <tr style=\"text-align: right;\">\n",
       "      <th></th>\n",
       "      <th>Label</th>\n",
       "      <th>Tweet</th>\n",
       "      <th>Mark</th>\n",
       "      <th>Caps</th>\n",
       "      <th>Letters</th>\n",
       "    </tr>\n",
       "  </thead>\n",
       "  <tbody>\n",
       "    <tr>\n",
       "      <th>0</th>\n",
       "      <td>empty</td>\n",
       "      <td>usertag i know i was listenin to bad habit ear...</td>\n",
       "      <td>False</td>\n",
       "      <td>False</td>\n",
       "      <td>False</td>\n",
       "    </tr>\n",
       "    <tr>\n",
       "      <th>1</th>\n",
       "      <td>sadness</td>\n",
       "      <td>layin n bed with a headache ughhhh waitin on y...</td>\n",
       "      <td>False</td>\n",
       "      <td>False</td>\n",
       "      <td>True</td>\n",
       "    </tr>\n",
       "    <tr>\n",
       "      <th>2</th>\n",
       "      <td>sadness</td>\n",
       "      <td>funeral ceremony gloomy friday</td>\n",
       "      <td>False</td>\n",
       "      <td>False</td>\n",
       "      <td>True</td>\n",
       "    </tr>\n",
       "    <tr>\n",
       "      <th>3</th>\n",
       "      <td>enthusiasm</td>\n",
       "      <td>wants to hang out with friends soon</td>\n",
       "      <td>False</td>\n",
       "      <td>False</td>\n",
       "      <td>False</td>\n",
       "    </tr>\n",
       "    <tr>\n",
       "      <th>4</th>\n",
       "      <td>neutral</td>\n",
       "      <td>usertag we want to trade with someone who has ...</td>\n",
       "      <td>False</td>\n",
       "      <td>False</td>\n",
       "      <td>False</td>\n",
       "    </tr>\n",
       "  </tbody>\n",
       "</table>\n",
       "</div>"
      ],
      "text/plain": [
       "        Label                                              Tweet   Mark  \\\n",
       "0       empty  usertag i know i was listenin to bad habit ear...  False   \n",
       "1     sadness  layin n bed with a headache ughhhh waitin on y...  False   \n",
       "2     sadness                     funeral ceremony gloomy friday  False   \n",
       "3  enthusiasm                wants to hang out with friends soon  False   \n",
       "4     neutral  usertag we want to trade with someone who has ...  False   \n",
       "\n",
       "    Caps  Letters  \n",
       "0  False    False  \n",
       "1  False     True  \n",
       "2  False     True  \n",
       "3  False    False  \n",
       "4  False    False  "
      ]
     },
     "execution_count": 86,
     "metadata": {},
     "output_type": "execute_result"
    }
   ],
   "source": [
    "preprocessedcf_df = preprocessor.preprocess_tweets(xycf_df, True, True, False)\n",
    "preprocessedcf_df.head()"
   ]
  },
  {
   "cell_type": "code",
   "execution_count": 96,
   "id": "successful-turkish",
   "metadata": {},
   "outputs": [
    {
     "name": "stdout",
     "output_type": "stream",
     "text": [
      "443163\n",
      "346435\n"
     ]
    }
   ],
   "source": [
    "words_cf = []\n",
    "\n",
    "for sent in preprocessedcf_df.Tweet:\n",
    "    words = sent.split()\n",
    "    for i in range(0, len(words)-2):\n",
    "        ph = words[i] + \" \" + words [i+1] + \" \" + words [i+2]\n",
    "        words_cf.append(ph)\n",
    "print(len(words_cf))\n",
    "print(len(set(words_cf)))\n",
    "set_cf = set(words_cf)\n",
    "#print(set_cf)\n",
    "#print(\"thats\" in set_cf)"
   ]
  },
  {
   "cell_type": "code",
   "execution_count": 97,
   "id": "published-architecture",
   "metadata": {},
   "outputs": [
    {
     "data": {
      "text/html": [
       "<div>\n",
       "<style scoped>\n",
       "    .dataframe tbody tr th:only-of-type {\n",
       "        vertical-align: middle;\n",
       "    }\n",
       "\n",
       "    .dataframe tbody tr th {\n",
       "        vertical-align: top;\n",
       "    }\n",
       "\n",
       "    .dataframe thead th {\n",
       "        text-align: right;\n",
       "    }\n",
       "</style>\n",
       "<table border=\"1\" class=\"dataframe\">\n",
       "  <thead>\n",
       "    <tr style=\"text-align: right;\">\n",
       "      <th></th>\n",
       "      <th>Label</th>\n",
       "      <th>Tweet</th>\n",
       "      <th>Mark</th>\n",
       "      <th>Caps</th>\n",
       "      <th>Letters</th>\n",
       "      <th>crowdflower</th>\n",
       "      <th>onwlen</th>\n",
       "    </tr>\n",
       "  </thead>\n",
       "  <tbody>\n",
       "    <tr>\n",
       "      <th>0</th>\n",
       "      <td>0</td>\n",
       "      <td>usertag linktag awww thats a bummer you should...</td>\n",
       "      <td>False</td>\n",
       "      <td>False</td>\n",
       "      <td>False</td>\n",
       "      <td>4</td>\n",
       "      <td>18</td>\n",
       "    </tr>\n",
       "    <tr>\n",
       "      <th>1</th>\n",
       "      <td>0</td>\n",
       "      <td>is upset that he cant update his facebook by t...</td>\n",
       "      <td>False</td>\n",
       "      <td>False</td>\n",
       "      <td>False</td>\n",
       "      <td>3</td>\n",
       "      <td>21</td>\n",
       "    </tr>\n",
       "    <tr>\n",
       "      <th>2</th>\n",
       "      <td>0</td>\n",
       "      <td>usertag i dived many times for the ball manage...</td>\n",
       "      <td>False</td>\n",
       "      <td>False</td>\n",
       "      <td>False</td>\n",
       "      <td>2</td>\n",
       "      <td>18</td>\n",
       "    </tr>\n",
       "    <tr>\n",
       "      <th>3</th>\n",
       "      <td>0</td>\n",
       "      <td>my whole body feels itchy and like its on fire</td>\n",
       "      <td>False</td>\n",
       "      <td>False</td>\n",
       "      <td>False</td>\n",
       "      <td>2</td>\n",
       "      <td>10</td>\n",
       "    </tr>\n",
       "    <tr>\n",
       "      <th>4</th>\n",
       "      <td>0</td>\n",
       "      <td>usertag no its not behaving at all im mad why ...</td>\n",
       "      <td>False</td>\n",
       "      <td>False</td>\n",
       "      <td>False</td>\n",
       "      <td>9</td>\n",
       "      <td>21</td>\n",
       "    </tr>\n",
       "  </tbody>\n",
       "</table>\n",
       "</div>"
      ],
      "text/plain": [
       "   Label                                              Tweet   Mark   Caps  \\\n",
       "0      0  usertag linktag awww thats a bummer you should...  False  False   \n",
       "1      0  is upset that he cant update his facebook by t...  False  False   \n",
       "2      0  usertag i dived many times for the ball manage...  False  False   \n",
       "3      0     my whole body feels itchy and like its on fire  False  False   \n",
       "4      0  usertag no its not behaving at all im mad why ...  False  False   \n",
       "\n",
       "   Letters  crowdflower  onwlen  \n",
       "0    False            4      18  \n",
       "1    False            3      21  \n",
       "2    False            2      18  \n",
       "3    False            2      10  \n",
       "4    False            9      21  "
      ]
     },
     "execution_count": 97,
     "metadata": {},
     "output_type": "execute_result"
    }
   ],
   "source": [
    "contains_cf = []\n",
    "for sent in preprocessed140_df.Tweet:\n",
    "    words = sent.split()\n",
    "    found = [words[i] + \" \" + words[i+1] for i in range(0, len(words)-2) if words[i] + \" \" + words[i+1] + \" \" + words[i+2] in set_cf]\n",
    "    #print(found)\n",
    "    contains_cf.append(len(found))\n",
    "preprocessed140_df['crowdflower'] = contains_cf\n",
    "preprocessed140_df.head()"
   ]
  },
  {
   "cell_type": "code",
   "execution_count": 98,
   "id": "graphic-survival",
   "metadata": {},
   "outputs": [
    {
     "data": {
      "text/html": [
       "<div>\n",
       "<style scoped>\n",
       "    .dataframe tbody tr th:only-of-type {\n",
       "        vertical-align: middle;\n",
       "    }\n",
       "\n",
       "    .dataframe tbody tr th {\n",
       "        vertical-align: top;\n",
       "    }\n",
       "\n",
       "    .dataframe thead th {\n",
       "        text-align: right;\n",
       "    }\n",
       "</style>\n",
       "<table border=\"1\" class=\"dataframe\">\n",
       "  <thead>\n",
       "    <tr style=\"text-align: right;\">\n",
       "      <th></th>\n",
       "      <th>Label</th>\n",
       "      <th>Tweet</th>\n",
       "      <th>Mark</th>\n",
       "      <th>Caps</th>\n",
       "      <th>Letters</th>\n",
       "      <th>crowdflower</th>\n",
       "      <th>onwlen</th>\n",
       "    </tr>\n",
       "  </thead>\n",
       "  <tbody>\n",
       "    <tr>\n",
       "      <th>0</th>\n",
       "      <td>0</td>\n",
       "      <td>usertag linktag awww thats a bummer you should...</td>\n",
       "      <td>False</td>\n",
       "      <td>False</td>\n",
       "      <td>False</td>\n",
       "      <td>4</td>\n",
       "      <td>18</td>\n",
       "    </tr>\n",
       "    <tr>\n",
       "      <th>1</th>\n",
       "      <td>0</td>\n",
       "      <td>is upset that he cant update his facebook by t...</td>\n",
       "      <td>False</td>\n",
       "      <td>False</td>\n",
       "      <td>False</td>\n",
       "      <td>3</td>\n",
       "      <td>21</td>\n",
       "    </tr>\n",
       "    <tr>\n",
       "      <th>2</th>\n",
       "      <td>0</td>\n",
       "      <td>usertag i dived many times for the ball manage...</td>\n",
       "      <td>False</td>\n",
       "      <td>False</td>\n",
       "      <td>False</td>\n",
       "      <td>2</td>\n",
       "      <td>18</td>\n",
       "    </tr>\n",
       "    <tr>\n",
       "      <th>3</th>\n",
       "      <td>0</td>\n",
       "      <td>my whole body feels itchy and like its on fire</td>\n",
       "      <td>False</td>\n",
       "      <td>False</td>\n",
       "      <td>False</td>\n",
       "      <td>2</td>\n",
       "      <td>10</td>\n",
       "    </tr>\n",
       "    <tr>\n",
       "      <th>4</th>\n",
       "      <td>0</td>\n",
       "      <td>usertag no its not behaving at all im mad why ...</td>\n",
       "      <td>False</td>\n",
       "      <td>False</td>\n",
       "      <td>False</td>\n",
       "      <td>9</td>\n",
       "      <td>21</td>\n",
       "    </tr>\n",
       "  </tbody>\n",
       "</table>\n",
       "</div>"
      ],
      "text/plain": [
       "   Label                                              Tweet   Mark   Caps  \\\n",
       "0      0  usertag linktag awww thats a bummer you should...  False  False   \n",
       "1      0  is upset that he cant update his facebook by t...  False  False   \n",
       "2      0  usertag i dived many times for the ball manage...  False  False   \n",
       "3      0     my whole body feels itchy and like its on fire  False  False   \n",
       "4      0  usertag no its not behaving at all im mad why ...  False  False   \n",
       "\n",
       "   Letters  crowdflower  onwlen  \n",
       "0    False            4      18  \n",
       "1    False            3      21  \n",
       "2    False            2      18  \n",
       "3    False            2      10  \n",
       "4    False            9      21  "
      ]
     },
     "execution_count": 98,
     "metadata": {},
     "output_type": "execute_result"
    }
   ],
   "source": [
    "preprocessed140_df['onwlen'] = [len(i.split()) for i in preprocessed140_df.values[:,1]]\n",
    "preprocessed140_df.head()"
   ]
  },
  {
   "cell_type": "code",
   "execution_count": 140,
   "id": "eleven-terrain",
   "metadata": {},
   "outputs": [
    {
     "name": "stderr",
     "output_type": "stream",
     "text": [
      "<ipython-input-140-0022a4b7fbd8>:2: UserWarning: Boolean Series key will be reindexed to match DataFrame index.\n",
      "  newpp = preprocessed140_df[preprocessed140_df.crowdflower == preprocessed140_df.onwlen - 6][preprocessed140_df.crowdflower > 1]\n"
     ]
    }
   ],
   "source": [
    "#preprocessed140_df = \n",
    "newpp = preprocessed140_df[preprocessed140_df.crowdflower == preprocessed140_df.onwlen - 6][preprocessed140_df.crowdflower > 1]\n",
    "#print(preprocessed140_df.shape)\n",
    "#print(preprocessed140_df.shape)\n",
    "#preprocessed140_df.head()"
   ]
  },
  {
   "cell_type": "code",
   "execution_count": 141,
   "id": "wired-inspiration",
   "metadata": {},
   "outputs": [
    {
     "data": {
      "text/plain": [
       "<BarContainer object of 21 artists>"
      ]
     },
     "execution_count": 141,
     "metadata": {},
     "output_type": "execute_result"
    },
    {
     "data": {
      "image/png": "[encoded data removed]",
      "text/plain": [
       "<Figure size 432x288 with 1 Axes>"
      ]
     },
     "metadata": {
      "needs_background": "light"
     },
     "output_type": "display_data"
    }
   ],
   "source": [
    "analyzer = Analyzer()\n",
    "newpp['mapped'] = [i.split() for i in newpp.Tweet.values]\n",
    "lens = analyzer.get_length_statistics(newpp)\n",
    "import matplotlib.pyplot as plt\n",
    "\n",
    "plt.title(\"Number of words in a tweet\", size=15)\n",
    "plt.bar([k for k in lens.keys()], lens.values())"
   ]
  },
  {
   "cell_type": "code",
   "execution_count": 142,
   "id": "comparable-oxygen",
   "metadata": {},
   "outputs": [
    {
     "name": "stdout",
     "output_type": "stream",
     "text": [
      "(50000, 9)\n"
     ]
    },
    {
     "data": {
      "text/html": [
       "<div>\n",
       "<style scoped>\n",
       "    .dataframe tbody tr th:only-of-type {\n",
       "        vertical-align: middle;\n",
       "    }\n",
       "\n",
       "    .dataframe tbody tr th {\n",
       "        vertical-align: top;\n",
       "    }\n",
       "\n",
       "    .dataframe thead th {\n",
       "        text-align: right;\n",
       "    }\n",
       "</style>\n",
       "<table border=\"1\" class=\"dataframe\">\n",
       "  <thead>\n",
       "    <tr style=\"text-align: right;\">\n",
       "      <th></th>\n",
       "      <th>Label</th>\n",
       "      <th>Tweet</th>\n",
       "      <th>Mark</th>\n",
       "      <th>Caps</th>\n",
       "      <th>Letters</th>\n",
       "      <th>crowdflower</th>\n",
       "      <th>onwlen</th>\n",
       "      <th>mapped</th>\n",
       "      <th>lens</th>\n",
       "    </tr>\n",
       "  </thead>\n",
       "  <tbody>\n",
       "    <tr>\n",
       "      <th>674752</th>\n",
       "      <td>0</td>\n",
       "      <td>usertag i need you nick come to brasilia</td>\n",
       "      <td>False</td>\n",
       "      <td>False</td>\n",
       "      <td>False</td>\n",
       "      <td>2</td>\n",
       "      <td>8</td>\n",
       "      <td>[usertag, i, need, you, nick, come, to, brasilia]</td>\n",
       "      <td>8</td>\n",
       "    </tr>\n",
       "    <tr>\n",
       "      <th>428144</th>\n",
       "      <td>0</td>\n",
       "      <td>im going to miss the french open final due to ...</td>\n",
       "      <td>False</td>\n",
       "      <td>False</td>\n",
       "      <td>False</td>\n",
       "      <td>5</td>\n",
       "      <td>11</td>\n",
       "      <td>[im, going, to, miss, the, french, open, final...</td>\n",
       "      <td>11</td>\n",
       "    </tr>\n",
       "    <tr>\n",
       "      <th>721747</th>\n",
       "      <td>0</td>\n",
       "      <td>usertag i was supposed to but i had commitment...</td>\n",
       "      <td>False</td>\n",
       "      <td>True</td>\n",
       "      <td>False</td>\n",
       "      <td>12</td>\n",
       "      <td>18</td>\n",
       "      <td>[usertag, i, was, supposed, to, but, i, had, c...</td>\n",
       "      <td>18</td>\n",
       "    </tr>\n",
       "    <tr>\n",
       "      <th>295952</th>\n",
       "      <td>0</td>\n",
       "      <td>usertag awww i sad i reply to you but i know w...</td>\n",
       "      <td>False</td>\n",
       "      <td>True</td>\n",
       "      <td>False</td>\n",
       "      <td>8</td>\n",
       "      <td>14</td>\n",
       "      <td>[usertag, awww, i, sad, i, reply, to, you, but...</td>\n",
       "      <td>14</td>\n",
       "    </tr>\n",
       "    <tr>\n",
       "      <th>94794</th>\n",
       "      <td>0</td>\n",
       "      <td>usertag o noooooooooo dont say that i dont wan...</td>\n",
       "      <td>False</td>\n",
       "      <td>False</td>\n",
       "      <td>False</td>\n",
       "      <td>4</td>\n",
       "      <td>10</td>\n",
       "      <td>[usertag, o, noooooooooo, dont, say, that, i, ...</td>\n",
       "      <td>10</td>\n",
       "    </tr>\n",
       "  </tbody>\n",
       "</table>\n",
       "</div>"
      ],
      "text/plain": [
       "        Label                                              Tweet   Mark  \\\n",
       "674752      0           usertag i need you nick come to brasilia  False   \n",
       "428144      0  im going to miss the french open final due to ...  False   \n",
       "721747      0  usertag i was supposed to but i had commitment...  False   \n",
       "295952      0  usertag awww i sad i reply to you but i know w...  False   \n",
       "94794       0  usertag o noooooooooo dont say that i dont wan...  False   \n",
       "\n",
       "         Caps  Letters  crowdflower  onwlen  \\\n",
       "674752  False    False            2       8   \n",
       "428144  False    False            5      11   \n",
       "721747   True    False           12      18   \n",
       "295952   True    False            8      14   \n",
       "94794   False    False            4      10   \n",
       "\n",
       "                                                   mapped  lens  \n",
       "674752  [usertag, i, need, you, nick, come, to, brasilia]     8  \n",
       "428144  [im, going, to, miss, the, french, open, final...    11  \n",
       "721747  [usertag, i, was, supposed, to, but, i, had, c...    18  \n",
       "295952  [usertag, awww, i, sad, i, reply, to, you, but...    14  \n",
       "94794   [usertag, o, noooooooooo, dont, say, that, i, ...    10  "
      ]
     },
     "execution_count": 142,
     "metadata": {},
     "output_type": "execute_result"
    }
   ],
   "source": [
    "mapper = LexiconMapper()\n",
    "\n",
    "lens = [len(i) for i in newpp.mapped]\n",
    "newpp['lens'] = lens\n",
    "def get_even_distribution(df, attr, min_sample_size):\n",
    "    \n",
    "    low_df = mapper.get_sample(df, df[attr], 0, min_sample_size)\n",
    "    high_df = mapper.get_sample(df, df[attr], 4, min_sample_size)\n",
    "    \n",
    "    distr_df = pd.concat([low_df, high_df])\n",
    "    return distr_df\n",
    "\n",
    "valence_df = get_even_distribution(newpp, 'Label', 25000)\n",
    "\n",
    "print(valence_df.shape)\n",
    "valence_df.head()"
   ]
  },
  {
   "cell_type": "code",
   "execution_count": 143,
   "id": "speaking-profession",
   "metadata": {},
   "outputs": [
    {
     "data": {
      "text/plain": [
       "<BarContainer object of 20 artists>"
      ]
     },
     "execution_count": 143,
     "metadata": {},
     "output_type": "execute_result"
    },
    {
     "data": {
      "image/png": "[encoded data removed]",
      "text/plain": [
       "<Figure size 432x288 with 1 Axes>"
      ]
     },
     "metadata": {
      "needs_background": "light"
     },
     "output_type": "display_data"
    }
   ],
   "source": [
    "valence_df['mapped'] = [i.split() for i in valence_df.Tweet.values]\n",
    "lens = analyzer.get_length_statistics(valence_df)\n",
    "import matplotlib.pyplot as plt\n",
    "\n",
    "plt.title(\"Number of words in a tweet\", size=15)\n",
    "plt.bar([k for k in lens.keys()], lens.values())"
   ]
  },
  {
   "cell_type": "code",
   "execution_count": 144,
   "id": "urban-research",
   "metadata": {},
   "outputs": [],
   "source": [
    "def init_transfered_model(df, attr):\n",
    "    x_train, x_test, y_train, y_test = create_raw_input(df['Tweet'], df[attr], 0.25)\n",
    "    bert_layer, tokenizer = pull_bert('https://tfhub.dev/tensorflow/small_bert/bert_en_uncased_L-2_H-256_A-4/2')\n",
    "    #max_seq_len = get_max_lengths(df['Tweet'], tokenizer)\n",
    "    \n",
    "    return x_train, x_test, y_train, y_test, bert_layer, tokenizer\n",
    "\n",
    "x_train, x_test, y_train, y_test, bert_layer, tokenizer = init_transfered_model(valence_df, 'Label')"
   ]
  },
  {
   "cell_type": "code",
   "execution_count": 145,
   "id": "boxed-madonna",
   "metadata": {},
   "outputs": [
    {
     "name": "stdout",
     "output_type": "stream",
     "text": [
      "{'input_word_ids': <tf.Tensor: shape=(37500, 70), dtype=int32, numpy=\n",
      "array([[  101,  2026,  2677, ...,     0,     0,     0],\n",
      "       [  101,  5310, 15900, ...,     0,     0,     0],\n",
      "       [  101,  2498,  6343, ...,     0,     0,     0],\n",
      "       ...,\n",
      "       [  101,  2758,  2031, ...,     0,     0,     0],\n",
      "       [  101,  1045,  7771, ...,     0,     0,     0],\n",
      "       [  101,  5310, 15900, ...,     0,     0,     0]])>, 'input_mask': <tf.Tensor: shape=(37500, 70), dtype=int32, numpy=\n",
      "array([[1, 1, 1, ..., 0, 0, 0],\n",
      "       [1, 1, 1, ..., 0, 0, 0],\n",
      "       [1, 1, 1, ..., 0, 0, 0],\n",
      "       ...,\n",
      "       [1, 1, 1, ..., 0, 0, 0],\n",
      "       [1, 1, 1, ..., 0, 0, 0],\n",
      "       [1, 1, 1, ..., 0, 0, 0]])>, 'input_type_ids': <tf.Tensor: shape=(37500, 70), dtype=int32, numpy=\n",
      "array([[0, 1, 1, ..., 0, 0, 0],\n",
      "       [0, 1, 1, ..., 0, 0, 0],\n",
      "       [0, 1, 1, ..., 0, 0, 0],\n",
      "       ...,\n",
      "       [0, 1, 1, ..., 0, 0, 0],\n",
      "       [0, 1, 1, ..., 0, 0, 0],\n",
      "       [0, 1, 1, ..., 0, 0, 0]])>}\n"
     ]
    }
   ],
   "source": [
    "X_train = bert_encode(x_train, tokenizer, 70)\n",
    "X_test = bert_encode(x_test, tokenizer, 70)\n",
    "print(X_train)"
   ]
  },
  {
   "cell_type": "code",
   "execution_count": 146,
   "id": "loved-mouth",
   "metadata": {},
   "outputs": [
    {
     "name": "stdout",
     "output_type": "stream",
     "text": [
      "tf.Tensor(\n",
      "[ 101 1045 2572 3666 6285 1998 5736 4606 1022 1045 2514 2061 2919 2005\n",
      " 2068  102    0    0    0    0    0    0    0    0    0    0    0    0\n",
      "    0    0    0    0    0    0    0    0    0    0    0    0    0    0\n",
      "    0    0    0    0    0    0    0    0    0    0    0    0    0    0\n",
      "    0    0    0    0    0    0    0    0    0    0    0    0    0    0], shape=(70,), dtype=int32)\n"
     ]
    }
   ],
   "source": [
    "print(X_train['input_word_ids'][6])"
   ]
  },
  {
   "cell_type": "code",
   "execution_count": 152,
   "id": "canadian-produce",
   "metadata": {},
   "outputs": [
    {
     "name": "stdout",
     "output_type": "stream",
     "text": [
      "KerasTensor(type_spec=TensorSpec(shape=(None, 256), dtype=tf.float32, name=None), name='keras_layer_3/StatefulPartitionedCall:3', description=\"created by layer 'keras_layer_3'\")\n",
      "Model: \"model_9\"\n",
      "__________________________________________________________________________________________________\n",
      "Layer (type)                    Output Shape         Param #     Connected to                     \n",
      "==================================================================================================\n",
      "input_mask (InputLayer)         [(None, 70)]         0                                            \n",
      "__________________________________________________________________________________________________\n",
      "input_type_ids (InputLayer)     [(None, 70)]         0                                            \n",
      "__________________________________________________________________________________________________\n",
      "input_word_ids (InputLayer)     [(None, 70)]         0                                            \n",
      "__________________________________________________________________________________________________\n",
      "keras_layer_3 (KerasLayer)      {'default': (None, 2 9591041     input_mask[0][0]                 \n",
      "                                                                 input_type_ids[0][0]             \n",
      "                                                                 input_word_ids[0][0]             \n",
      "__________________________________________________________________________________________________\n",
      "conv1d_17 (Conv1D)              (None, 68, 128)      98432       keras_layer_3[4][4]              \n",
      "__________________________________________________________________________________________________\n",
      "conv1d_18 (Conv1D)              (None, 66, 128)      49280       conv1d_17[0][0]                  \n",
      "__________________________________________________________________________________________________\n",
      "max_pooling1d_6 (MaxPooling1D)  (None, 33, 128)      0           conv1d_18[0][0]                  \n",
      "__________________________________________________________________________________________________\n",
      "conv1d_19 (Conv1D)              (None, 31, 64)       24640       max_pooling1d_6[0][0]            \n",
      "__________________________________________________________________________________________________\n",
      "conv1d_20 (Conv1D)              (None, 29, 16)       3088        conv1d_19[0][0]                  \n",
      "__________________________________________________________________________________________________\n",
      "flatten_3 (Flatten)             (None, 464)          0           conv1d_20[0][0]                  \n",
      "__________________________________________________________________________________________________\n",
      "dense_9 (Dense)                 (None, 2)            930         flatten_3[0][0]                  \n",
      "==================================================================================================\n",
      "Total params: 9,767,411\n",
      "Trainable params: 9,767,410\n",
      "Non-trainable params: 1\n",
      "__________________________________________________________________________________________________\n",
      "True\n"
     ]
    }
   ],
   "source": [
    "import tensorflow as tf\n",
    "\n",
    "def create_model(bert_layer, max_seq_len, num_class):\n",
    "\n",
    "    input_word_ids = tf.keras.layers.Input(shape=(max_seq_len,), dtype=tf.int32, name=\"input_word_ids\")\n",
    "    input_mask = tf.keras.layers.Input(shape=(max_seq_len,), dtype=tf.int32, name=\"input_mask\")\n",
    "    input_type_ids = tf.keras.layers.Input(shape=(max_seq_len,), dtype=tf.int32, name=\"input_type_ids\")\n",
    "\n",
    "    bert_input = {\n",
    "        'input_word_ids': input_word_ids,\n",
    "        'input_mask': input_mask,\n",
    "        'input_type_ids': input_type_ids\n",
    "    }\n",
    "\n",
    "    outputs = bert_layer(bert_input)\n",
    "\n",
    "    pooled_output = outputs['pooled_output']\n",
    "    sequence_output = outputs['sequence_output']\n",
    "\n",
    "    print(pooled_output)\n",
    "\n",
    "    output = tf.keras.layers.Conv1D(filters=128, kernel_size=3, activation='relu')(sequence_output)\n",
    "    output = tf.keras.layers.Conv1D(filters=128, kernel_size=3, activation='relu')(output)\n",
    "    output = tf.keras.layers.MaxPool1D(pool_size=2)(output)\n",
    "    output = tf.keras.layers.Conv1D(filters=64, kernel_size=3, activation='relu')(output)\n",
    "    output = tf.keras.layers.Conv1D(filters=16, kernel_size=3, activation='relu')(output)\n",
    "    output = tf.keras.layers.Flatten()(output)\n",
    "    output = tf.keras.layers.Dense(num_class, activation='softmax')(output)\n",
    "    \n",
    "    model = tf.keras.Model(\n",
    "        inputs={\n",
    "            'input_word_ids': input_word_ids,\n",
    "            'input_mask': input_mask,\n",
    "            'input_type_ids': input_type_ids\n",
    "        },\n",
    "        outputs=output\n",
    "    )\n",
    "\n",
    "    model.summary()\n",
    "\n",
    "    model.compile(\n",
    "        optimizer=tf.keras.optimizers.Adam(learning_rate=0.00005),\n",
    "        loss='categorical_crossentropy',\n",
    "        metrics='accuracy'\n",
    "    )\n",
    "    \n",
    "    return model\n",
    "\n",
    "model_valence = create_model(bert_layer, 70, len(y_train[0]))\n",
    "model_valence.layers[3].trainable = True\n",
    "model_valence.compile(\n",
    "        optimizer=tf.keras.optimizers.Adam(learning_rate=0.00005),\n",
    "        loss='categorical_crossentropy',\n",
    "        metrics='accuracy'\n",
    ")\n",
    "print(model_valence.layers[3].trainable)"
   ]
  },
  {
   "cell_type": "code",
   "execution_count": 153,
   "id": "satisfied-baltimore",
   "metadata": {},
   "outputs": [
    {
     "name": "stdout",
     "output_type": "stream",
     "text": [
      "Epoch 1/2\n",
      "1172/1172 [==============================] - 1209s 1s/step - loss: 0.4379 - accuracy: 0.7959\n",
      "Epoch 2/2\n",
      "1172/1172 [==============================] - 1208s 1s/step - loss: 0.3884 - accuracy: 0.8257\n"
     ]
    }
   ],
   "source": [
    "history_valence = model_valence.fit(\n",
    "    X_train,\n",
    "    y_train,\n",
    "    epochs=2,\n",
    "    verbose=1\n",
    ")"
   ]
  },
  {
   "cell_type": "code",
   "execution_count": 154,
   "id": "official-column",
   "metadata": {},
   "outputs": [
    {
     "name": "stdout",
     "output_type": "stream",
     "text": [
      "391/391 [==============================] - 105s 265ms/step - loss: 0.4038 - accuracy: 0.8215\n"
     ]
    },
    {
     "data": {
      "text/plain": [
       "[0.4038226306438446, 0.8215199708938599]"
      ]
     },
     "execution_count": 154,
     "metadata": {},
     "output_type": "execute_result"
    }
   ],
   "source": [
    "model_valence.evaluate(X_test, y_test)"
   ]
  },
  {
   "cell_type": "code",
   "execution_count": 155,
   "id": "following-transcription",
   "metadata": {},
   "outputs": [
    {
     "name": "stderr",
     "output_type": "stream",
     "text": [
      "WARNING:absl:Found untraced functions such as restored_function_body, restored_function_body, restored_function_body, restored_function_body, restored_function_body while saving (showing 5 of 165). These functions will not be directly callable after loading.\n"
     ]
    },
    {
     "name": "stdout",
     "output_type": "stream",
     "text": [
      "INFO:tensorflow:Assets written to: D:/val_model/valence_model\\assets\n"
     ]
    },
    {
     "name": "stderr",
     "output_type": "stream",
     "text": [
      "INFO:tensorflow:Assets written to: D:/val_model/valence_model\\assets\n"
     ]
    }
   ],
   "source": [
    "model_valence.save('D:/val_model/valence_model')"
   ]
  },
  {
   "cell_type": "code",
   "execution_count": 22,
   "id": "shaped-sacrifice",
   "metadata": {},
   "outputs": [
    {
     "data": {
      "image/png": "[encoded data removed]",
      "text/plain": [
       "<Figure size 1080x360 with 2 Axes>"
      ]
     },
     "metadata": {
      "needs_background": "light"
     },
     "output_type": "display_data"
    }
   ],
   "source": [
    "# previous model\n",
    "import matplotlib.pyplot as plt\n",
    "\n",
    "def show_results(history, subtitle):\n",
    "    metrics_data = [history.history['accuracy'], history.history['loss']]\n",
    "    labels = ['accuracy', 'loss']\n",
    "    fig, axes = plt.subplots(nrows=1, ncols=2, figsize=(15,5))\n",
    "\n",
    "    fig.suptitle(subtitle)\n",
    "\n",
    "    for data, ax, label in zip(metrics_data, axes, labels):\n",
    "        ax.set_xlabel('epochs')\n",
    "        ax.set_ylabel(label)\n",
    "        ax.plot(range(1,2), data)\n",
    "\n",
    "    plt.show()\n",
    "    \n",
    "show_results(history_valence, \"Valence model training\")"
   ]
  },
  {
   "cell_type": "code",
   "execution_count": 23,
   "id": "considerable-flashing",
   "metadata": {},
   "outputs": [
    {
     "name": "stderr",
     "output_type": "stream",
     "text": [
      "WARNING:absl:Found untraced functions such as restored_function_body, restored_function_body, restored_function_body, restored_function_body, restored_function_body while saving (showing 5 of 465). These functions will not be directly callable after loading.\n"
     ]
    },
    {
     "name": "stdout",
     "output_type": "stream",
     "text": [
      "INFO:tensorflow:Assets written to: D:/model_valence_78/valence_model\\assets\n"
     ]
    },
    {
     "name": "stderr",
     "output_type": "stream",
     "text": [
      "INFO:tensorflow:Assets written to: D:/model_valence_78/valence_model\\assets\n"
     ]
    }
   ],
   "source": [
    "#previous model\n",
    "model_valence.save('D:/model_valence_78/valence_model')"
   ]
  },
  {
   "cell_type": "code",
   "execution_count": 24,
   "id": "pointed-peoples",
   "metadata": {},
   "outputs": [
    {
     "name": "stdout",
     "output_type": "stream",
     "text": [
      "Counter({4: 8894, 0: 5851})\n",
      "Counter({0: 8050, 4: 6681})\n",
      "Counter({0: 6701, 4: 6108})\n"
     ]
    }
   ],
   "source": [
    "#previous model\n",
    "from collections import Counter\n",
    "\n",
    "df_mark = valence_df[valence_df.Mark == True]\n",
    "df_mark.head()\n",
    "print(Counter(df_mark.Label))\n",
    "\n",
    "df_caps = valence_df[valence_df.Caps == True]\n",
    "df_caps.head()\n",
    "print(Counter(df_caps.Label))\n",
    "\n",
    "df_letters = valence_df[valence_df.Letters == True]\n",
    "df_letters.head()\n",
    "print(Counter(df_letters.Label))"
   ]
  },
  {
   "cell_type": "code",
   "execution_count": null,
   "id": "advanced-overview",
   "metadata": {},
   "outputs": [],
   "source": []
  }
 ],
 "metadata": {
  "kernelspec": {
   "display_name": "Python 3",
   "language": "python",
   "name": "python3"
  },
  "language_info": {
   "codemirror_mode": {
    "name": "ipython",
    "version": 3
   },
   "file_extension": ".py",
   "mimetype": "text/x-python",
   "name": "python",
   "nbconvert_exporter": "python",
   "pygments_lexer": "ipython3",
   "version": "3.8.0"
  }
 },
 "nbformat": 4,
 "nbformat_minor": 5
}
