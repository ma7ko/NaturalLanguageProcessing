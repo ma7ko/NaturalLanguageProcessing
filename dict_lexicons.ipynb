{
 "cells": [
  {
   "cell_type": "code",
   "execution_count": 10,
   "id": "italian-fusion",
   "metadata": {},
   "outputs": [],
   "source": [
    "from nltk.tokenize import word_tokenize\n",
    "\n",
    "\n",
    "def read_lexicon(lexicon_name): \n",
    "    '''read lexicon from computer\n",
    "        params: lexicon_name\n",
    "        type: string'''\n",
    "    \n",
    "    f = open(f\"{lexicon_name}.txt\",'r')\n",
    "    txt = f.readline()\n",
    "    dict_lex = {}\n",
    "    \n",
    "    while txt != '' :\n",
    "        txt = f.readline()\n",
    "        #print(txt)\n",
    "        if txt == '':\n",
    "            break\n",
    "        \n",
    "        \n",
    "        if lexicon_name == \"NRC-VAD\":\n",
    "            vad_arr = word_tokenize(txt)\n",
    "            if len(vad_arr) > 4:\n",
    "                continue\n",
    "            key = vad_arr[0]\n",
    "            value = vad_arr[1:4]\n",
    "            dict_lex[key] = value\n",
    "            \n",
    "            \n",
    "        if lexicon_name == \"NRC-AffectIntensity\":\n",
    "            nrc_arr = word_tokenize(txt)\n",
    "            #print(nrc_arr)\n",
    "            if len(nrc_arr) > 3:\n",
    "                continue\n",
    "            if len(nrc_arr) > 0:\n",
    "                key = nrc_arr[0]\n",
    "                value = nrc_arr[1:3]\n",
    "                dict_lex[key] = value\n",
    "                \n",
    "        if lexicon_name == \"AFINN-111\":\n",
    "            afinn_arr = word_tokenize(txt)\n",
    "            if len(afinn_arr) > 2:\n",
    "                continue               \n",
    "            key = afinn_arr[0]\n",
    "            value = afinn_arr[1:3]\n",
    "            dict_lex[key] = value\n",
    "            \n",
    "    \n",
    "    return dict_lex"
   ]
  },
  {
   "cell_type": "code",
   "execution_count": null,
   "id": "challenging-generator",
   "metadata": {},
   "outputs": [],
   "source": []
  }
 ],
 "metadata": {
  "kernelspec": {
   "display_name": "Python 3",
   "language": "python",
   "name": "python3"
  },
  "language_info": {
   "codemirror_mode": {
    "name": "ipython",
    "version": 3
   },
   "file_extension": ".py",
   "mimetype": "text/x-python",
   "name": "python",
   "nbconvert_exporter": "python",
   "pygments_lexer": "ipython3",
   "version": "3.8.0"
  }
 },
 "nbformat": 4,
 "nbformat_minor": 5
}
