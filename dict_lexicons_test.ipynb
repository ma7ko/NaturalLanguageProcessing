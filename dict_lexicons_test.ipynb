{
 "cells": [
  {
   "cell_type": "code",
   "execution_count": 2,
   "id": "phantom-stationery",
   "metadata": {},
   "outputs": [
    {
     "name": "stdout",
     "output_type": "stream",
     "text": [
      "Number of words in NRC-VAD: 19874\n",
      "Number of words in NRC-AffectIntentsity: 4193\n",
      "Number of words in AFINN-111: 2461\n"
     ]
    }
   ],
   "source": [
    "from ipynb.fs.full.dict_lexicons import read_lexicon\n",
    "\n",
    "dict_vad = read_lexicon(\"NRC-VAD\")\n",
    "print(\"Number of words in NRC-VAD:\", len(dict_vad))\n",
    "dict_nrc = read_lexicon(\"NRC-AffectIntensity\")\n",
    "print(\"Number of words in NRC-AffectIntentsity:\", len(dict_nrc))\n",
    "dict_nrc = read_lexicon(\"AFINN-111\")\n",
    "print(\"Number of words in AFINN-111:\", len(dict_nrc))"
   ]
  },
  {
   "cell_type": "code",
   "execution_count": null,
   "id": "anticipated-hunter",
   "metadata": {},
   "outputs": [],
   "source": []
  }
 ],
 "metadata": {
  "kernelspec": {
   "display_name": "Python 3",
   "language": "python",
   "name": "python3"
  },
  "language_info": {
   "codemirror_mode": {
    "name": "ipython",
    "version": 3
   },
   "file_extension": ".py",
   "mimetype": "text/x-python",
   "name": "python",
   "nbconvert_exporter": "python",
   "pygments_lexer": "ipython3",
   "version": "3.8.0"
  }
 },
 "nbformat": 4,
 "nbformat_minor": 5
}
