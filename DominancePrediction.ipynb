{
 "cells": [
  {
   "cell_type": "code",
   "execution_count": 1,
   "id": "smooth-reputation",
   "metadata": {},
   "outputs": [
    {
     "name": "stderr",
     "output_type": "stream",
     "text": [
      "[nltk_data] Error loading stopwords: <urlopen error [Errno 11001]\n",
      "[nltk_data]     getaddrinfo failed>\n"
     ]
    }
   ],
   "source": [
    "from ipynb.fs.full.preprocessing_text import PreprocessTweet\n",
    "from ipynb.fs.full.dict_lexicons import read_lexicon\n",
    "from ipynb.fs.full.lexicon_mapping import LexiconMapper, Analyzer\n",
    "from ipynb.fs.full.bert_helper import create_raw_input, pull_bert, get_max_lengths, bert_encode\n",
    "import pandas as pd"
   ]
  },
  {
   "cell_type": "code",
   "execution_count": 2,
   "id": "wireless-drama",
   "metadata": {},
   "outputs": [
    {
     "data": {
      "text/html": [
       "<div>\n",
       "<style scoped>\n",
       "    .dataframe tbody tr th:only-of-type {\n",
       "        vertical-align: middle;\n",
       "    }\n",
       "\n",
       "    .dataframe tbody tr th {\n",
       "        vertical-align: top;\n",
       "    }\n",
       "\n",
       "    .dataframe thead th {\n",
       "        text-align: right;\n",
       "    }\n",
       "</style>\n",
       "<table border=\"1\" class=\"dataframe\">\n",
       "  <thead>\n",
       "    <tr style=\"text-align: right;\">\n",
       "      <th></th>\n",
       "      <th>target</th>\n",
       "      <th>id</th>\n",
       "      <th>date</th>\n",
       "      <th>flag</th>\n",
       "      <th>user</th>\n",
       "      <th>text</th>\n",
       "    </tr>\n",
       "  </thead>\n",
       "  <tbody>\n",
       "    <tr>\n",
       "      <th>0</th>\n",
       "      <td>0</td>\n",
       "      <td>1467810369</td>\n",
       "      <td>Mon Apr 06 22:19:45 PDT 2009</td>\n",
       "      <td>NO_QUERY</td>\n",
       "      <td>_TheSpecialOne_</td>\n",
       "      <td>@switchfoot http://twitpic.com/2y1zl - Awww, t...</td>\n",
       "    </tr>\n",
       "    <tr>\n",
       "      <th>1</th>\n",
       "      <td>0</td>\n",
       "      <td>1467810672</td>\n",
       "      <td>Mon Apr 06 22:19:49 PDT 2009</td>\n",
       "      <td>NO_QUERY</td>\n",
       "      <td>scotthamilton</td>\n",
       "      <td>is upset that he can't update his Facebook by ...</td>\n",
       "    </tr>\n",
       "    <tr>\n",
       "      <th>2</th>\n",
       "      <td>0</td>\n",
       "      <td>1467810917</td>\n",
       "      <td>Mon Apr 06 22:19:53 PDT 2009</td>\n",
       "      <td>NO_QUERY</td>\n",
       "      <td>mattycus</td>\n",
       "      <td>@Kenichan I dived many times for the ball. Man...</td>\n",
       "    </tr>\n",
       "    <tr>\n",
       "      <th>3</th>\n",
       "      <td>0</td>\n",
       "      <td>1467811184</td>\n",
       "      <td>Mon Apr 06 22:19:57 PDT 2009</td>\n",
       "      <td>NO_QUERY</td>\n",
       "      <td>ElleCTF</td>\n",
       "      <td>my whole body feels itchy and like its on fire</td>\n",
       "    </tr>\n",
       "    <tr>\n",
       "      <th>4</th>\n",
       "      <td>0</td>\n",
       "      <td>1467811193</td>\n",
       "      <td>Mon Apr 06 22:19:57 PDT 2009</td>\n",
       "      <td>NO_QUERY</td>\n",
       "      <td>Karoli</td>\n",
       "      <td>@nationwideclass no, it's not behaving at all....</td>\n",
       "    </tr>\n",
       "  </tbody>\n",
       "</table>\n",
       "</div>"
      ],
      "text/plain": [
       "   target          id                          date      flag  \\\n",
       "0       0  1467810369  Mon Apr 06 22:19:45 PDT 2009  NO_QUERY   \n",
       "1       0  1467810672  Mon Apr 06 22:19:49 PDT 2009  NO_QUERY   \n",
       "2       0  1467810917  Mon Apr 06 22:19:53 PDT 2009  NO_QUERY   \n",
       "3       0  1467811184  Mon Apr 06 22:19:57 PDT 2009  NO_QUERY   \n",
       "4       0  1467811193  Mon Apr 06 22:19:57 PDT 2009  NO_QUERY   \n",
       "\n",
       "              user                                               text  \n",
       "0  _TheSpecialOne_  @switchfoot http://twitpic.com/2y1zl - Awww, t...  \n",
       "1    scotthamilton  is upset that he can't update his Facebook by ...  \n",
       "2         mattycus  @Kenichan I dived many times for the ball. Man...  \n",
       "3          ElleCTF    my whole body feels itchy and like its on fire   \n",
       "4           Karoli  @nationwideclass no, it's not behaving at all....  "
      ]
     },
     "execution_count": 2,
     "metadata": {},
     "output_type": "execute_result"
    }
   ],
   "source": [
    "vad_lexicon = read_lexicon('NRC-VAD')\n",
    "df = pd.read_csv(\"D:\\\\Marko\\\\MoviesSentimentAnalysis\\\\140SentimentDataset\\\\training.1600000.processed.noemoticon.csv\", \n",
    "           names = [\n",
    "                    'target',\n",
    "                    'id',\n",
    "                    'date',\n",
    "                    'flag',\n",
    "                    'user',\n",
    "                    'text'\n",
    "                ])\n",
    "df.head()"
   ]
  },
  {
   "cell_type": "code",
   "execution_count": 3,
   "id": "complimentary-franklin",
   "metadata": {},
   "outputs": [
    {
     "data": {
      "text/html": [
       "<div>\n",
       "<style scoped>\n",
       "    .dataframe tbody tr th:only-of-type {\n",
       "        vertical-align: middle;\n",
       "    }\n",
       "\n",
       "    .dataframe tbody tr th {\n",
       "        vertical-align: top;\n",
       "    }\n",
       "\n",
       "    .dataframe thead th {\n",
       "        text-align: right;\n",
       "    }\n",
       "</style>\n",
       "<table border=\"1\" class=\"dataframe\">\n",
       "  <thead>\n",
       "    <tr style=\"text-align: right;\">\n",
       "      <th></th>\n",
       "      <th>label</th>\n",
       "      <th>text</th>\n",
       "    </tr>\n",
       "  </thead>\n",
       "  <tbody>\n",
       "    <tr>\n",
       "      <th>0</th>\n",
       "      <td>0</td>\n",
       "      <td>@switchfoot http://twitpic.com/2y1zl - Awww, t...</td>\n",
       "    </tr>\n",
       "    <tr>\n",
       "      <th>1</th>\n",
       "      <td>0</td>\n",
       "      <td>is upset that he can't update his Facebook by ...</td>\n",
       "    </tr>\n",
       "    <tr>\n",
       "      <th>2</th>\n",
       "      <td>0</td>\n",
       "      <td>@Kenichan I dived many times for the ball. Man...</td>\n",
       "    </tr>\n",
       "    <tr>\n",
       "      <th>3</th>\n",
       "      <td>0</td>\n",
       "      <td>my whole body feels itchy and like its on fire</td>\n",
       "    </tr>\n",
       "    <tr>\n",
       "      <th>4</th>\n",
       "      <td>0</td>\n",
       "      <td>@nationwideclass no, it's not behaving at all....</td>\n",
       "    </tr>\n",
       "  </tbody>\n",
       "</table>\n",
       "</div>"
      ],
      "text/plain": [
       "  label                                               text\n",
       "0     0  @switchfoot http://twitpic.com/2y1zl - Awww, t...\n",
       "1     0  is upset that he can't update his Facebook by ...\n",
       "2     0  @Kenichan I dived many times for the ball. Man...\n",
       "3     0    my whole body feels itchy and like its on fire \n",
       "4     0  @nationwideclass no, it's not behaving at all...."
      ]
     },
     "execution_count": 3,
     "metadata": {},
     "output_type": "execute_result"
    }
   ],
   "source": [
    "xy_df = pd.DataFrame(df.values[:,0:6:5], columns=['label', 'text'])\n",
    "xy_df.head()"
   ]
  },
  {
   "cell_type": "code",
   "execution_count": 4,
   "id": "compressed-brave",
   "metadata": {},
   "outputs": [
    {
     "data": {
      "text/html": [
       "<div>\n",
       "<style scoped>\n",
       "    .dataframe tbody tr th:only-of-type {\n",
       "        vertical-align: middle;\n",
       "    }\n",
       "\n",
       "    .dataframe tbody tr th {\n",
       "        vertical-align: top;\n",
       "    }\n",
       "\n",
       "    .dataframe thead th {\n",
       "        text-align: right;\n",
       "    }\n",
       "</style>\n",
       "<table border=\"1\" class=\"dataframe\">\n",
       "  <thead>\n",
       "    <tr style=\"text-align: right;\">\n",
       "      <th></th>\n",
       "      <th>Label</th>\n",
       "      <th>Tweet</th>\n",
       "      <th>Mark</th>\n",
       "      <th>Caps</th>\n",
       "      <th>Letters</th>\n",
       "    </tr>\n",
       "  </thead>\n",
       "  <tbody>\n",
       "    <tr>\n",
       "      <th>0</th>\n",
       "      <td>0</td>\n",
       "      <td>awww thats a bummer you shoulda got david carr...</td>\n",
       "      <td>False</td>\n",
       "      <td>False</td>\n",
       "      <td>True</td>\n",
       "    </tr>\n",
       "    <tr>\n",
       "      <th>1</th>\n",
       "      <td>0</td>\n",
       "      <td>is upset that he cant update his facebook by t...</td>\n",
       "      <td>True</td>\n",
       "      <td>False</td>\n",
       "      <td>True</td>\n",
       "    </tr>\n",
       "    <tr>\n",
       "      <th>2</th>\n",
       "      <td>0</td>\n",
       "      <td>i dived many times for the ball managed to sav...</td>\n",
       "      <td>False</td>\n",
       "      <td>True</td>\n",
       "      <td>False</td>\n",
       "    </tr>\n",
       "    <tr>\n",
       "      <th>3</th>\n",
       "      <td>0</td>\n",
       "      <td>my whole body feels itchy and like its on fire</td>\n",
       "      <td>False</td>\n",
       "      <td>False</td>\n",
       "      <td>False</td>\n",
       "    </tr>\n",
       "    <tr>\n",
       "      <th>4</th>\n",
       "      <td>0</td>\n",
       "      <td>no its not behaving at all im mad why am i her...</td>\n",
       "      <td>False</td>\n",
       "      <td>True</td>\n",
       "      <td>False</td>\n",
       "    </tr>\n",
       "  </tbody>\n",
       "</table>\n",
       "</div>"
      ],
      "text/plain": [
       "   Label                                              Tweet   Mark   Caps  \\\n",
       "0      0  awww thats a bummer you shoulda got david carr...  False  False   \n",
       "1      0  is upset that he cant update his facebook by t...   True  False   \n",
       "2      0  i dived many times for the ball managed to sav...  False   True   \n",
       "3      0     my whole body feels itchy and like its on fire  False  False   \n",
       "4      0  no its not behaving at all im mad why am i her...  False   True   \n",
       "\n",
       "   Letters  \n",
       "0     True  \n",
       "1     True  \n",
       "2    False  \n",
       "3    False  \n",
       "4    False  "
      ]
     },
     "execution_count": 4,
     "metadata": {},
     "output_type": "execute_result"
    }
   ],
   "source": [
    "preprocessor = PreprocessTweet()\n",
    "preprocessed_df = preprocessor.preprocess_tweets(xy_df, False, True)\n",
    "preprocessed_df.head()"
   ]
  },
  {
   "cell_type": "code",
   "execution_count": 5,
   "id": "organized-passenger",
   "metadata": {},
   "outputs": [
    {
     "data": {
      "text/html": [
       "<div>\n",
       "<style scoped>\n",
       "    .dataframe tbody tr th:only-of-type {\n",
       "        vertical-align: middle;\n",
       "    }\n",
       "\n",
       "    .dataframe tbody tr th {\n",
       "        vertical-align: top;\n",
       "    }\n",
       "\n",
       "    .dataframe thead th {\n",
       "        text-align: right;\n",
       "    }\n",
       "</style>\n",
       "<table border=\"1\" class=\"dataframe\">\n",
       "  <thead>\n",
       "    <tr style=\"text-align: right;\">\n",
       "      <th></th>\n",
       "      <th>label</th>\n",
       "      <th>text</th>\n",
       "      <th>mark</th>\n",
       "      <th>caps</th>\n",
       "      <th>letters</th>\n",
       "      <th>stopwordsx</th>\n",
       "    </tr>\n",
       "  </thead>\n",
       "  <tbody>\n",
       "    <tr>\n",
       "      <th>0</th>\n",
       "      <td>0</td>\n",
       "      <td>awww that s a bummer you shoulda got david car...</td>\n",
       "      <td>False</td>\n",
       "      <td>False</td>\n",
       "      <td>True</td>\n",
       "      <td>awww bummer shoulda got david carr third day</td>\n",
       "    </tr>\n",
       "    <tr>\n",
       "      <th>1</th>\n",
       "      <td>0</td>\n",
       "      <td>is upset that he can t update his facebook by ...</td>\n",
       "      <td>True</td>\n",
       "      <td>False</td>\n",
       "      <td>True</td>\n",
       "      <td>upset update facebook texting might cry result...</td>\n",
       "    </tr>\n",
       "    <tr>\n",
       "      <th>2</th>\n",
       "      <td>0</td>\n",
       "      <td>i dived many times for the ball managed to sav...</td>\n",
       "      <td>False</td>\n",
       "      <td>True</td>\n",
       "      <td>False</td>\n",
       "      <td>dived many times ball managed save rest go bounds</td>\n",
       "    </tr>\n",
       "    <tr>\n",
       "      <th>3</th>\n",
       "      <td>0</td>\n",
       "      <td>my whole body feels itchy and like its on fire</td>\n",
       "      <td>False</td>\n",
       "      <td>False</td>\n",
       "      <td>False</td>\n",
       "      <td>whole body feels itchy like fire</td>\n",
       "    </tr>\n",
       "    <tr>\n",
       "      <th>4</th>\n",
       "      <td>0</td>\n",
       "      <td>no it s not behaving at all i m mad why am i h...</td>\n",
       "      <td>False</td>\n",
       "      <td>True</td>\n",
       "      <td>False</td>\n",
       "      <td>behaving mad see</td>\n",
       "    </tr>\n",
       "  </tbody>\n",
       "</table>\n",
       "</div>"
      ],
      "text/plain": [
       "  label                                               text   mark   caps  \\\n",
       "0     0  awww that s a bummer you shoulda got david car...  False  False   \n",
       "1     0  is upset that he can t update his facebook by ...   True  False   \n",
       "2     0  i dived many times for the ball managed to sav...  False   True   \n",
       "3     0     my whole body feels itchy and like its on fire  False  False   \n",
       "4     0  no it s not behaving at all i m mad why am i h...  False   True   \n",
       "\n",
       "  letters                                         stopwordsx  \n",
       "0    True       awww bummer shoulda got david carr third day  \n",
       "1    True  upset update facebook texting might cry result...  \n",
       "2   False  dived many times ball managed save rest go bounds  \n",
       "3   False                   whole body feels itchy like fire  \n",
       "4   False                                   behaving mad see  "
      ]
     },
     "execution_count": 5,
     "metadata": {},
     "output_type": "execute_result"
    }
   ],
   "source": [
    "preprocessed_stopwords = preprocessor.preprocess_tweets(xy_df, False, False)\n",
    "df_stopwords = preprocessor.remove_stopwords(\\\n",
    "                                             pd.DataFrame(preprocessed_stopwords.values, \\\n",
    "                                             columns = ['label', 'text', 'mark', 'caps', 'letters']))\n",
    "df_stopwords.head()"
   ]
  },
  {
   "cell_type": "code",
   "execution_count": 6,
   "id": "english-capacity",
   "metadata": {},
   "outputs": [],
   "source": [
    "mapper = LexiconMapper()\n",
    "mapped_tweets = mapper.map_tweets(pd.DataFrame(df_stopwords.values[:,5], columns=['text']), vad_lexicon, 2, True)\n",
    "mapped_tweets['original'] = preprocessed_df.values[:,1]\n",
    "mapped_tweets['mark'] = preprocessed_df.values[:,2]\n",
    "mapped_tweets['caps'] = preprocessed_df.values[:,3]\n",
    "mapped_tweets['letters'] = preprocessed_df.values[:,4]"
   ]
  },
  {
   "cell_type": "code",
   "execution_count": 7,
   "id": "lightweight-newark",
   "metadata": {},
   "outputs": [
    {
     "data": {
      "text/html": [
       "<div>\n",
       "<style scoped>\n",
       "    .dataframe tbody tr th:only-of-type {\n",
       "        vertical-align: middle;\n",
       "    }\n",
       "\n",
       "    .dataframe tbody tr th {\n",
       "        vertical-align: top;\n",
       "    }\n",
       "\n",
       "    .dataframe thead th {\n",
       "        text-align: right;\n",
       "    }\n",
       "</style>\n",
       "<table border=\"1\" class=\"dataframe\">\n",
       "  <thead>\n",
       "    <tr style=\"text-align: right;\">\n",
       "      <th></th>\n",
       "      <th>text</th>\n",
       "      <th>mapped</th>\n",
       "      <th>original</th>\n",
       "      <th>mark</th>\n",
       "      <th>caps</th>\n",
       "      <th>letters</th>\n",
       "    </tr>\n",
       "  </thead>\n",
       "  <tbody>\n",
       "    <tr>\n",
       "      <th>0</th>\n",
       "      <td>awww bummer shoulda got david carr third day</td>\n",
       "      <td>[-1, 0.267, -1, -1, -1, 0.5, 0.304, 0.389]</td>\n",
       "      <td>awww thats a bummer you shoulda got david carr...</td>\n",
       "      <td>False</td>\n",
       "      <td>False</td>\n",
       "      <td>True</td>\n",
       "    </tr>\n",
       "    <tr>\n",
       "      <th>1</th>\n",
       "      <td>upset update facebook texting might cry result...</td>\n",
       "      <td>[0.33, 0.802, -1, -1, -1, 0.255, 0.652, 0.633,...</td>\n",
       "      <td>is upset that he cant update his facebook by t...</td>\n",
       "      <td>True</td>\n",
       "      <td>False</td>\n",
       "      <td>True</td>\n",
       "    </tr>\n",
       "    <tr>\n",
       "      <th>2</th>\n",
       "      <td>dived many times ball managed save rest go bounds</td>\n",
       "      <td>[-1, -1, 0.439, 0.317, -1, 0.682, 0.3, 0.444, ...</td>\n",
       "      <td>i dived many times for the ball managed to sav...</td>\n",
       "      <td>False</td>\n",
       "      <td>True</td>\n",
       "      <td>False</td>\n",
       "    </tr>\n",
       "    <tr>\n",
       "      <th>3</th>\n",
       "      <td>whole body feels itchy like fire</td>\n",
       "      <td>[0.572, 0.571, -1, 0.296, 0.446, 0.635]</td>\n",
       "      <td>my whole body feels itchy and like its on fire</td>\n",
       "      <td>False</td>\n",
       "      <td>False</td>\n",
       "      <td>False</td>\n",
       "    </tr>\n",
       "    <tr>\n",
       "      <th>4</th>\n",
       "      <td>behaving mad see</td>\n",
       "      <td>[-1, 0.277, 0.312]</td>\n",
       "      <td>no its not behaving at all im mad why am i her...</td>\n",
       "      <td>False</td>\n",
       "      <td>True</td>\n",
       "      <td>False</td>\n",
       "    </tr>\n",
       "  </tbody>\n",
       "</table>\n",
       "</div>"
      ],
      "text/plain": [
       "                                                text  \\\n",
       "0       awww bummer shoulda got david carr third day   \n",
       "1  upset update facebook texting might cry result...   \n",
       "2  dived many times ball managed save rest go bounds   \n",
       "3                   whole body feels itchy like fire   \n",
       "4                                   behaving mad see   \n",
       "\n",
       "                                              mapped  \\\n",
       "0         [-1, 0.267, -1, -1, -1, 0.5, 0.304, 0.389]   \n",
       "1  [0.33, 0.802, -1, -1, -1, 0.255, 0.652, 0.633,...   \n",
       "2  [-1, -1, 0.439, 0.317, -1, 0.682, 0.3, 0.444, ...   \n",
       "3            [0.572, 0.571, -1, 0.296, 0.446, 0.635]   \n",
       "4                                 [-1, 0.277, 0.312]   \n",
       "\n",
       "                                            original   mark   caps letters  \n",
       "0  awww thats a bummer you shoulda got david carr...  False  False    True  \n",
       "1  is upset that he cant update his facebook by t...   True  False    True  \n",
       "2  i dived many times for the ball managed to sav...  False   True   False  \n",
       "3     my whole body feels itchy and like its on fire  False  False   False  \n",
       "4  no its not behaving at all im mad why am i her...  False   True   False  "
      ]
     },
     "execution_count": 7,
     "metadata": {},
     "output_type": "execute_result"
    }
   ],
   "source": [
    "mapped_tweets.head()"
   ]
  },
  {
   "cell_type": "code",
   "execution_count": 8,
   "id": "associate-hammer",
   "metadata": {},
   "outputs": [
    {
     "name": "stdout",
     "output_type": "stream",
     "text": [
      "1590017\n",
      "1600000\n"
     ]
    }
   ],
   "source": [
    "filtered_nulls = pd.DataFrame([i for i in mapped_tweets.values if len(i[1]) > 0], columns=['text','mapped', 'original', 'mark', 'caps', 'letters'])\n",
    "print(len(filtered_nulls))\n",
    "print(len(mapped_tweets))\n",
    "filtered_nulls = mapper.filter_tweets(filtered_nulls, -1, 0.35)\n",
    "filtered_nulls.head()\n",
    "import copy\n",
    "filtered = copy.deepcopy(filtered_nulls[filtered_nulls.filtered == True])\n",
    "maximums = mapper.get_maximum(filtered.mapped)\n",
    "averages = mapper.get_average(filtered.mapped)"
   ]
  },
  {
   "cell_type": "code",
   "execution_count": 9,
   "id": "typical-surface",
   "metadata": {},
   "outputs": [
    {
     "name": "stdout",
     "output_type": "stream",
     "text": [
      "[0.682, 0.635, 0.312, 0.735, 0.548, 0.508, 0.571, 0.647, 0.7, 0.629]\n",
      "[0.46, 0.5, 0.29, 0.65, 0.37, 0.41, 0.38, 0.51, 0.49, 0.37]\n"
     ]
    },
    {
     "data": {
      "text/html": [
       "<div>\n",
       "<style scoped>\n",
       "    .dataframe tbody tr th:only-of-type {\n",
       "        vertical-align: middle;\n",
       "    }\n",
       "\n",
       "    .dataframe tbody tr th {\n",
       "        vertical-align: top;\n",
       "    }\n",
       "\n",
       "    .dataframe thead th {\n",
       "        text-align: right;\n",
       "    }\n",
       "</style>\n",
       "<table border=\"1\" class=\"dataframe\">\n",
       "  <thead>\n",
       "    <tr style=\"text-align: right;\">\n",
       "      <th></th>\n",
       "      <th>text</th>\n",
       "      <th>mapped</th>\n",
       "      <th>original</th>\n",
       "      <th>mark</th>\n",
       "      <th>caps</th>\n",
       "      <th>letters</th>\n",
       "      <th>filtered</th>\n",
       "      <th>maximums</th>\n",
       "      <th>averages</th>\n",
       "    </tr>\n",
       "  </thead>\n",
       "  <tbody>\n",
       "    <tr>\n",
       "      <th>2</th>\n",
       "      <td>dived many times ball managed save rest go bounds</td>\n",
       "      <td>[-1, -1, 0.439, 0.317, -1, 0.682, 0.3, 0.444, ...</td>\n",
       "      <td>i dived many times for the ball managed to sav...</td>\n",
       "      <td>False</td>\n",
       "      <td>True</td>\n",
       "      <td>False</td>\n",
       "      <td>True</td>\n",
       "      <td>0.682</td>\n",
       "      <td>0.46</td>\n",
       "    </tr>\n",
       "    <tr>\n",
       "      <th>3</th>\n",
       "      <td>whole body feels itchy like fire</td>\n",
       "      <td>[0.572, 0.571, -1, 0.296, 0.446, 0.635]</td>\n",
       "      <td>my whole body feels itchy and like its on fire</td>\n",
       "      <td>False</td>\n",
       "      <td>False</td>\n",
       "      <td>False</td>\n",
       "      <td>True</td>\n",
       "      <td>0.635</td>\n",
       "      <td>0.50</td>\n",
       "    </tr>\n",
       "    <tr>\n",
       "      <th>4</th>\n",
       "      <td>behaving mad see</td>\n",
       "      <td>[-1, 0.277, 0.312]</td>\n",
       "      <td>no its not behaving at all im mad why am i her...</td>\n",
       "      <td>False</td>\n",
       "      <td>True</td>\n",
       "      <td>False</td>\n",
       "      <td>True</td>\n",
       "      <td>0.312</td>\n",
       "      <td>0.29</td>\n",
       "    </tr>\n",
       "    <tr>\n",
       "      <th>5</th>\n",
       "      <td>whole crew</td>\n",
       "      <td>[0.572, 0.735]</td>\n",
       "      <td>not the whole crew</td>\n",
       "      <td>False</td>\n",
       "      <td>False</td>\n",
       "      <td>False</td>\n",
       "      <td>True</td>\n",
       "      <td>0.735</td>\n",
       "      <td>0.65</td>\n",
       "    </tr>\n",
       "    <tr>\n",
       "      <th>6</th>\n",
       "      <td>need hug</td>\n",
       "      <td>[0.2, 0.548]</td>\n",
       "      <td>need a hug</td>\n",
       "      <td>False</td>\n",
       "      <td>False</td>\n",
       "      <td>False</td>\n",
       "      <td>True</td>\n",
       "      <td>0.548</td>\n",
       "      <td>0.37</td>\n",
       "    </tr>\n",
       "  </tbody>\n",
       "</table>\n",
       "</div>"
      ],
      "text/plain": [
       "                                                text  \\\n",
       "2  dived many times ball managed save rest go bounds   \n",
       "3                   whole body feels itchy like fire   \n",
       "4                                   behaving mad see   \n",
       "5                                         whole crew   \n",
       "6                                           need hug   \n",
       "\n",
       "                                              mapped  \\\n",
       "2  [-1, -1, 0.439, 0.317, -1, 0.682, 0.3, 0.444, ...   \n",
       "3            [0.572, 0.571, -1, 0.296, 0.446, 0.635]   \n",
       "4                                 [-1, 0.277, 0.312]   \n",
       "5                                     [0.572, 0.735]   \n",
       "6                                       [0.2, 0.548]   \n",
       "\n",
       "                                            original   mark   caps  letters  \\\n",
       "2  i dived many times for the ball managed to sav...  False   True    False   \n",
       "3     my whole body feels itchy and like its on fire  False  False    False   \n",
       "4  no its not behaving at all im mad why am i her...  False   True    False   \n",
       "5                                 not the whole crew  False  False    False   \n",
       "6                                         need a hug  False  False    False   \n",
       "\n",
       "   filtered  maximums  averages  \n",
       "2      True     0.682      0.46  \n",
       "3      True     0.635      0.50  \n",
       "4      True     0.312      0.29  \n",
       "5      True     0.735      0.65  \n",
       "6      True     0.548      0.37  "
      ]
     },
     "execution_count": 9,
     "metadata": {},
     "output_type": "execute_result"
    }
   ],
   "source": [
    "print(maximums[:10])\n",
    "print(averages[:10])\n",
    "filtered['maximums'] = maximums\n",
    "filtered['averages'] = averages\n",
    "filtered.head()"
   ]
  },
  {
   "cell_type": "code",
   "execution_count": 15,
   "id": "enabling-producer",
   "metadata": {},
   "outputs": [
    {
     "name": "stdout",
     "output_type": "stream",
     "text": [
      "Counter({0.02: 147245, 0.0: 140374, 0.01: 128336, 0.03: 119783, 0.04: 74333, 0.05: 40933, 0.06: 21532, 0.07: 11427, 0.08: 6620, 0.09: 3882, 0.1: 2377, 0.11: 1511, 0.12: 1077, 0.13: 712, 0.14: 425, 0.15: 397, 0.16: 244, 0.17: 147, 0.19: 114, 0.18: 109, 0.2: 98, 0.21: 48, 0.24: 36, 0.23: 34, 0.22: 33, 0.27: 14, 0.25: 14, 0.26: 9, 0.29: 5, 0.28: 4, 0.3: 4, 0.32: 3, 0.35: 1})\n"
     ]
    },
    {
     "data": {
      "text/html": [
       "<div>\n",
       "<style scoped>\n",
       "    .dataframe tbody tr th:only-of-type {\n",
       "        vertical-align: middle;\n",
       "    }\n",
       "\n",
       "    .dataframe tbody tr th {\n",
       "        vertical-align: top;\n",
       "    }\n",
       "\n",
       "    .dataframe thead th {\n",
       "        text-align: right;\n",
       "    }\n",
       "</style>\n",
       "<table border=\"1\" class=\"dataframe\">\n",
       "  <thead>\n",
       "    <tr style=\"text-align: right;\">\n",
       "      <th></th>\n",
       "      <th>text</th>\n",
       "      <th>mapped</th>\n",
       "      <th>original</th>\n",
       "      <th>mark</th>\n",
       "      <th>caps</th>\n",
       "      <th>letters</th>\n",
       "      <th>filtered</th>\n",
       "      <th>maximums</th>\n",
       "      <th>averages</th>\n",
       "      <th>avg_labels</th>\n",
       "      <th>max_labels</th>\n",
       "      <th>variance</th>\n",
       "    </tr>\n",
       "  </thead>\n",
       "  <tbody>\n",
       "    <tr>\n",
       "      <th>2</th>\n",
       "      <td>dived many times ball managed save rest go bounds</td>\n",
       "      <td>[-1, -1, 0.439, 0.317, -1, 0.682, 0.3, 0.444, ...</td>\n",
       "      <td>i dived many times for the ball managed to sav...</td>\n",
       "      <td>False</td>\n",
       "      <td>True</td>\n",
       "      <td>False</td>\n",
       "      <td>True</td>\n",
       "      <td>0.682</td>\n",
       "      <td>0.46</td>\n",
       "      <td>medium</td>\n",
       "      <td>medium</td>\n",
       "      <td>0.02</td>\n",
       "    </tr>\n",
       "    <tr>\n",
       "      <th>3</th>\n",
       "      <td>whole body feels itchy like fire</td>\n",
       "      <td>[0.572, 0.571, -1, 0.296, 0.446, 0.635]</td>\n",
       "      <td>my whole body feels itchy and like its on fire</td>\n",
       "      <td>False</td>\n",
       "      <td>False</td>\n",
       "      <td>False</td>\n",
       "      <td>True</td>\n",
       "      <td>0.635</td>\n",
       "      <td>0.50</td>\n",
       "      <td>medium</td>\n",
       "      <td>medium</td>\n",
       "      <td>0.02</td>\n",
       "    </tr>\n",
       "    <tr>\n",
       "      <th>4</th>\n",
       "      <td>behaving mad see</td>\n",
       "      <td>[-1, 0.277, 0.312]</td>\n",
       "      <td>no its not behaving at all im mad why am i her...</td>\n",
       "      <td>False</td>\n",
       "      <td>True</td>\n",
       "      <td>False</td>\n",
       "      <td>True</td>\n",
       "      <td>0.312</td>\n",
       "      <td>0.29</td>\n",
       "      <td>low</td>\n",
       "      <td>low</td>\n",
       "      <td>0.00</td>\n",
       "    </tr>\n",
       "    <tr>\n",
       "      <th>5</th>\n",
       "      <td>whole crew</td>\n",
       "      <td>[0.572, 0.735]</td>\n",
       "      <td>not the whole crew</td>\n",
       "      <td>False</td>\n",
       "      <td>False</td>\n",
       "      <td>False</td>\n",
       "      <td>True</td>\n",
       "      <td>0.735</td>\n",
       "      <td>0.65</td>\n",
       "      <td>medium</td>\n",
       "      <td>medium</td>\n",
       "      <td>0.00</td>\n",
       "    </tr>\n",
       "    <tr>\n",
       "      <th>6</th>\n",
       "      <td>need hug</td>\n",
       "      <td>[0.2, 0.548]</td>\n",
       "      <td>need a hug</td>\n",
       "      <td>False</td>\n",
       "      <td>False</td>\n",
       "      <td>False</td>\n",
       "      <td>True</td>\n",
       "      <td>0.548</td>\n",
       "      <td>0.37</td>\n",
       "      <td>medium</td>\n",
       "      <td>medium</td>\n",
       "      <td>0.00</td>\n",
       "    </tr>\n",
       "  </tbody>\n",
       "</table>\n",
       "</div>"
      ],
      "text/plain": [
       "                                                text  \\\n",
       "2  dived many times ball managed save rest go bounds   \n",
       "3                   whole body feels itchy like fire   \n",
       "4                                   behaving mad see   \n",
       "5                                         whole crew   \n",
       "6                                           need hug   \n",
       "\n",
       "                                              mapped  \\\n",
       "2  [-1, -1, 0.439, 0.317, -1, 0.682, 0.3, 0.444, ...   \n",
       "3            [0.572, 0.571, -1, 0.296, 0.446, 0.635]   \n",
       "4                                 [-1, 0.277, 0.312]   \n",
       "5                                     [0.572, 0.735]   \n",
       "6                                       [0.2, 0.548]   \n",
       "\n",
       "                                            original   mark   caps  letters  \\\n",
       "2  i dived many times for the ball managed to sav...  False   True    False   \n",
       "3     my whole body feels itchy and like its on fire  False  False    False   \n",
       "4  no its not behaving at all im mad why am i her...  False   True    False   \n",
       "5                                 not the whole crew  False  False    False   \n",
       "6                                         need a hug  False  False    False   \n",
       "\n",
       "   filtered  maximums  averages avg_labels max_labels  variance  \n",
       "2      True     0.682      0.46     medium     medium      0.02  \n",
       "3      True     0.635      0.50     medium     medium      0.02  \n",
       "4      True     0.312      0.29        low        low      0.00  \n",
       "5      True     0.735      0.65     medium     medium      0.00  \n",
       "6      True     0.548      0.37     medium     medium      0.00  "
      ]
     },
     "execution_count": 15,
     "metadata": {},
     "output_type": "execute_result"
    }
   ],
   "source": [
    "from collections import Counter\n",
    "variances = []\n",
    "for i in filtered.values:\n",
    "    if len(i[1]) < 3:\n",
    "        variances.append(0)\n",
    "        continue\n",
    "    variance = 0\n",
    "    elms = 0\n",
    "    for j in i[1]:\n",
    "        if j != -1:\n",
    "            variance = variance + (abs((j - i[8])) * abs((j - i[8])))\n",
    "            elms = elms + 1\n",
    "    variances.append(round(variance/(elms-1),2))\n",
    "print(Counter(variances))\n",
    "filtered['variance'] = variances\n",
    "filtered.head()"
   ]
  },
  {
   "cell_type": "code",
   "execution_count": 17,
   "id": "backed-orleans",
   "metadata": {},
   "outputs": [
    {
     "name": "stdout",
     "output_type": "stream",
     "text": [
      "(79243, 650607, 51274)\n",
      "(27836, 669953, 31928)\n"
     ]
    }
   ],
   "source": [
    "analyzer = Analyzer()\n",
    "analyze_avg = analyzer.labels_distribution(averages, 0.33, 0.66)\n",
    "analyze_max = analyzer.labels_distribution(maximums, 0.5, 0.85)\n",
    "\n",
    "print(analyze_max)\n",
    "print(analyze_avg)\n",
    "\n",
    "min_sample_max = min(analyze_max)\n",
    "min_sample_avg = min(analyze_avg)"
   ]
  },
  {
   "cell_type": "code",
   "execution_count": 18,
   "id": "atlantic-necklace",
   "metadata": {},
   "outputs": [
    {
     "data": {
      "image/png": "[encoded data removed]",
      "text/plain": [
       "<Figure size 2160x720 with 2 Axes>"
      ]
     },
     "metadata": {
      "needs_background": "light"
     },
     "output_type": "display_data"
    }
   ],
   "source": [
    "from collections import Counter\n",
    "import matplotlib.pyplot as plt\n",
    "\n",
    "def visualize(aggregate):\n",
    "    d_a = {\"0.1\": 0, \"0.2\": 0, \"0.3\": 0, \"0.4\": 0, \"0.5\":0, \"0.6\": 0, \"0.7\": 0, \"0.8\": 0, \"0.9\": 0, \"1.0\":0}\n",
    "    for j in aggregate:\n",
    "        if j > 0 and j < 0.1:\n",
    "            d_a[\"0.1\"] = d_a[\"0.1\"] + 1\n",
    "        if j >= 0.1 and j < 0.2:\n",
    "            d_a[\"0.2\"] = d_a[\"0.2\"] + 1\n",
    "        elif j >= 0.2 and j < 0.3:\n",
    "            d_a[\"0.3\"] = d_a[\"0.3\"] + 1\n",
    "        elif j >= 0.3 and j < 0.4:\n",
    "            d_a[\"0.4\"] = d_a[\"0.4\"] + 1\n",
    "        elif j >= 0.4 and j < 0.5:\n",
    "            d_a[\"0.5\"] = d_a[\"0.5\"] + 1\n",
    "        elif j >= 0.5 and j < 0.6:\n",
    "            d_a[\"0.6\"] = d_a[\"0.6\"] + 1\n",
    "        elif j >= 0.6 and j < 0.7:\n",
    "            d_a[\"0.7\"] = d_a[\"0.7\"] + 1\n",
    "        elif j >= 0.7 and j < 0.8:\n",
    "            d_a[\"0.8\"] = d_a[\"0.8\"] + 1\n",
    "        elif j >= 0.8 and j < 0.9:\n",
    "            d_a[\"0.9\"] = d_a[\"0.9\"] + 1\n",
    "        else:\n",
    "            d_a[\"1.0\"] = d_a[\"1.0\"] + 1\n",
    "    return d_a\n",
    "data = [visualize(averages), visualize(maximums)]\n",
    "titles = ['Averages', 'Maximums']\n",
    "fig, axes = plt.subplots(nrows=1,ncols=2,figsize=(30,10))\n",
    "for i, ax, title in zip(data, axes, titles):\n",
    "    ax.set_title(title, size=25)\n",
    "    ax.bar([k for k in i.keys()], i.values())\n",
    "plt.show()"
   ]
  },
  {
   "cell_type": "code",
   "execution_count": 19,
   "id": "smoking-forward",
   "metadata": {},
   "outputs": [],
   "source": [
    "lens = analyzer.get_length_statistics(filtered)"
   ]
  },
  {
   "cell_type": "code",
   "execution_count": 20,
   "id": "norman-kenya",
   "metadata": {},
   "outputs": [
    {
     "data": {
      "text/plain": [
       "<BarContainer object of 27 artists>"
      ]
     },
     "execution_count": 20,
     "metadata": {},
     "output_type": "execute_result"
    },
    {
     "data": {
      "image/png": "[encoded data removed]",
      "text/plain": [
       "<Figure size 432x288 with 1 Axes>"
      ]
     },
     "metadata": {
      "needs_background": "light"
     },
     "output_type": "display_data"
    }
   ],
   "source": [
    "import matplotlib.pyplot as plt\n",
    "\n",
    "plt.title(\"Number of words in a tweet\", size=15)\n",
    "plt.bar([k for k in lens.keys()], lens.values())"
   ]
  },
  {
   "cell_type": "code",
   "execution_count": 28,
   "id": "roman-claim",
   "metadata": {},
   "outputs": [
    {
     "data": {
      "text/html": [
       "<div>\n",
       "<style scoped>\n",
       "    .dataframe tbody tr th:only-of-type {\n",
       "        vertical-align: middle;\n",
       "    }\n",
       "\n",
       "    .dataframe tbody tr th {\n",
       "        vertical-align: top;\n",
       "    }\n",
       "\n",
       "    .dataframe thead th {\n",
       "        text-align: right;\n",
       "    }\n",
       "</style>\n",
       "<table border=\"1\" class=\"dataframe\">\n",
       "  <thead>\n",
       "    <tr style=\"text-align: right;\">\n",
       "      <th></th>\n",
       "      <th>text</th>\n",
       "      <th>mapped</th>\n",
       "      <th>original</th>\n",
       "      <th>mark</th>\n",
       "      <th>caps</th>\n",
       "      <th>letters</th>\n",
       "      <th>filtered</th>\n",
       "      <th>maximums</th>\n",
       "      <th>averages</th>\n",
       "      <th>variance</th>\n",
       "      <th>avg_labels</th>\n",
       "      <th>max_labels</th>\n",
       "    </tr>\n",
       "  </thead>\n",
       "  <tbody>\n",
       "    <tr>\n",
       "      <th>2</th>\n",
       "      <td>dived many times ball managed save rest go bounds</td>\n",
       "      <td>[-1, -1, 0.439, 0.317, -1, 0.682, 0.3, 0.444, ...</td>\n",
       "      <td>i dived many times for the ball managed to sav...</td>\n",
       "      <td>False</td>\n",
       "      <td>True</td>\n",
       "      <td>False</td>\n",
       "      <td>True</td>\n",
       "      <td>0.682</td>\n",
       "      <td>0.46</td>\n",
       "      <td>0.02</td>\n",
       "      <td>medium</td>\n",
       "      <td>none</td>\n",
       "    </tr>\n",
       "    <tr>\n",
       "      <th>3</th>\n",
       "      <td>whole body feels itchy like fire</td>\n",
       "      <td>[0.572, 0.571, -1, 0.296, 0.446, 0.635]</td>\n",
       "      <td>my whole body feels itchy and like its on fire</td>\n",
       "      <td>False</td>\n",
       "      <td>False</td>\n",
       "      <td>False</td>\n",
       "      <td>True</td>\n",
       "      <td>0.635</td>\n",
       "      <td>0.50</td>\n",
       "      <td>0.02</td>\n",
       "      <td>medium</td>\n",
       "      <td>medium</td>\n",
       "    </tr>\n",
       "    <tr>\n",
       "      <th>4</th>\n",
       "      <td>behaving mad see</td>\n",
       "      <td>[-1, 0.277, 0.312]</td>\n",
       "      <td>no its not behaving at all im mad why am i her...</td>\n",
       "      <td>False</td>\n",
       "      <td>True</td>\n",
       "      <td>False</td>\n",
       "      <td>True</td>\n",
       "      <td>0.312</td>\n",
       "      <td>0.29</td>\n",
       "      <td>0.00</td>\n",
       "      <td>low</td>\n",
       "      <td>low</td>\n",
       "    </tr>\n",
       "    <tr>\n",
       "      <th>5</th>\n",
       "      <td>whole crew</td>\n",
       "      <td>[0.572, 0.735]</td>\n",
       "      <td>not the whole crew</td>\n",
       "      <td>False</td>\n",
       "      <td>False</td>\n",
       "      <td>False</td>\n",
       "      <td>True</td>\n",
       "      <td>0.735</td>\n",
       "      <td>0.65</td>\n",
       "      <td>0.00</td>\n",
       "      <td>none</td>\n",
       "      <td>none</td>\n",
       "    </tr>\n",
       "    <tr>\n",
       "      <th>6</th>\n",
       "      <td>need hug</td>\n",
       "      <td>[0.2, 0.548]</td>\n",
       "      <td>need a hug</td>\n",
       "      <td>False</td>\n",
       "      <td>False</td>\n",
       "      <td>False</td>\n",
       "      <td>True</td>\n",
       "      <td>0.548</td>\n",
       "      <td>0.37</td>\n",
       "      <td>0.00</td>\n",
       "      <td>none</td>\n",
       "      <td>none</td>\n",
       "    </tr>\n",
       "  </tbody>\n",
       "</table>\n",
       "</div>"
      ],
      "text/plain": [
       "                                                text  \\\n",
       "2  dived many times ball managed save rest go bounds   \n",
       "3                   whole body feels itchy like fire   \n",
       "4                                   behaving mad see   \n",
       "5                                         whole crew   \n",
       "6                                           need hug   \n",
       "\n",
       "                                              mapped  \\\n",
       "2  [-1, -1, 0.439, 0.317, -1, 0.682, 0.3, 0.444, ...   \n",
       "3            [0.572, 0.571, -1, 0.296, 0.446, 0.635]   \n",
       "4                                 [-1, 0.277, 0.312]   \n",
       "5                                     [0.572, 0.735]   \n",
       "6                                       [0.2, 0.548]   \n",
       "\n",
       "                                            original   mark   caps  letters  \\\n",
       "2  i dived many times for the ball managed to sav...  False   True    False   \n",
       "3     my whole body feels itchy and like its on fire  False  False    False   \n",
       "4  no its not behaving at all im mad why am i her...  False   True    False   \n",
       "5                                 not the whole crew  False  False    False   \n",
       "6                                         need a hug  False  False    False   \n",
       "\n",
       "   filtered  maximums  averages  variance avg_labels max_labels  \n",
       "2      True     0.682      0.46      0.02     medium       none  \n",
       "3      True     0.635      0.50      0.02     medium     medium  \n",
       "4      True     0.312      0.29      0.00        low        low  \n",
       "5      True     0.735      0.65      0.00       none       none  \n",
       "6      True     0.548      0.37      0.00       none       none  "
      ]
     },
     "execution_count": 28,
     "metadata": {},
     "output_type": "execute_result"
    }
   ],
   "source": [
    "def add_labels(tweets, index, low_bound, mlower_bound, mupper_bound, high_bound):\n",
    "    classes = []\n",
    "    for i in tweets.values[:,index]:\n",
    "        if i >= high_bound:\n",
    "            classes.append(\"high\")\n",
    "        elif i <= low_bound and i > 0:\n",
    "            classes.append(\"low\")\n",
    "        elif i > mlower_bound and i < mupper_bound:\n",
    "            classes.append(\"medium\")\n",
    "        else:\n",
    "            classes.append(\"none\")\n",
    "        \n",
    "    tweets['values'] = classes\n",
    "        \n",
    "    return tweets\n",
    "\n",
    "filtered = add_labels(filtered, 8, 0.3, 0.4, 0.55, 0.7)\n",
    "filtered.head()\n",
    "filtered.columns=['text', 'mapped', 'original', 'mark', 'caps', 'letters', 'filtered', 'maximums', 'averages', 'variance', 'avg_labels']\n",
    "filtered = add_labels(filtered, 7, 0.4, 0.55, 0.65, 0.8)\n",
    "filtered.columns=['text', 'mapped', 'original', 'mark', 'caps', 'letters', 'filtered', 'maximums', 'averages', 'variance', 'avg_labels', 'max_labels']\n",
    "filtered.head()\n",
    "#filtered = filtered.drop(['avg_labels', 'max_labels'], axis = 1)"
   ]
  },
  {
   "cell_type": "code",
   "execution_count": 29,
   "id": "geographic-shopper",
   "metadata": {},
   "outputs": [
    {
     "name": "stderr",
     "output_type": "stream",
     "text": [
      "<ipython-input-29-91416567776d>:1: UserWarning: Boolean Series key will be reindexed to match DataFrame index.\n",
      "  new_filtered = filtered[filtered.variance < 0.07][filtered.variance > 0]\n"
     ]
    },
    {
     "name": "stdout",
     "output_type": "stream",
     "text": [
      "7190\n"
     ]
    },
    {
     "data": {
      "image/png": "[encoded data removed]",
      "text/plain": [
       "<Figure size 432x288 with 1 Axes>"
      ]
     },
     "metadata": {
      "needs_background": "light"
     },
     "output_type": "display_data"
    }
   ],
   "source": [
    "new_filtered = filtered[filtered.variance < 0.07][filtered.variance > 0]\n",
    "new_filtered = new_filtered[new_filtered.avg_labels != 'none']\n",
    "new_filtered.head()\n",
    "print(len(new_filtered[new_filtered.avg_labels == \"high\"]))\n",
    "filtered_new_lens = analyzer.get_length_statistics(new_filtered)\n",
    "\n",
    "plt.bar([k for k in filtered_new_lens.keys()], filtered_new_lens.values())\n",
    "plt.show()"
   ]
  },
  {
   "cell_type": "code",
   "execution_count": 48,
   "id": "through-application",
   "metadata": {},
   "outputs": [
    {
     "name": "stderr",
     "output_type": "stream",
     "text": [
      "<ipython-input-48-231dc4d72e33>:3: UserWarning: Boolean Series key will be reindexed to match DataFrame index.\n",
      "  df_low = df[df[attr] == 'low'][df.maximums < 0.5]\n",
      "<ipython-input-48-231dc4d72e33>:4: UserWarning: Boolean Series key will be reindexed to match DataFrame index.\n",
      "  df_med = df[df[attr] == 'medium'][df.maximums < 0.65]\n",
      "<ipython-input-48-231dc4d72e33>:3: UserWarning: Boolean Series key will be reindexed to match DataFrame index.\n",
      "  df_low = df[df[attr] == 'low'][df.maximums < 0.5]\n",
      "<ipython-input-48-231dc4d72e33>:4: UserWarning: Boolean Series key will be reindexed to match DataFrame index.\n",
      "  df_med = df[df[attr] == 'medium'][df.maximums < 0.65]\n"
     ]
    },
    {
     "name": "stdout",
     "output_type": "stream",
     "text": [
      "(9000, 12)\n",
      "(19500, 12)\n"
     ]
    },
    {
     "data": {
      "text/html": [
       "<div>\n",
       "<style scoped>\n",
       "    .dataframe tbody tr th:only-of-type {\n",
       "        vertical-align: middle;\n",
       "    }\n",
       "\n",
       "    .dataframe tbody tr th {\n",
       "        vertical-align: top;\n",
       "    }\n",
       "\n",
       "    .dataframe thead th {\n",
       "        text-align: right;\n",
       "    }\n",
       "</style>\n",
       "<table border=\"1\" class=\"dataframe\">\n",
       "  <thead>\n",
       "    <tr style=\"text-align: right;\">\n",
       "      <th></th>\n",
       "      <th>text</th>\n",
       "      <th>mapped</th>\n",
       "      <th>original</th>\n",
       "      <th>mark</th>\n",
       "      <th>caps</th>\n",
       "      <th>letters</th>\n",
       "      <th>filtered</th>\n",
       "      <th>maximums</th>\n",
       "      <th>averages</th>\n",
       "      <th>variance</th>\n",
       "      <th>avg_labels</th>\n",
       "      <th>max_labels</th>\n",
       "    </tr>\n",
       "  </thead>\n",
       "  <tbody>\n",
       "    <tr>\n",
       "      <th>598548</th>\n",
       "      <td>another slow day</td>\n",
       "      <td>[-1, 0.131, 0.389]</td>\n",
       "      <td>another slow day</td>\n",
       "      <td>False</td>\n",
       "      <td>False</td>\n",
       "      <td>False</td>\n",
       "      <td>True</td>\n",
       "      <td>0.389</td>\n",
       "      <td>0.26</td>\n",
       "      <td>0.03</td>\n",
       "      <td>low</td>\n",
       "      <td>low</td>\n",
       "    </tr>\n",
       "    <tr>\n",
       "      <th>451705</th>\n",
       "      <td>tummy hurts bad</td>\n",
       "      <td>[0.23, -1, 0.373]</td>\n",
       "      <td>my tummy hurts so bad</td>\n",
       "      <td>False</td>\n",
       "      <td>False</td>\n",
       "      <td>False</td>\n",
       "      <td>True</td>\n",
       "      <td>0.373</td>\n",
       "      <td>0.30</td>\n",
       "      <td>0.01</td>\n",
       "      <td>low</td>\n",
       "      <td>low</td>\n",
       "    </tr>\n",
       "    <tr>\n",
       "      <th>669056</th>\n",
       "      <td>poor michelle orange legs</td>\n",
       "      <td>[0.087, -1, 0.296, 0.228]</td>\n",
       "      <td>poor michelles orange legs</td>\n",
       "      <td>False</td>\n",
       "      <td>False</td>\n",
       "      <td>False</td>\n",
       "      <td>True</td>\n",
       "      <td>0.296</td>\n",
       "      <td>0.20</td>\n",
       "      <td>0.01</td>\n",
       "      <td>low</td>\n",
       "      <td>low</td>\n",
       "    </tr>\n",
       "    <tr>\n",
       "      <th>394925</th>\n",
       "      <td>ear hurts still stupid fucking cold</td>\n",
       "      <td>[0.231, -1, -1, 0.2, 0.39, 0.348]</td>\n",
       "      <td>my ear hurts i still have this stupid fucking ...</td>\n",
       "      <td>False</td>\n",
       "      <td>True</td>\n",
       "      <td>False</td>\n",
       "      <td>True</td>\n",
       "      <td>0.390</td>\n",
       "      <td>0.29</td>\n",
       "      <td>0.01</td>\n",
       "      <td>low</td>\n",
       "      <td>low</td>\n",
       "    </tr>\n",
       "    <tr>\n",
       "      <th>503136</th>\n",
       "      <td>seriously need sleep</td>\n",
       "      <td>[-1, 0.2, 0.339]</td>\n",
       "      <td>seriously i need sleep</td>\n",
       "      <td>False</td>\n",
       "      <td>False</td>\n",
       "      <td>False</td>\n",
       "      <td>True</td>\n",
       "      <td>0.339</td>\n",
       "      <td>0.27</td>\n",
       "      <td>0.01</td>\n",
       "      <td>low</td>\n",
       "      <td>low</td>\n",
       "    </tr>\n",
       "  </tbody>\n",
       "</table>\n",
       "</div>"
      ],
      "text/plain": [
       "                                       text  \\\n",
       "598548                     another slow day   \n",
       "451705                      tummy hurts bad   \n",
       "669056            poor michelle orange legs   \n",
       "394925  ear hurts still stupid fucking cold   \n",
       "503136                 seriously need sleep   \n",
       "\n",
       "                                   mapped  \\\n",
       "598548                 [-1, 0.131, 0.389]   \n",
       "451705                  [0.23, -1, 0.373]   \n",
       "669056          [0.087, -1, 0.296, 0.228]   \n",
       "394925  [0.231, -1, -1, 0.2, 0.39, 0.348]   \n",
       "503136                   [-1, 0.2, 0.339]   \n",
       "\n",
       "                                                 original   mark   caps  \\\n",
       "598548                                   another slow day  False  False   \n",
       "451705                              my tummy hurts so bad  False  False   \n",
       "669056                         poor michelles orange legs  False  False   \n",
       "394925  my ear hurts i still have this stupid fucking ...  False   True   \n",
       "503136                             seriously i need sleep  False  False   \n",
       "\n",
       "        letters  filtered  maximums  averages  variance avg_labels max_labels  \n",
       "598548    False      True     0.389      0.26      0.03        low        low  \n",
       "451705    False      True     0.373      0.30      0.01        low        low  \n",
       "669056    False      True     0.296      0.20      0.01        low        low  \n",
       "394925    False      True     0.390      0.29      0.01        low        low  \n",
       "503136    False      True     0.339      0.27      0.01        low        low  "
      ]
     },
     "execution_count": 48,
     "metadata": {},
     "output_type": "execute_result"
    }
   ],
   "source": [
    "def get_even_distribution(df, attr, min_sample_size):\n",
    "    \n",
    "    df_low = df[df[attr] == 'low'][df.maximums < 0.5]\n",
    "    df_med = df[df[attr] == 'medium'][df.maximums < 0.65]\n",
    "    low_df = mapper.get_sample(df_low, df_low[attr], \"low\", min_sample_size)\n",
    "    med_df = mapper.get_sample(df_med, df_med[attr], \"medium\", min_sample_size)\n",
    "    high_df = mapper.get_sample(df, df[attr], \"high\", min_sample_size)\n",
    "    \n",
    "    distr_df = pd.concat([low_df, med_df, high_df])\n",
    "    return distr_df\n",
    "\n",
    "avg_df = get_even_distribution(new_filtered, 'avg_labels', 6500)\n",
    "max_df = get_even_distribution(new_filtered, 'max_labels', 3000)\n",
    "print(max_df.shape)\n",
    "print(avg_df.shape)\n",
    "max_df.head()"
   ]
  },
  {
   "cell_type": "code",
   "execution_count": 49,
   "id": "necessary-kruger",
   "metadata": {},
   "outputs": [
    {
     "data": {
      "image/png": "[encoded data removed]",
      "text/plain": [
       "<Figure size 1440x360 with 2 Axes>"
      ]
     },
     "metadata": {
      "needs_background": "light"
     },
     "output_type": "display_data"
    }
   ],
   "source": [
    "avg_lens = analyzer.get_length_statistics(avg_df)\n",
    "max_lens = analyzer.get_length_statistics(max_df)\n",
    "\n",
    "data = [avg_lens, max_lens]\n",
    "titles = [\"Number of words in mapped tweets by average\", \"Number of words in mapped tweets by maximum\", ]\n",
    "fig, axes = plt.subplots(nrows=1, ncols=2, figsize=(20,5))\n",
    "for rec, ax, title in zip(data, axes, titles):\n",
    "    ax.set_title(title, size=15)\n",
    "    ax.bar([k for k in rec.keys()], rec.values())"
   ]
  },
  {
   "cell_type": "code",
   "execution_count": 50,
   "id": "modern-confidence",
   "metadata": {},
   "outputs": [],
   "source": [
    "def init_transfered_model(df, attr):\n",
    "    x_train, x_test, y_train, y_test = create_raw_input(df['original'], df[attr], 0.2)\n",
    "    bert_layer, tokenizer = pull_bert('https://tfhub.dev/tensorflow/small_bert/bert_en_uncased_L-4_H-256_A-4/2')\n",
    "    #max_seq_len = get_max_lengths(df['original'], tokenizer)\n",
    "    \n",
    "    X_train = bert_encode(x_train, tokenizer, 150)\n",
    "    X_test = bert_encode(x_test, tokenizer, 150)\n",
    "    \n",
    "    return X_train, X_test, y_train, y_test, bert_layer\n",
    "\n",
    "avgX_train, avgX_test, avgy_train, avgy_test, avgbert_layer = init_transfered_model(avg_df, 'avg_labels')\n",
    "maxX_train, maxX_test, maxy_train, maxy_test, maxbert_layer = init_transfered_model(max_df, 'max_labels')"
   ]
  },
  {
   "cell_type": "code",
   "execution_count": 51,
   "id": "answering-haven",
   "metadata": {},
   "outputs": [
    {
     "name": "stdout",
     "output_type": "stream",
     "text": [
      "KerasTensor(type_spec=TensorSpec(shape=(None, 256), dtype=tf.float32, name=None), name='keras_layer_2/StatefulPartitionedCall:5', description=\"created by layer 'keras_layer_2'\")\n",
      "Model: \"model_2\"\n",
      "__________________________________________________________________________________________________\n",
      "Layer (type)                    Output Shape         Param #     Connected to                     \n",
      "==================================================================================================\n",
      "input_mask (InputLayer)         [(None, 150)]        0                                            \n",
      "__________________________________________________________________________________________________\n",
      "input_type_ids (InputLayer)     [(None, 150)]        0                                            \n",
      "__________________________________________________________________________________________________\n",
      "input_word_ids (InputLayer)     [(None, 150)]        0                                            \n",
      "__________________________________________________________________________________________________\n",
      "keras_layer_2 (KerasLayer)      {'default': (None, 2 11170561    input_mask[0][0]                 \n",
      "                                                                 input_type_ids[0][0]             \n",
      "                                                                 input_word_ids[0][0]             \n",
      "__________________________________________________________________________________________________\n",
      "dropout_2 (Dropout)             (None, 150, 256)     0           keras_layer_2[0][6]              \n",
      "__________________________________________________________________________________________________\n",
      "conv1d_8 (Conv1D)               (None, 148, 256)     196864      dropout_2[0][0]                  \n",
      "__________________________________________________________________________________________________\n",
      "conv1d_9 (Conv1D)               (None, 146, 128)     98432       conv1d_8[0][0]                   \n",
      "__________________________________________________________________________________________________\n",
      "average_pooling1d_3 (AveragePoo (None, 73, 128)      0           conv1d_9[0][0]                   \n",
      "__________________________________________________________________________________________________\n",
      "conv1d_10 (Conv1D)              (None, 71, 64)       24640       average_pooling1d_3[0][0]        \n",
      "__________________________________________________________________________________________________\n",
      "average_pooling1d_4 (AveragePoo (None, 35, 64)       0           conv1d_10[0][0]                  \n",
      "__________________________________________________________________________________________________\n",
      "conv1d_11 (Conv1D)              (None, 33, 8)        1544        average_pooling1d_4[0][0]        \n",
      "__________________________________________________________________________________________________\n",
      "flatten_2 (Flatten)             (None, 264)          0           conv1d_11[0][0]                  \n",
      "__________________________________________________________________________________________________\n",
      "dense_2 (Dense)                 (None, 3)            795         flatten_2[0][0]                  \n",
      "==================================================================================================\n",
      "Total params: 11,492,836\n",
      "Trainable params: 322,275\n",
      "Non-trainable params: 11,170,561\n",
      "__________________________________________________________________________________________________\n"
     ]
    }
   ],
   "source": [
    "import tensorflow as tf\n",
    "\n",
    "def create_model(bert_layer, max_seq_len, num_class):\n",
    "\n",
    "    input_word_ids = tf.keras.layers.Input(shape=(max_seq_len,), dtype=tf.int32, name=\"input_word_ids\")\n",
    "    input_mask = tf.keras.layers.Input(shape=(max_seq_len,), dtype=tf.int32, name=\"input_mask\")\n",
    "    input_type_ids = tf.keras.layers.Input(shape=(max_seq_len,), dtype=tf.int32, name=\"input_type_ids\")\n",
    "\n",
    "    bert_input = {\n",
    "        'input_word_ids': input_word_ids,\n",
    "        'input_mask': input_mask,\n",
    "        'input_type_ids': input_type_ids\n",
    "    }\n",
    "\n",
    "    outputs = bert_layer(bert_input)\n",
    "    #print(outputs)\n",
    "    pooled_output = outputs['pooled_output']\n",
    "    sequence_output = outputs['sequence_output']\n",
    "\n",
    "    print(pooled_output)\n",
    "\n",
    "    output = tf.keras.layers.Dropout(rate=0.1)(sequence_output)\n",
    "    output = tf.keras.layers.Conv1D(filters=256, kernel_size=3, activation='relu')(output)\n",
    "    output = tf.keras.layers.Conv1D(filters=128, kernel_size=3, activation='relu')(output)\n",
    "    output = tf.keras.layers.AvgPool1D(pool_size=2)(output)\n",
    "    output = tf.keras.layers.Conv1D(filters=64, kernel_size=3, activation='relu')(output)\n",
    "    output = tf.keras.layers.AvgPool1D(pool_size=2)(output)\n",
    "    output = tf.keras.layers.Conv1D(filters=8, kernel_size=3, activation='relu')(output)\n",
    "    output = tf.keras.layers.Flatten()(output)\n",
    "    output = tf.keras.layers.Dense(num_class, activation='softmax')(output)\n",
    "\n",
    "    model = tf.keras.Model(\n",
    "        inputs={\n",
    "            'input_word_ids': input_word_ids,\n",
    "            'input_mask': input_mask,\n",
    "            'input_type_ids': input_type_ids\n",
    "        },\n",
    "        outputs=output\n",
    "    )\n",
    "\n",
    "    model.summary()\n",
    "\n",
    "    model.compile(\n",
    "        optimizer='adam',\n",
    "        loss='categorical_crossentropy',\n",
    "        metrics='accuracy'\n",
    "    )\n",
    "    \n",
    "    return model\n",
    "\n",
    "model_avg = create_model(avgbert_layer, 150, len(avgy_train[0]))\n",
    "#model_max = create_model(maxbert_layer, maxmax_seq_len, len(maxy_train[0]))"
   ]
  },
  {
   "cell_type": "code",
   "execution_count": 52,
   "id": "shared-cancer",
   "metadata": {},
   "outputs": [
    {
     "name": "stdout",
     "output_type": "stream",
     "text": [
      "Epoch 1/4\n",
      "488/488 [==============================] - 573s 1s/step - loss: 0.4969 - accuracy: 0.7944\n",
      "Epoch 2/4\n",
      "488/488 [==============================] - 548s 1s/step - loss: 0.3656 - accuracy: 0.8549\n",
      "Epoch 3/4\n",
      "488/488 [==============================] - 547s 1s/step - loss: 0.3111 - accuracy: 0.8779\n",
      "Epoch 4/4\n",
      "488/488 [==============================] - 538s 1s/step - loss: 0.2555 - accuracy: 0.8980\n"
     ]
    }
   ],
   "source": [
    "history_avg = model_avg.fit(\n",
    "    avgX_train,\n",
    "    avgy_train,\n",
    "    epochs=4,\n",
    "    verbose=1\n",
    ")"
   ]
  },
  {
   "cell_type": "code",
   "execution_count": 53,
   "id": "endangered-multimedia",
   "metadata": {},
   "outputs": [
    {
     "name": "stderr",
     "output_type": "stream",
     "text": [
      "WARNING:absl:Found untraced functions such as restored_function_body, restored_function_body, restored_function_body, restored_function_body, restored_function_body while saving (showing 5 of 315). These functions will not be directly callable after loading.\n"
     ]
    },
    {
     "name": "stdout",
     "output_type": "stream",
     "text": [
      "INFO:tensorflow:Assets written to: D:/model_dom_new/avg_model\\assets\n"
     ]
    },
    {
     "name": "stderr",
     "output_type": "stream",
     "text": [
      "INFO:tensorflow:Assets written to: D:/model_dom_new/avg_model\\assets\n"
     ]
    }
   ],
   "source": [
    "model_avg.save('D:/model_dom_new/avg_model')"
   ]
  },
  {
   "cell_type": "code",
   "execution_count": 24,
   "id": "seasonal-paper",
   "metadata": {},
   "outputs": [
    {
     "name": "stdout",
     "output_type": "stream",
     "text": [
      "KerasTensor(type_spec=TensorSpec(shape=(None, 256), dtype=tf.float32, name=None), name='keras_layer_3/StatefulPartitionedCall:3', description=\"created by layer 'keras_layer_3'\")\n",
      "Model: \"model_3\"\n",
      "__________________________________________________________________________________________________\n",
      "Layer (type)                    Output Shape         Param #     Connected to                     \n",
      "==================================================================================================\n",
      "input_mask (InputLayer)         [(None, 150)]        0                                            \n",
      "__________________________________________________________________________________________________\n",
      "input_type_ids (InputLayer)     [(None, 150)]        0                                            \n",
      "__________________________________________________________________________________________________\n",
      "input_word_ids (InputLayer)     [(None, 150)]        0                                            \n",
      "__________________________________________________________________________________________________\n",
      "keras_layer_3 (KerasLayer)      {'default': (None, 2 9591041     input_mask[0][0]                 \n",
      "                                                                 input_type_ids[0][0]             \n",
      "                                                                 input_word_ids[0][0]             \n",
      "__________________________________________________________________________________________________\n",
      "dropout_3 (Dropout)             (None, 150, 256)     0           keras_layer_3[0][4]              \n",
      "__________________________________________________________________________________________________\n",
      "conv1d_12 (Conv1D)              (None, 148, 256)     196864      dropout_3[0][0]                  \n",
      "__________________________________________________________________________________________________\n",
      "conv1d_13 (Conv1D)              (None, 146, 128)     98432       conv1d_12[0][0]                  \n",
      "__________________________________________________________________________________________________\n",
      "average_pooling1d_3 (AveragePoo (None, 73, 128)      0           conv1d_13[0][0]                  \n",
      "__________________________________________________________________________________________________\n",
      "conv1d_14 (Conv1D)              (None, 71, 64)       24640       average_pooling1d_3[0][0]        \n",
      "__________________________________________________________________________________________________\n",
      "conv1d_15 (Conv1D)              (None, 70, 8)        1032        conv1d_14[0][0]                  \n",
      "__________________________________________________________________________________________________\n",
      "flatten_3 (Flatten)             (None, 560)          0           conv1d_15[0][0]                  \n",
      "__________________________________________________________________________________________________\n",
      "dense_3 (Dense)                 (None, 3)            1683        flatten_3[0][0]                  \n",
      "==================================================================================================\n",
      "Total params: 9,913,692\n",
      "Trainable params: 322,651\n",
      "Non-trainable params: 9,591,041\n",
      "__________________________________________________________________________________________________\n",
      "Epoch 1/4\n",
      "2833/2833 [==============================] - 1815s 639ms/step - loss: 0.6047 - accuracy: 0.7284\n",
      "Epoch 2/4\n",
      "2833/2833 [==============================] - 1758s 620ms/step - loss: 0.3854 - accuracy: 0.8418\n",
      "Epoch 3/4\n",
      "2833/2833 [==============================] - 1612s 569ms/step - loss: 0.2939 - accuracy: 0.8834\n",
      "Epoch 4/4\n",
      "2833/2833 [==============================] - 1581s 558ms/step - loss: 0.2484 - accuracy: 0.9023\n"
     ]
    }
   ],
   "source": [
    "model_max = create_model(maxbert_layer, 150, len(maxy_train[0]))\n",
    "history_max = model_max.fit(\n",
    "    maxX_train,\n",
    "    maxy_train,\n",
    "    epochs=4,\n",
    "    verbose=1\n",
    ")"
   ]
  },
  {
   "cell_type": "code",
   "execution_count": 25,
   "id": "white-voluntary",
   "metadata": {},
   "outputs": [
    {
     "data": {
      "image/png": "[encoded data removed]",
      "text/plain": [
       "<Figure size 1080x360 with 2 Axes>"
      ]
     },
     "metadata": {
      "needs_background": "light"
     },
     "output_type": "display_data"
    },
    {
     "data": {
      "image/png": "[encoded data removed]",
      "text/plain": [
       "<Figure size 1080x360 with 2 Axes>"
      ]
     },
     "metadata": {
      "needs_background": "light"
     },
     "output_type": "display_data"
    }
   ],
   "source": [
    "import matplotlib.pyplot as plt\n",
    "\n",
    "def show_results(history, subtitle):\n",
    "    metrics_data = [history.history['accuracy'], history.history['loss']]\n",
    "    labels = ['accuracy', 'loss']\n",
    "    fig, axes = plt.subplots(nrows=1, ncols=2, figsize=(15,5))\n",
    "\n",
    "    fig.suptitle(subtitle)\n",
    "\n",
    "    for data, ax, label in zip(metrics_data, axes, labels):\n",
    "        ax.set_xlabel('epochs')\n",
    "        ax.set_ylabel(label)\n",
    "        ax.plot(range(1,5), data)\n",
    "\n",
    "    plt.show()\n",
    "    \n",
    "show_results(history_avg, \"Averages model training\")\n",
    "show_results(history_max, \"Maximums model training\")"
   ]
  },
  {
   "cell_type": "code",
   "execution_count": 26,
   "id": "resident-bonus",
   "metadata": {},
   "outputs": [
    {
     "name": "stderr",
     "output_type": "stream",
     "text": [
      "WARNING:absl:Found untraced functions such as restored_function_body, restored_function_body, restored_function_body, restored_function_body, restored_function_body while saving (showing 5 of 165). These functions will not be directly callable after loading.\n"
     ]
    },
    {
     "name": "stdout",
     "output_type": "stream",
     "text": [
      "INFO:tensorflow:Assets written to: D:/dominance_models_75/avg_model\\assets\n"
     ]
    },
    {
     "name": "stderr",
     "output_type": "stream",
     "text": [
      "INFO:tensorflow:Assets written to: D:/dominance_models_75/avg_model\\assets\n"
     ]
    }
   ],
   "source": [
    "model_avg.save('D:/dominance_models_75/avg_model')"
   ]
  },
  {
   "cell_type": "code",
   "execution_count": 27,
   "id": "light-plasma",
   "metadata": {},
   "outputs": [
    {
     "name": "stderr",
     "output_type": "stream",
     "text": [
      "WARNING:absl:Found untraced functions such as restored_function_body, restored_function_body, restored_function_body, restored_function_body, restored_function_body while saving (showing 5 of 165). These functions will not be directly callable after loading.\n"
     ]
    },
    {
     "name": "stdout",
     "output_type": "stream",
     "text": [
      "INFO:tensorflow:Assets written to: D:/dominance_models_75/max_model\\assets\n"
     ]
    },
    {
     "name": "stderr",
     "output_type": "stream",
     "text": [
      "INFO:tensorflow:Assets written to: D:/dominance_models_75/max_model\\assets\n"
     ]
    }
   ],
   "source": [
    "model_max.save('D:/dominance_models_75/max_model')"
   ]
  },
  {
   "cell_type": "code",
   "execution_count": 28,
   "id": "descending-seminar",
   "metadata": {},
   "outputs": [
    {
     "name": "stdout",
     "output_type": "stream",
     "text": [
      "320/320 [==============================] - 185s 572ms/step - loss: 0.3542 - accuracy: 0.8567\n"
     ]
    },
    {
     "data": {
      "text/plain": [
       "[0.35417723655700684, 0.8566963076591492]"
      ]
     },
     "execution_count": 28,
     "metadata": {},
     "output_type": "execute_result"
    }
   ],
   "source": [
    "model_avg.evaluate(avgX_test, avgy_test)"
   ]
  },
  {
   "cell_type": "code",
   "execution_count": 29,
   "id": "literary-martin",
   "metadata": {},
   "outputs": [
    {
     "name": "stdout",
     "output_type": "stream",
     "text": [
      "709/709 [==============================] - 380s 536ms/step - loss: 0.2486 - accuracy: 0.9054\n"
     ]
    },
    {
     "data": {
      "text/plain": [
       "[0.24862359464168549, 0.9054006338119507]"
      ]
     },
     "execution_count": 29,
     "metadata": {},
     "output_type": "execute_result"
    }
   ],
   "source": [
    "model_max.evaluate(maxX_test, maxy_test)"
   ]
  },
  {
   "cell_type": "code",
   "execution_count": null,
   "id": "opponent-chassis",
   "metadata": {},
   "outputs": [],
   "source": []
  }
 ],
 "metadata": {
  "kernelspec": {
   "display_name": "Python 3",
   "language": "python",
   "name": "python3"
  },
  "language_info": {
   "codemirror_mode": {
    "name": "ipython",
    "version": 3
   },
   "file_extension": ".py",
   "mimetype": "text/x-python",
   "name": "python",
   "nbconvert_exporter": "python",
   "pygments_lexer": "ipython3",
   "version": "3.8.0"
  }
 },
 "nbformat": 4,
 "nbformat_minor": 5
}
