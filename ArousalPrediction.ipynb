{
 "cells": [
  {
   "cell_type": "code",
   "execution_count": 1,
   "id": "silent-ferry",
   "metadata": {},
   "outputs": [
    {
     "name": "stderr",
     "output_type": "stream",
     "text": [
      "[nltk_data] Error loading stopwords: <urlopen error [Errno 11001]\n",
      "[nltk_data]     getaddrinfo failed>\n"
     ]
    }
   ],
   "source": [
    "from ipynb.fs.full.preprocessing_text import PreprocessTweet\n",
    "from ipynb.fs.full.dict_lexicons import read_lexicon\n",
    "from ipynb.fs.full.lexicon_mapping import LexiconMapper, Analyzer\n",
    "from ipynb.fs.full.bert_helper import create_raw_input, pull_bert, get_max_lengths, bert_encode\n",
    "import pandas as pd"
   ]
  },
  {
   "cell_type": "code",
   "execution_count": 2,
   "id": "sophisticated-rwanda",
   "metadata": {},
   "outputs": [
    {
     "data": {
      "text/html": [
       "<div>\n",
       "<style scoped>\n",
       "    .dataframe tbody tr th:only-of-type {\n",
       "        vertical-align: middle;\n",
       "    }\n",
       "\n",
       "    .dataframe tbody tr th {\n",
       "        vertical-align: top;\n",
       "    }\n",
       "\n",
       "    .dataframe thead th {\n",
       "        text-align: right;\n",
       "    }\n",
       "</style>\n",
       "<table border=\"1\" class=\"dataframe\">\n",
       "  <thead>\n",
       "    <tr style=\"text-align: right;\">\n",
       "      <th></th>\n",
       "      <th>target</th>\n",
       "      <th>id</th>\n",
       "      <th>date</th>\n",
       "      <th>flag</th>\n",
       "      <th>user</th>\n",
       "      <th>text</th>\n",
       "    </tr>\n",
       "  </thead>\n",
       "  <tbody>\n",
       "    <tr>\n",
       "      <th>0</th>\n",
       "      <td>0</td>\n",
       "      <td>1467810369</td>\n",
       "      <td>Mon Apr 06 22:19:45 PDT 2009</td>\n",
       "      <td>NO_QUERY</td>\n",
       "      <td>_TheSpecialOne_</td>\n",
       "      <td>@switchfoot http://twitpic.com/2y1zl - Awww, t...</td>\n",
       "    </tr>\n",
       "    <tr>\n",
       "      <th>1</th>\n",
       "      <td>0</td>\n",
       "      <td>1467810672</td>\n",
       "      <td>Mon Apr 06 22:19:49 PDT 2009</td>\n",
       "      <td>NO_QUERY</td>\n",
       "      <td>scotthamilton</td>\n",
       "      <td>is upset that he can't update his Facebook by ...</td>\n",
       "    </tr>\n",
       "    <tr>\n",
       "      <th>2</th>\n",
       "      <td>0</td>\n",
       "      <td>1467810917</td>\n",
       "      <td>Mon Apr 06 22:19:53 PDT 2009</td>\n",
       "      <td>NO_QUERY</td>\n",
       "      <td>mattycus</td>\n",
       "      <td>@Kenichan I dived many times for the ball. Man...</td>\n",
       "    </tr>\n",
       "    <tr>\n",
       "      <th>3</th>\n",
       "      <td>0</td>\n",
       "      <td>1467811184</td>\n",
       "      <td>Mon Apr 06 22:19:57 PDT 2009</td>\n",
       "      <td>NO_QUERY</td>\n",
       "      <td>ElleCTF</td>\n",
       "      <td>my whole body feels itchy and like its on fire</td>\n",
       "    </tr>\n",
       "    <tr>\n",
       "      <th>4</th>\n",
       "      <td>0</td>\n",
       "      <td>1467811193</td>\n",
       "      <td>Mon Apr 06 22:19:57 PDT 2009</td>\n",
       "      <td>NO_QUERY</td>\n",
       "      <td>Karoli</td>\n",
       "      <td>@nationwideclass no, it's not behaving at all....</td>\n",
       "    </tr>\n",
       "  </tbody>\n",
       "</table>\n",
       "</div>"
      ],
      "text/plain": [
       "   target          id                          date      flag  \\\n",
       "0       0  1467810369  Mon Apr 06 22:19:45 PDT 2009  NO_QUERY   \n",
       "1       0  1467810672  Mon Apr 06 22:19:49 PDT 2009  NO_QUERY   \n",
       "2       0  1467810917  Mon Apr 06 22:19:53 PDT 2009  NO_QUERY   \n",
       "3       0  1467811184  Mon Apr 06 22:19:57 PDT 2009  NO_QUERY   \n",
       "4       0  1467811193  Mon Apr 06 22:19:57 PDT 2009  NO_QUERY   \n",
       "\n",
       "              user                                               text  \n",
       "0  _TheSpecialOne_  @switchfoot http://twitpic.com/2y1zl - Awww, t...  \n",
       "1    scotthamilton  is upset that he can't update his Facebook by ...  \n",
       "2         mattycus  @Kenichan I dived many times for the ball. Man...  \n",
       "3          ElleCTF    my whole body feels itchy and like its on fire   \n",
       "4           Karoli  @nationwideclass no, it's not behaving at all....  "
      ]
     },
     "execution_count": 2,
     "metadata": {},
     "output_type": "execute_result"
    }
   ],
   "source": [
    "vad_lexicon = read_lexicon('NRC-VAD')\n",
    "df = pd.read_csv(\"D:\\\\Marko\\\\MoviesSentimentAnalysis\\\\140SentimentDataset\\\\training.1600000.processed.noemoticon.csv\", \n",
    "           names = [\n",
    "                    'target',\n",
    "                    'id',\n",
    "                    'date',\n",
    "                    'flag',\n",
    "                    'user',\n",
    "                    'text'\n",
    "                ])\n",
    "df.head()"
   ]
  },
  {
   "cell_type": "code",
   "execution_count": 3,
   "id": "pregnant-router",
   "metadata": {},
   "outputs": [
    {
     "data": {
      "text/html": [
       "<div>\n",
       "<style scoped>\n",
       "    .dataframe tbody tr th:only-of-type {\n",
       "        vertical-align: middle;\n",
       "    }\n",
       "\n",
       "    .dataframe tbody tr th {\n",
       "        vertical-align: top;\n",
       "    }\n",
       "\n",
       "    .dataframe thead th {\n",
       "        text-align: right;\n",
       "    }\n",
       "</style>\n",
       "<table border=\"1\" class=\"dataframe\">\n",
       "  <thead>\n",
       "    <tr style=\"text-align: right;\">\n",
       "      <th></th>\n",
       "      <th>label</th>\n",
       "      <th>text</th>\n",
       "    </tr>\n",
       "  </thead>\n",
       "  <tbody>\n",
       "    <tr>\n",
       "      <th>0</th>\n",
       "      <td>0</td>\n",
       "      <td>@switchfoot http://twitpic.com/2y1zl - Awww, t...</td>\n",
       "    </tr>\n",
       "    <tr>\n",
       "      <th>1</th>\n",
       "      <td>0</td>\n",
       "      <td>is upset that he can't update his Facebook by ...</td>\n",
       "    </tr>\n",
       "    <tr>\n",
       "      <th>2</th>\n",
       "      <td>0</td>\n",
       "      <td>@Kenichan I dived many times for the ball. Man...</td>\n",
       "    </tr>\n",
       "    <tr>\n",
       "      <th>3</th>\n",
       "      <td>0</td>\n",
       "      <td>my whole body feels itchy and like its on fire</td>\n",
       "    </tr>\n",
       "    <tr>\n",
       "      <th>4</th>\n",
       "      <td>0</td>\n",
       "      <td>@nationwideclass no, it's not behaving at all....</td>\n",
       "    </tr>\n",
       "  </tbody>\n",
       "</table>\n",
       "</div>"
      ],
      "text/plain": [
       "  label                                               text\n",
       "0     0  @switchfoot http://twitpic.com/2y1zl - Awww, t...\n",
       "1     0  is upset that he can't update his Facebook by ...\n",
       "2     0  @Kenichan I dived many times for the ball. Man...\n",
       "3     0    my whole body feels itchy and like its on fire \n",
       "4     0  @nationwideclass no, it's not behaving at all...."
      ]
     },
     "execution_count": 3,
     "metadata": {},
     "output_type": "execute_result"
    }
   ],
   "source": [
    "xy_df = pd.DataFrame(df.values[:,0:6:5], columns=['label', 'text'])\n",
    "xy_df.head()"
   ]
  },
  {
   "cell_type": "code",
   "execution_count": 4,
   "id": "closing-coral",
   "metadata": {},
   "outputs": [
    {
     "data": {
      "text/html": [
       "<div>\n",
       "<style scoped>\n",
       "    .dataframe tbody tr th:only-of-type {\n",
       "        vertical-align: middle;\n",
       "    }\n",
       "\n",
       "    .dataframe tbody tr th {\n",
       "        vertical-align: top;\n",
       "    }\n",
       "\n",
       "    .dataframe thead th {\n",
       "        text-align: right;\n",
       "    }\n",
       "</style>\n",
       "<table border=\"1\" class=\"dataframe\">\n",
       "  <thead>\n",
       "    <tr style=\"text-align: right;\">\n",
       "      <th></th>\n",
       "      <th>Label</th>\n",
       "      <th>Tweet</th>\n",
       "      <th>Mark</th>\n",
       "      <th>Caps</th>\n",
       "      <th>Letters</th>\n",
       "    </tr>\n",
       "  </thead>\n",
       "  <tbody>\n",
       "    <tr>\n",
       "      <th>0</th>\n",
       "      <td>0</td>\n",
       "      <td>awww thats a bummer you shoulda got david carr...</td>\n",
       "      <td>False</td>\n",
       "      <td>False</td>\n",
       "      <td>True</td>\n",
       "    </tr>\n",
       "    <tr>\n",
       "      <th>1</th>\n",
       "      <td>0</td>\n",
       "      <td>is upset that he cant update his facebook by t...</td>\n",
       "      <td>True</td>\n",
       "      <td>False</td>\n",
       "      <td>True</td>\n",
       "    </tr>\n",
       "    <tr>\n",
       "      <th>2</th>\n",
       "      <td>0</td>\n",
       "      <td>i dived many times for the ball managed to sav...</td>\n",
       "      <td>False</td>\n",
       "      <td>True</td>\n",
       "      <td>False</td>\n",
       "    </tr>\n",
       "    <tr>\n",
       "      <th>3</th>\n",
       "      <td>0</td>\n",
       "      <td>my whole body feels itchy and like its on fire</td>\n",
       "      <td>False</td>\n",
       "      <td>False</td>\n",
       "      <td>False</td>\n",
       "    </tr>\n",
       "    <tr>\n",
       "      <th>4</th>\n",
       "      <td>0</td>\n",
       "      <td>no its not behaving at all im mad why am i her...</td>\n",
       "      <td>False</td>\n",
       "      <td>True</td>\n",
       "      <td>False</td>\n",
       "    </tr>\n",
       "  </tbody>\n",
       "</table>\n",
       "</div>"
      ],
      "text/plain": [
       "   Label                                              Tweet   Mark   Caps  \\\n",
       "0      0  awww thats a bummer you shoulda got david carr...  False  False   \n",
       "1      0  is upset that he cant update his facebook by t...   True  False   \n",
       "2      0  i dived many times for the ball managed to sav...  False   True   \n",
       "3      0     my whole body feels itchy and like its on fire  False  False   \n",
       "4      0  no its not behaving at all im mad why am i her...  False   True   \n",
       "\n",
       "   Letters  \n",
       "0     True  \n",
       "1     True  \n",
       "2    False  \n",
       "3    False  \n",
       "4    False  "
      ]
     },
     "execution_count": 4,
     "metadata": {},
     "output_type": "execute_result"
    }
   ],
   "source": [
    "preprocessor = PreprocessTweet()\n",
    "preprocessed_df = preprocessor.preprocess_tweets(xy_df, False, True)\n",
    "preprocessed_df.head()"
   ]
  },
  {
   "cell_type": "code",
   "execution_count": 5,
   "id": "perceived-portal",
   "metadata": {},
   "outputs": [
    {
     "data": {
      "text/html": [
       "<div>\n",
       "<style scoped>\n",
       "    .dataframe tbody tr th:only-of-type {\n",
       "        vertical-align: middle;\n",
       "    }\n",
       "\n",
       "    .dataframe tbody tr th {\n",
       "        vertical-align: top;\n",
       "    }\n",
       "\n",
       "    .dataframe thead th {\n",
       "        text-align: right;\n",
       "    }\n",
       "</style>\n",
       "<table border=\"1\" class=\"dataframe\">\n",
       "  <thead>\n",
       "    <tr style=\"text-align: right;\">\n",
       "      <th></th>\n",
       "      <th>label</th>\n",
       "      <th>text</th>\n",
       "      <th>mark</th>\n",
       "      <th>caps</th>\n",
       "      <th>letters</th>\n",
       "      <th>stopwordsx</th>\n",
       "    </tr>\n",
       "  </thead>\n",
       "  <tbody>\n",
       "    <tr>\n",
       "      <th>0</th>\n",
       "      <td>0</td>\n",
       "      <td>awww that s a bummer you shoulda got david car...</td>\n",
       "      <td>False</td>\n",
       "      <td>False</td>\n",
       "      <td>True</td>\n",
       "      <td>awww bummer shoulda got david carr third day</td>\n",
       "    </tr>\n",
       "    <tr>\n",
       "      <th>1</th>\n",
       "      <td>0</td>\n",
       "      <td>is upset that he can t update his facebook by ...</td>\n",
       "      <td>True</td>\n",
       "      <td>False</td>\n",
       "      <td>True</td>\n",
       "      <td>upset update facebook texting might cry result...</td>\n",
       "    </tr>\n",
       "    <tr>\n",
       "      <th>2</th>\n",
       "      <td>0</td>\n",
       "      <td>i dived many times for the ball managed to sav...</td>\n",
       "      <td>False</td>\n",
       "      <td>True</td>\n",
       "      <td>False</td>\n",
       "      <td>dived many times ball managed save rest go bounds</td>\n",
       "    </tr>\n",
       "    <tr>\n",
       "      <th>3</th>\n",
       "      <td>0</td>\n",
       "      <td>my whole body feels itchy and like its on fire</td>\n",
       "      <td>False</td>\n",
       "      <td>False</td>\n",
       "      <td>False</td>\n",
       "      <td>whole body feels itchy like fire</td>\n",
       "    </tr>\n",
       "    <tr>\n",
       "      <th>4</th>\n",
       "      <td>0</td>\n",
       "      <td>no it s not behaving at all i m mad why am i h...</td>\n",
       "      <td>False</td>\n",
       "      <td>True</td>\n",
       "      <td>False</td>\n",
       "      <td>behaving mad see</td>\n",
       "    </tr>\n",
       "  </tbody>\n",
       "</table>\n",
       "</div>"
      ],
      "text/plain": [
       "  label                                               text   mark   caps  \\\n",
       "0     0  awww that s a bummer you shoulda got david car...  False  False   \n",
       "1     0  is upset that he can t update his facebook by ...   True  False   \n",
       "2     0  i dived many times for the ball managed to sav...  False   True   \n",
       "3     0     my whole body feels itchy and like its on fire  False  False   \n",
       "4     0  no it s not behaving at all i m mad why am i h...  False   True   \n",
       "\n",
       "  letters                                         stopwordsx  \n",
       "0    True       awww bummer shoulda got david carr third day  \n",
       "1    True  upset update facebook texting might cry result...  \n",
       "2   False  dived many times ball managed save rest go bounds  \n",
       "3   False                   whole body feels itchy like fire  \n",
       "4   False                                   behaving mad see  "
      ]
     },
     "execution_count": 5,
     "metadata": {},
     "output_type": "execute_result"
    }
   ],
   "source": [
    "preprocessed_stopwords = preprocessor.preprocess_tweets(xy_df, False, False)\n",
    "df_stopwords = preprocessor.remove_stopwords(\\\n",
    "                                             pd.DataFrame(preprocessed_stopwords.values, \\\n",
    "                                             columns = ['label', 'text', 'mark', 'caps', 'letters']))\n",
    "df_stopwords.head()"
   ]
  },
  {
   "cell_type": "code",
   "execution_count": 6,
   "id": "inappropriate-attachment",
   "metadata": {},
   "outputs": [
    {
     "data": {
      "text/html": [
       "<div>\n",
       "<style scoped>\n",
       "    .dataframe tbody tr th:only-of-type {\n",
       "        vertical-align: middle;\n",
       "    }\n",
       "\n",
       "    .dataframe tbody tr th {\n",
       "        vertical-align: top;\n",
       "    }\n",
       "\n",
       "    .dataframe thead th {\n",
       "        text-align: right;\n",
       "    }\n",
       "</style>\n",
       "<table border=\"1\" class=\"dataframe\">\n",
       "  <thead>\n",
       "    <tr style=\"text-align: right;\">\n",
       "      <th></th>\n",
       "      <th>label</th>\n",
       "      <th>text</th>\n",
       "      <th>mark</th>\n",
       "      <th>caps</th>\n",
       "      <th>letters</th>\n",
       "      <th>stopwordsx</th>\n",
       "    </tr>\n",
       "  </thead>\n",
       "  <tbody>\n",
       "    <tr>\n",
       "      <th>0</th>\n",
       "      <td>0</td>\n",
       "      <td>awww that s a bummer you shoulda got david car...</td>\n",
       "      <td>False</td>\n",
       "      <td>False</td>\n",
       "      <td>True</td>\n",
       "      <td>awww bummer shoulda get david carr third day</td>\n",
       "    </tr>\n",
       "    <tr>\n",
       "      <th>1</th>\n",
       "      <td>0</td>\n",
       "      <td>is upset that he can t update his facebook by ...</td>\n",
       "      <td>True</td>\n",
       "      <td>False</td>\n",
       "      <td>True</td>\n",
       "      <td>upset update facebook texting might cry result...</td>\n",
       "    </tr>\n",
       "    <tr>\n",
       "      <th>2</th>\n",
       "      <td>0</td>\n",
       "      <td>i dived many times for the ball managed to sav...</td>\n",
       "      <td>False</td>\n",
       "      <td>True</td>\n",
       "      <td>False</td>\n",
       "      <td>dive many time ball manage save rest go bound</td>\n",
       "    </tr>\n",
       "    <tr>\n",
       "      <th>3</th>\n",
       "      <td>0</td>\n",
       "      <td>my whole body feels itchy and like its on fire</td>\n",
       "      <td>False</td>\n",
       "      <td>False</td>\n",
       "      <td>False</td>\n",
       "      <td>whole body feel itchy like fire</td>\n",
       "    </tr>\n",
       "    <tr>\n",
       "      <th>4</th>\n",
       "      <td>0</td>\n",
       "      <td>no it s not behaving at all i m mad why am i h...</td>\n",
       "      <td>False</td>\n",
       "      <td>True</td>\n",
       "      <td>False</td>\n",
       "      <td>behave mad see</td>\n",
       "    </tr>\n",
       "  </tbody>\n",
       "</table>\n",
       "</div>"
      ],
      "text/plain": [
       "  label                                               text   mark   caps  \\\n",
       "0     0  awww that s a bummer you shoulda got david car...  False  False   \n",
       "1     0  is upset that he can t update his facebook by ...   True  False   \n",
       "2     0  i dived many times for the ball managed to sav...  False   True   \n",
       "3     0     my whole body feels itchy and like its on fire  False  False   \n",
       "4     0  no it s not behaving at all i m mad why am i h...  False   True   \n",
       "\n",
       "  letters                                         stopwordsx  \n",
       "0    True       awww bummer shoulda get david carr third day  \n",
       "1    True  upset update facebook texting might cry result...  \n",
       "2   False      dive many time ball manage save rest go bound  \n",
       "3   False                    whole body feel itchy like fire  \n",
       "4   False                                     behave mad see  "
      ]
     },
     "execution_count": 6,
     "metadata": {},
     "output_type": "execute_result"
    }
   ],
   "source": [
    "df_stopwords.stopwordsx = preprocessor.lemmatize(df_stopwords.stopwordsx)\n",
    "df_stopwords.head()"
   ]
  },
  {
   "cell_type": "code",
   "execution_count": 7,
   "id": "comic-patent",
   "metadata": {},
   "outputs": [],
   "source": [
    "mapper = LexiconMapper()\n",
    "mapped_tweets = mapper.map_tweets(pd.DataFrame(df_stopwords.values[:,5], columns=['text']), vad_lexicon, 1, True)\n",
    "mapped_tweets['original'] = preprocessed_df.values[:,1]\n",
    "mapped_tweets['mark'] = preprocessed_df.values[:,2]\n",
    "mapped_tweets['caps'] = preprocessed_df.values[:,3]\n",
    "mapped_tweets['letters'] = preprocessed_df.values[:,4]"
   ]
  },
  {
   "cell_type": "code",
   "execution_count": 8,
   "id": "angry-craft",
   "metadata": {},
   "outputs": [
    {
     "data": {
      "text/html": [
       "<div>\n",
       "<style scoped>\n",
       "    .dataframe tbody tr th:only-of-type {\n",
       "        vertical-align: middle;\n",
       "    }\n",
       "\n",
       "    .dataframe tbody tr th {\n",
       "        vertical-align: top;\n",
       "    }\n",
       "\n",
       "    .dataframe thead th {\n",
       "        text-align: right;\n",
       "    }\n",
       "</style>\n",
       "<table border=\"1\" class=\"dataframe\">\n",
       "  <thead>\n",
       "    <tr style=\"text-align: right;\">\n",
       "      <th></th>\n",
       "      <th>text</th>\n",
       "      <th>mapped</th>\n",
       "      <th>original</th>\n",
       "      <th>mark</th>\n",
       "      <th>caps</th>\n",
       "      <th>letters</th>\n",
       "    </tr>\n",
       "  </thead>\n",
       "  <tbody>\n",
       "    <tr>\n",
       "      <th>0</th>\n",
       "      <td>awww bummer shoulda get david carr third day</td>\n",
       "      <td>[-1, 0.5, -1, 0.594, -1, 0.54, 0.187, 0.269]</td>\n",
       "      <td>awww thats a bummer you shoulda got david carr...</td>\n",
       "      <td>False</td>\n",
       "      <td>False</td>\n",
       "      <td>True</td>\n",
       "    </tr>\n",
       "    <tr>\n",
       "      <th>1</th>\n",
       "      <td>upset update facebook texting might cry result...</td>\n",
       "      <td>[0.68, 0.535, -1, -1, -1, 0.627, 0.49, 0.423, ...</td>\n",
       "      <td>is upset that he cant update his facebook by t...</td>\n",
       "      <td>True</td>\n",
       "      <td>False</td>\n",
       "      <td>True</td>\n",
       "    </tr>\n",
       "    <tr>\n",
       "      <th>2</th>\n",
       "      <td>dive many time ball manage save rest go bound</td>\n",
       "      <td>[0.531, -1, 0.288, 0.427, 0.53, 0.439, 0.167, ...</td>\n",
       "      <td>i dived many times for the ball managed to sav...</td>\n",
       "      <td>False</td>\n",
       "      <td>True</td>\n",
       "      <td>False</td>\n",
       "    </tr>\n",
       "    <tr>\n",
       "      <th>3</th>\n",
       "      <td>whole body feel itchy like fire</td>\n",
       "      <td>[0.357, 0.461, 0.602, 0.726, 0.353, 0.804]</td>\n",
       "      <td>my whole body feels itchy and like its on fire</td>\n",
       "      <td>False</td>\n",
       "      <td>False</td>\n",
       "      <td>False</td>\n",
       "    </tr>\n",
       "    <tr>\n",
       "      <th>4</th>\n",
       "      <td>behave mad see</td>\n",
       "      <td>[0.363, 0.873, 0.269]</td>\n",
       "      <td>no its not behaving at all im mad why am i her...</td>\n",
       "      <td>False</td>\n",
       "      <td>True</td>\n",
       "      <td>False</td>\n",
       "    </tr>\n",
       "  </tbody>\n",
       "</table>\n",
       "</div>"
      ],
      "text/plain": [
       "                                                text  \\\n",
       "0       awww bummer shoulda get david carr third day   \n",
       "1  upset update facebook texting might cry result...   \n",
       "2      dive many time ball manage save rest go bound   \n",
       "3                    whole body feel itchy like fire   \n",
       "4                                     behave mad see   \n",
       "\n",
       "                                              mapped  \\\n",
       "0       [-1, 0.5, -1, 0.594, -1, 0.54, 0.187, 0.269]   \n",
       "1  [0.68, 0.535, -1, -1, -1, 0.627, 0.49, 0.423, ...   \n",
       "2  [0.531, -1, 0.288, 0.427, 0.53, 0.439, 0.167, ...   \n",
       "3         [0.357, 0.461, 0.602, 0.726, 0.353, 0.804]   \n",
       "4                              [0.363, 0.873, 0.269]   \n",
       "\n",
       "                                            original   mark   caps letters  \n",
       "0  awww thats a bummer you shoulda got david carr...  False  False    True  \n",
       "1  is upset that he cant update his facebook by t...   True  False    True  \n",
       "2  i dived many times for the ball managed to sav...  False   True   False  \n",
       "3     my whole body feels itchy and like its on fire  False  False   False  \n",
       "4  no its not behaving at all im mad why am i her...  False   True   False  "
      ]
     },
     "execution_count": 8,
     "metadata": {},
     "output_type": "execute_result"
    }
   ],
   "source": [
    "mapped_tweets.head()"
   ]
  },
  {
   "cell_type": "code",
   "execution_count": 9,
   "id": "tracked-baker",
   "metadata": {},
   "outputs": [
    {
     "name": "stdout",
     "output_type": "stream",
     "text": [
      "1590017\n",
      "1600000\n"
     ]
    }
   ],
   "source": [
    "filtered_nulls = pd.DataFrame([i for i in mapped_tweets.values if len(i[1]) > 0], columns=['text','mapped', 'original', 'mark', 'caps', 'letters'])\n",
    "print(len(filtered_nulls))\n",
    "print(len(mapped_tweets))\n",
    "filtered_nulls = mapper.filter_tweets(filtered_nulls, -1, 0.35)\n",
    "filtered_nulls.head()\n",
    "import copy\n",
    "filtered = copy.deepcopy(filtered_nulls[filtered_nulls.filtered == True])\n",
    "maximums = mapper.get_maximum(filtered.mapped)\n",
    "averages = mapper.get_average(filtered.mapped)"
   ]
  },
  {
   "cell_type": "code",
   "execution_count": 10,
   "id": "veterinary-directory",
   "metadata": {},
   "outputs": [
    {
     "name": "stdout",
     "output_type": "stream",
     "text": [
      "[0.667, 0.804, 0.873, 0.598, 0.574, 0.796, 0.531, 0.809, 0.596, 0.773]\n",
      "[0.44, 0.55, 0.5, 0.48, 0.5, 0.39, 0.36, 0.54, 0.52, 0.55]\n"
     ]
    },
    {
     "data": {
      "text/html": [
       "<div>\n",
       "<style scoped>\n",
       "    .dataframe tbody tr th:only-of-type {\n",
       "        vertical-align: middle;\n",
       "    }\n",
       "\n",
       "    .dataframe tbody tr th {\n",
       "        vertical-align: top;\n",
       "    }\n",
       "\n",
       "    .dataframe thead th {\n",
       "        text-align: right;\n",
       "    }\n",
       "</style>\n",
       "<table border=\"1\" class=\"dataframe\">\n",
       "  <thead>\n",
       "    <tr style=\"text-align: right;\">\n",
       "      <th></th>\n",
       "      <th>text</th>\n",
       "      <th>mapped</th>\n",
       "      <th>original</th>\n",
       "      <th>mark</th>\n",
       "      <th>caps</th>\n",
       "      <th>letters</th>\n",
       "      <th>filtered</th>\n",
       "      <th>maximums</th>\n",
       "      <th>averages</th>\n",
       "    </tr>\n",
       "  </thead>\n",
       "  <tbody>\n",
       "    <tr>\n",
       "      <th>2</th>\n",
       "      <td>dive many time ball manage save rest go bound</td>\n",
       "      <td>[0.531, -1, 0.288, 0.427, 0.53, 0.439, 0.167, ...</td>\n",
       "      <td>i dived many times for the ball managed to sav...</td>\n",
       "      <td>False</td>\n",
       "      <td>True</td>\n",
       "      <td>False</td>\n",
       "      <td>True</td>\n",
       "      <td>0.667</td>\n",
       "      <td>0.44</td>\n",
       "    </tr>\n",
       "    <tr>\n",
       "      <th>3</th>\n",
       "      <td>whole body feel itchy like fire</td>\n",
       "      <td>[0.357, 0.461, 0.602, 0.726, 0.353, 0.804]</td>\n",
       "      <td>my whole body feels itchy and like its on fire</td>\n",
       "      <td>False</td>\n",
       "      <td>False</td>\n",
       "      <td>False</td>\n",
       "      <td>True</td>\n",
       "      <td>0.804</td>\n",
       "      <td>0.55</td>\n",
       "    </tr>\n",
       "    <tr>\n",
       "      <th>4</th>\n",
       "      <td>behave mad see</td>\n",
       "      <td>[0.363, 0.873, 0.269]</td>\n",
       "      <td>no its not behaving at all im mad why am i her...</td>\n",
       "      <td>False</td>\n",
       "      <td>True</td>\n",
       "      <td>False</td>\n",
       "      <td>True</td>\n",
       "      <td>0.873</td>\n",
       "      <td>0.50</td>\n",
       "    </tr>\n",
       "    <tr>\n",
       "      <th>5</th>\n",
       "      <td>whole crew</td>\n",
       "      <td>[0.357, 0.598]</td>\n",
       "      <td>not the whole crew</td>\n",
       "      <td>False</td>\n",
       "      <td>False</td>\n",
       "      <td>False</td>\n",
       "      <td>True</td>\n",
       "      <td>0.598</td>\n",
       "      <td>0.48</td>\n",
       "    </tr>\n",
       "    <tr>\n",
       "      <th>6</th>\n",
       "      <td>need hug</td>\n",
       "      <td>[0.574, 0.427]</td>\n",
       "      <td>need a hug</td>\n",
       "      <td>False</td>\n",
       "      <td>False</td>\n",
       "      <td>False</td>\n",
       "      <td>True</td>\n",
       "      <td>0.574</td>\n",
       "      <td>0.50</td>\n",
       "    </tr>\n",
       "  </tbody>\n",
       "</table>\n",
       "</div>"
      ],
      "text/plain": [
       "                                            text  \\\n",
       "2  dive many time ball manage save rest go bound   \n",
       "3                whole body feel itchy like fire   \n",
       "4                                 behave mad see   \n",
       "5                                     whole crew   \n",
       "6                                       need hug   \n",
       "\n",
       "                                              mapped  \\\n",
       "2  [0.531, -1, 0.288, 0.427, 0.53, 0.439, 0.167, ...   \n",
       "3         [0.357, 0.461, 0.602, 0.726, 0.353, 0.804]   \n",
       "4                              [0.363, 0.873, 0.269]   \n",
       "5                                     [0.357, 0.598]   \n",
       "6                                     [0.574, 0.427]   \n",
       "\n",
       "                                            original   mark   caps  letters  \\\n",
       "2  i dived many times for the ball managed to sav...  False   True    False   \n",
       "3     my whole body feels itchy and like its on fire  False  False    False   \n",
       "4  no its not behaving at all im mad why am i her...  False   True    False   \n",
       "5                                 not the whole crew  False  False    False   \n",
       "6                                         need a hug  False  False    False   \n",
       "\n",
       "   filtered  maximums  averages  \n",
       "2      True     0.667      0.44  \n",
       "3      True     0.804      0.55  \n",
       "4      True     0.873      0.50  \n",
       "5      True     0.598      0.48  \n",
       "6      True     0.574      0.50  "
      ]
     },
     "execution_count": 10,
     "metadata": {},
     "output_type": "execute_result"
    }
   ],
   "source": [
    "print(maximums[:10])\n",
    "print(averages[:10])\n",
    "filtered['maximums'] = maximums\n",
    "filtered['averages'] = averages\n",
    "filtered.head()"
   ]
  },
  {
   "cell_type": "code",
   "execution_count": 48,
   "id": "norman-recognition",
   "metadata": {},
   "outputs": [
    {
     "name": "stdout",
     "output_type": "stream",
     "text": [
      "Counter({0.02: 209235, 0.01: 198844, 0: 182634, 0.03: 160925, 0.04: 110358, 0.05: 68389, 0.06: 40510, 0.07: 22237, 0.08: 13274, 0.09: 7512, 0.1: 4479, 0.11: 2890, 0.12: 1940, 0.13: 1275, 0.14: 848, 0.15: 577, 0.16: 488, 0.17: 322, 0.18: 200, 0.19: 176, 0.2: 122, 0.21: 100, 0.23: 65, 0.22: 64, 0.25: 46, 0.24: 38, 0.26: 34, 0.27: 22, 0.28: 19, 0.29: 12, 0.3: 11, 0.32: 8, 0.31: 8, 0.35: 6, 0.34: 3, 0.33: 3, 0.37: 3, 0.38: 1, 0.36: 1})\n"
     ]
    },
    {
     "data": {
      "text/html": [
       "<div>\n",
       "<style scoped>\n",
       "    .dataframe tbody tr th:only-of-type {\n",
       "        vertical-align: middle;\n",
       "    }\n",
       "\n",
       "    .dataframe tbody tr th {\n",
       "        vertical-align: top;\n",
       "    }\n",
       "\n",
       "    .dataframe thead th {\n",
       "        text-align: right;\n",
       "    }\n",
       "</style>\n",
       "<table border=\"1\" class=\"dataframe\">\n",
       "  <thead>\n",
       "    <tr style=\"text-align: right;\">\n",
       "      <th></th>\n",
       "      <th>text</th>\n",
       "      <th>mapped</th>\n",
       "      <th>original</th>\n",
       "      <th>mark</th>\n",
       "      <th>caps</th>\n",
       "      <th>letters</th>\n",
       "      <th>filtered</th>\n",
       "      <th>maximums</th>\n",
       "      <th>averages</th>\n",
       "      <th>variance</th>\n",
       "      <th>avg_labels</th>\n",
       "      <th>max_labels</th>\n",
       "    </tr>\n",
       "  </thead>\n",
       "  <tbody>\n",
       "    <tr>\n",
       "      <th>2</th>\n",
       "      <td>dive many time ball manage save rest go bound</td>\n",
       "      <td>[0.531, -1, 0.288, 0.427, 0.53, 0.439, 0.167, ...</td>\n",
       "      <td>i dived many times for the ball managed to sav...</td>\n",
       "      <td>False</td>\n",
       "      <td>True</td>\n",
       "      <td>False</td>\n",
       "      <td>True</td>\n",
       "      <td>0.667</td>\n",
       "      <td>0.44</td>\n",
       "      <td>0.02</td>\n",
       "      <td>medium</td>\n",
       "      <td>medium</td>\n",
       "    </tr>\n",
       "    <tr>\n",
       "      <th>3</th>\n",
       "      <td>whole body feel itchy like fire</td>\n",
       "      <td>[0.357, 0.461, 0.602, 0.726, 0.353, 0.804]</td>\n",
       "      <td>my whole body feels itchy and like its on fire</td>\n",
       "      <td>False</td>\n",
       "      <td>False</td>\n",
       "      <td>False</td>\n",
       "      <td>True</td>\n",
       "      <td>0.804</td>\n",
       "      <td>0.55</td>\n",
       "      <td>0.04</td>\n",
       "      <td>medium</td>\n",
       "      <td>medium</td>\n",
       "    </tr>\n",
       "    <tr>\n",
       "      <th>4</th>\n",
       "      <td>behave mad see</td>\n",
       "      <td>[0.363, 0.873, 0.269]</td>\n",
       "      <td>no its not behaving at all im mad why am i her...</td>\n",
       "      <td>False</td>\n",
       "      <td>True</td>\n",
       "      <td>False</td>\n",
       "      <td>True</td>\n",
       "      <td>0.873</td>\n",
       "      <td>0.50</td>\n",
       "      <td>0.11</td>\n",
       "      <td>medium</td>\n",
       "      <td>medium</td>\n",
       "    </tr>\n",
       "    <tr>\n",
       "      <th>5</th>\n",
       "      <td>whole crew</td>\n",
       "      <td>[0.357, 0.598]</td>\n",
       "      <td>not the whole crew</td>\n",
       "      <td>False</td>\n",
       "      <td>False</td>\n",
       "      <td>False</td>\n",
       "      <td>True</td>\n",
       "      <td>0.598</td>\n",
       "      <td>0.48</td>\n",
       "      <td>0.00</td>\n",
       "      <td>medium</td>\n",
       "      <td>medium</td>\n",
       "    </tr>\n",
       "    <tr>\n",
       "      <th>6</th>\n",
       "      <td>need hug</td>\n",
       "      <td>[0.574, 0.427]</td>\n",
       "      <td>need a hug</td>\n",
       "      <td>False</td>\n",
       "      <td>False</td>\n",
       "      <td>False</td>\n",
       "      <td>True</td>\n",
       "      <td>0.574</td>\n",
       "      <td>0.50</td>\n",
       "      <td>0.00</td>\n",
       "      <td>medium</td>\n",
       "      <td>medium</td>\n",
       "    </tr>\n",
       "  </tbody>\n",
       "</table>\n",
       "</div>"
      ],
      "text/plain": [
       "                                            text  \\\n",
       "2  dive many time ball manage save rest go bound   \n",
       "3                whole body feel itchy like fire   \n",
       "4                                 behave mad see   \n",
       "5                                     whole crew   \n",
       "6                                       need hug   \n",
       "\n",
       "                                              mapped  \\\n",
       "2  [0.531, -1, 0.288, 0.427, 0.53, 0.439, 0.167, ...   \n",
       "3         [0.357, 0.461, 0.602, 0.726, 0.353, 0.804]   \n",
       "4                              [0.363, 0.873, 0.269]   \n",
       "5                                     [0.357, 0.598]   \n",
       "6                                     [0.574, 0.427]   \n",
       "\n",
       "                                            original   mark   caps  letters  \\\n",
       "2  i dived many times for the ball managed to sav...  False   True    False   \n",
       "3     my whole body feels itchy and like its on fire  False  False    False   \n",
       "4  no its not behaving at all im mad why am i her...  False   True    False   \n",
       "5                                 not the whole crew  False  False    False   \n",
       "6                                         need a hug  False  False    False   \n",
       "\n",
       "   filtered  maximums  averages  variance avg_labels max_labels  \n",
       "2      True     0.667      0.44      0.02     medium     medium  \n",
       "3      True     0.804      0.55      0.04     medium     medium  \n",
       "4      True     0.873      0.50      0.11     medium     medium  \n",
       "5      True     0.598      0.48      0.00     medium     medium  \n",
       "6      True     0.574      0.50      0.00     medium     medium  "
      ]
     },
     "execution_count": 48,
     "metadata": {},
     "output_type": "execute_result"
    }
   ],
   "source": [
    "from collections import Counter\n",
    "variances = []\n",
    "for i in filtered.values:\n",
    "    if len(i[1]) < 3:\n",
    "        variances.append(0)\n",
    "        continue\n",
    "    variance = 0\n",
    "    elms = 0\n",
    "    for j in i[1]:\n",
    "        if j != -1:\n",
    "            variance = variance + (abs((j - i[8])) * abs((j - i[8])))\n",
    "            elms = elms + 1\n",
    "    variances.append(round(variance/(elms-1),2))\n",
    "print(Counter(variances))\n",
    "filtered['variance'] = variances\n",
    "filtered.head()"
   ]
  },
  {
   "cell_type": "code",
   "execution_count": 49,
   "id": "documentary-festival",
   "metadata": {},
   "outputs": [
    {
     "name": "stdout",
     "output_type": "stream",
     "text": [
      "(70652, 954589, 73090)\n",
      "(57090, 1009422, 18257)\n"
     ]
    }
   ],
   "source": [
    "analyzer = Analyzer()\n",
    "analyze_avg = analyzer.labels_distribution(averages, 0.33, 0.68)\n",
    "analyze_max = analyzer.labels_distribution(maximums, 0.42, 0.88)\n",
    "\n",
    "print(analyze_max)\n",
    "print(analyze_avg)\n",
    "\n",
    "min_sample_max = min(analyze_max)\n",
    "min_sample_avg = min(analyze_avg)"
   ]
  },
  {
   "cell_type": "code",
   "execution_count": 146,
   "id": "front-caribbean",
   "metadata": {},
   "outputs": [
    {
     "data": {
      "image/png": "[encoded data removed]",
      "text/plain": [
       "<Figure size 2160x720 with 2 Axes>"
      ]
     },
     "metadata": {
      "needs_background": "light"
     },
     "output_type": "display_data"
    }
   ],
   "source": [
    "from collections import Counter\n",
    "import matplotlib.pyplot as plt\n",
    "\n",
    "def visualize(aggregate):\n",
    "    d_a = {\"0.05\": 0, \"0.1\": 0, \"0.15\": 0, \"0.2\": 0, \"0.25\": 0, \"0.3\": 0, \"0.35\":0, \"0.4\": 0, \"0.45\": 0,  \"0.5\":0, \"0.55\":0, \"0.6\": 0, \"0.65\":0, \"0.7\": 0,\"0.75\":0, \"0.8\": 0,\"0.85\":0, \"0.9\": 0,\"0.95\":0, \"1.0\":0}\n",
    "    for j in aggregate:\n",
    "        if j > 0 and j < 0.05:\n",
    "            d_a[\"0.05\"] = d_a[\"0.05\"] + 1\n",
    "        elif j >= 0.05 and j < 0.1:\n",
    "            d_a[\"0.1\"] = d_a[\"0.1\"] + 1\n",
    "        elif j >= 0.1 and j < 0.15:\n",
    "            d_a[\"0.15\"] = d_a[\"0.15\"] + 1\n",
    "        elif j >= 0.15 and j < 0.2:\n",
    "            d_a[\"0.2\"] = d_a[\"0.2\"] + 1\n",
    "        elif j >= 0.2 and j < 0.25:\n",
    "            d_a[\"0.25\"] = d_a[\"0.25\"] + 1\n",
    "        elif j >= 0.25 and j < 0.3:\n",
    "            d_a[\"0.3\"] = d_a[\"0.3\"] + 1\n",
    "        elif j >= 0.3 and j < 0.35:\n",
    "            d_a[\"0.35\"] = d_a[\"0.35\"] + 1\n",
    "        elif j >= 0.35 and j < 0.4:\n",
    "            d_a[\"0.4\"] = d_a[\"0.4\"] + 1\n",
    "        elif j >= 0.4 and j < 0.45:\n",
    "            d_a[\"0.45\"] = d_a[\"0.45\"] + 1\n",
    "        elif j >= 0.45 and j < 0.5:\n",
    "            d_a[\"0.5\"] = d_a[\"0.5\"] + 1\n",
    "        elif j >= 0.5 and j < 0.55:\n",
    "            d_a[\"0.55\"] = d_a[\"0.55\"] + 1\n",
    "        elif j >= 0.55 and j < 0.6:\n",
    "            d_a[\"0.6\"] = d_a[\"0.6\"] + 1\n",
    "        elif j >= 0.6 and j < 0.65:\n",
    "            d_a[\"0.65\"] = d_a[\"0.65\"] + 1\n",
    "        elif j >= 0.6 and j < 0.7:\n",
    "            d_a[\"0.7\"] = d_a[\"0.7\"] + 1\n",
    "        elif j >= 0.7 and j < 0.75:\n",
    "            d_a[\"0.75\"] = d_a[\"0.75\"] + 1\n",
    "        elif j >= 0.75 and j < 0.8:\n",
    "            d_a[\"0.8\"] = d_a[\"0.8\"] + 1\n",
    "        elif j >= 0.8 and j < 0.85:\n",
    "            d_a[\"0.85\"] = d_a[\"0.85\"] + 1\n",
    "        elif j >= 0.8 and j < 0.9:\n",
    "            d_a[\"0.9\"] = d_a[\"0.9\"] + 1\n",
    "        elif j >= 0.9 and j < 0.95:\n",
    "            d_a[\"0.95\"] = d_a[\"0.95\"] + 1\n",
    "        else:\n",
    "            d_a[\"1.0\"] = d_a[\"1.0\"] + 1\n",
    "    return d_a\n",
    "data = [visualize(averages), visualize(maximums)]\n",
    "titles = ['Averages', 'Maximums']\n",
    "fig, axes = plt.subplots(nrows=1,ncols=2,figsize=(30,10))\n",
    "for i, ax, title in zip(data, axes, titles):\n",
    "    ax.set_title(title, size=25)\n",
    "    ax.bar([k for k in i.keys()], i.values())\n",
    "plt.show()"
   ]
  },
  {
   "cell_type": "code",
   "execution_count": 51,
   "id": "consecutive-martial",
   "metadata": {},
   "outputs": [],
   "source": [
    "lens = analyzer.get_length_statistics(filtered)"
   ]
  },
  {
   "cell_type": "code",
   "execution_count": 52,
   "id": "bizarre-patrick",
   "metadata": {},
   "outputs": [
    {
     "data": {
      "text/plain": [
       "<BarContainer object of 27 artists>"
      ]
     },
     "execution_count": 52,
     "metadata": {},
     "output_type": "execute_result"
    },
    {
     "data": {
      "image/png": "[encoded data removed]",
      "text/plain": [
       "<Figure size 432x288 with 1 Axes>"
      ]
     },
     "metadata": {
      "needs_background": "light"
     },
     "output_type": "display_data"
    }
   ],
   "source": [
    "import matplotlib.pyplot as plt\n",
    "\n",
    "plt.title(\"Number of words in a tweet\", size=15)\n",
    "plt.bar([k for k in lens.keys()], lens.values())"
   ]
  },
  {
   "cell_type": "code",
   "execution_count": 280,
   "id": "buried-great",
   "metadata": {},
   "outputs": [],
   "source": [
    "minimums = [min([j for j in i if j > -1]) for i in filtered.mapped]"
   ]
  },
  {
   "cell_type": "code",
   "execution_count": 470,
   "id": "sapphire-ambassador",
   "metadata": {},
   "outputs": [
    {
     "data": {
      "text/html": [
       "<div>\n",
       "<style scoped>\n",
       "    .dataframe tbody tr th:only-of-type {\n",
       "        vertical-align: middle;\n",
       "    }\n",
       "\n",
       "    .dataframe tbody tr th {\n",
       "        vertical-align: top;\n",
       "    }\n",
       "\n",
       "    .dataframe thead th {\n",
       "        text-align: right;\n",
       "    }\n",
       "</style>\n",
       "<table border=\"1\" class=\"dataframe\">\n",
       "  <thead>\n",
       "    <tr style=\"text-align: right;\">\n",
       "      <th></th>\n",
       "      <th>text</th>\n",
       "      <th>mapped</th>\n",
       "      <th>original</th>\n",
       "      <th>mark</th>\n",
       "      <th>caps</th>\n",
       "      <th>letters</th>\n",
       "      <th>filtered</th>\n",
       "      <th>maximums</th>\n",
       "      <th>averages</th>\n",
       "      <th>variance</th>\n",
       "      <th>avg_labels</th>\n",
       "      <th>max_labels</th>\n",
       "      <th>minimums</th>\n",
       "    </tr>\n",
       "  </thead>\n",
       "  <tbody>\n",
       "    <tr>\n",
       "      <th>2</th>\n",
       "      <td>dive many time ball manage save rest go bound</td>\n",
       "      <td>[0.531, -1, 0.288, 0.427, 0.53, 0.439, 0.167, ...</td>\n",
       "      <td>i dived many times for the ball managed to sav...</td>\n",
       "      <td>False</td>\n",
       "      <td>True</td>\n",
       "      <td>False</td>\n",
       "      <td>True</td>\n",
       "      <td>0.667</td>\n",
       "      <td>0.44</td>\n",
       "      <td>0.02</td>\n",
       "      <td>medium</td>\n",
       "      <td>none</td>\n",
       "      <td>0.167</td>\n",
       "    </tr>\n",
       "    <tr>\n",
       "      <th>3</th>\n",
       "      <td>whole body feel itchy like fire</td>\n",
       "      <td>[0.357, 0.461, 0.602, 0.726, 0.353, 0.804]</td>\n",
       "      <td>my whole body feels itchy and like its on fire</td>\n",
       "      <td>False</td>\n",
       "      <td>False</td>\n",
       "      <td>False</td>\n",
       "      <td>True</td>\n",
       "      <td>0.804</td>\n",
       "      <td>0.55</td>\n",
       "      <td>0.04</td>\n",
       "      <td>none</td>\n",
       "      <td>high</td>\n",
       "      <td>0.353</td>\n",
       "    </tr>\n",
       "    <tr>\n",
       "      <th>4</th>\n",
       "      <td>behave mad see</td>\n",
       "      <td>[0.363, 0.873, 0.269]</td>\n",
       "      <td>no its not behaving at all im mad why am i her...</td>\n",
       "      <td>False</td>\n",
       "      <td>True</td>\n",
       "      <td>False</td>\n",
       "      <td>True</td>\n",
       "      <td>0.873</td>\n",
       "      <td>0.50</td>\n",
       "      <td>0.11</td>\n",
       "      <td>none</td>\n",
       "      <td>high</td>\n",
       "      <td>0.269</td>\n",
       "    </tr>\n",
       "    <tr>\n",
       "      <th>5</th>\n",
       "      <td>whole crew</td>\n",
       "      <td>[0.357, 0.598]</td>\n",
       "      <td>not the whole crew</td>\n",
       "      <td>False</td>\n",
       "      <td>False</td>\n",
       "      <td>False</td>\n",
       "      <td>True</td>\n",
       "      <td>0.598</td>\n",
       "      <td>0.48</td>\n",
       "      <td>0.00</td>\n",
       "      <td>medium</td>\n",
       "      <td>medium</td>\n",
       "      <td>0.357</td>\n",
       "    </tr>\n",
       "    <tr>\n",
       "      <th>6</th>\n",
       "      <td>need hug</td>\n",
       "      <td>[0.574, 0.427]</td>\n",
       "      <td>need a hug</td>\n",
       "      <td>False</td>\n",
       "      <td>False</td>\n",
       "      <td>False</td>\n",
       "      <td>True</td>\n",
       "      <td>0.574</td>\n",
       "      <td>0.50</td>\n",
       "      <td>0.00</td>\n",
       "      <td>none</td>\n",
       "      <td>medium</td>\n",
       "      <td>0.427</td>\n",
       "    </tr>\n",
       "  </tbody>\n",
       "</table>\n",
       "</div>"
      ],
      "text/plain": [
       "                                            text  \\\n",
       "2  dive many time ball manage save rest go bound   \n",
       "3                whole body feel itchy like fire   \n",
       "4                                 behave mad see   \n",
       "5                                     whole crew   \n",
       "6                                       need hug   \n",
       "\n",
       "                                              mapped  \\\n",
       "2  [0.531, -1, 0.288, 0.427, 0.53, 0.439, 0.167, ...   \n",
       "3         [0.357, 0.461, 0.602, 0.726, 0.353, 0.804]   \n",
       "4                              [0.363, 0.873, 0.269]   \n",
       "5                                     [0.357, 0.598]   \n",
       "6                                     [0.574, 0.427]   \n",
       "\n",
       "                                            original   mark   caps  letters  \\\n",
       "2  i dived many times for the ball managed to sav...  False   True    False   \n",
       "3     my whole body feels itchy and like its on fire  False  False    False   \n",
       "4  no its not behaving at all im mad why am i her...  False   True    False   \n",
       "5                                 not the whole crew  False  False    False   \n",
       "6                                         need a hug  False  False    False   \n",
       "\n",
       "   filtered  maximums  averages  variance avg_labels max_labels  minimums  \n",
       "2      True     0.667      0.44      0.02     medium       none     0.167  \n",
       "3      True     0.804      0.55      0.04       none       high     0.353  \n",
       "4      True     0.873      0.50      0.11       none       high     0.269  \n",
       "5      True     0.598      0.48      0.00     medium     medium     0.357  \n",
       "6      True     0.574      0.50      0.00       none     medium     0.427  "
      ]
     },
     "execution_count": 470,
     "metadata": {},
     "output_type": "execute_result"
    }
   ],
   "source": [
    "def add_labels(tweets, index, low_bound, mlower_bound, mupper_bound, high_bound):\n",
    "    classes = []\n",
    "    for i in tweets.values[:,index]:\n",
    "        if i >= high_bound:\n",
    "            classes.append(\"high\")\n",
    "        elif i <= low_bound and i > 0:\n",
    "            classes.append(\"low\")\n",
    "        elif i > mlower_bound and i < mupper_bound:\n",
    "            classes.append(\"medium\")\n",
    "        else:\n",
    "            classes.append(\"none\")\n",
    "        \n",
    "    tweets['values'] = classes\n",
    "        \n",
    "    return tweets\n",
    "\n",
    "filtered = add_labels(filtered, 8, 0.3, 0.4, 0.5, 0.7)\n",
    "filtered.head()\n",
    "filtered.columns=['text', 'mapped', 'original', 'mark', 'caps', 'letters', 'filtered', 'maximums', 'averages', 'variance', 'avg_labels']\n",
    "filtered = add_labels(filtered, 7, 0.4, 0.5, 0.6, 0.8)\n",
    "filtered.columns=['text', 'mapped', 'original', 'mark', 'caps', 'letters', 'filtered', 'maximums', 'averages', 'variance', 'avg_labels', 'max_labels']\n",
    "filtered['minimums'] = minimums\n",
    "filtered.head()\n",
    "#filtered = filtered.drop(['avg_labels', 'max_labels', 'minimums'], axis = 1)"
   ]
  },
  {
   "cell_type": "code",
   "execution_count": 484,
   "id": "expected-twins",
   "metadata": {},
   "outputs": [
    {
     "name": "stderr",
     "output_type": "stream",
     "text": [
      "<ipython-input-484-91416567776d>:1: UserWarning: Boolean Series key will be reindexed to match DataFrame index.\n",
      "  new_filtered = filtered[filtered.variance < 0.07][filtered.variance > 0]\n"
     ]
    },
    {
     "name": "stdout",
     "output_type": "stream",
     "text": [
      "5171\n"
     ]
    },
    {
     "data": {
      "image/png": "[encoded data removed]",
      "text/plain": [
       "<Figure size 432x288 with 1 Axes>"
      ]
     },
     "metadata": {
      "needs_background": "light"
     },
     "output_type": "display_data"
    }
   ],
   "source": [
    "new_filtered = filtered[filtered.variance < 0.07][filtered.variance > 0]\n",
    "new_filtered = new_filtered[new_filtered.avg_labels != 'none']\n",
    "new_filtered.head()\n",
    "print(len(new_filtered[new_filtered.avg_labels == \"high\"]))\n",
    "filtered_new_lens = analyzer.get_length_statistics(new_filtered)\n",
    "\n",
    "plt.bar([k for k in filtered_new_lens.keys()], filtered_new_lens.values())\n",
    "plt.show()"
   ]
  },
  {
   "cell_type": "code",
   "execution_count": 497,
   "id": "expired-decimal",
   "metadata": {},
   "outputs": [
    {
     "name": "stderr",
     "output_type": "stream",
     "text": [
      "<ipython-input-497-22c2fc2d3afe>:4: UserWarning: Boolean Series key will be reindexed to match DataFrame index.\n",
      "  df_med = df[df.avg_labels == 'medium'][df.maximums < 0.65][df.minimums > 0.35]\n",
      "<ipython-input-497-22c2fc2d3afe>:4: UserWarning: Boolean Series key will be reindexed to match DataFrame index.\n",
      "  df_med = df[df.avg_labels == 'medium'][df.maximums < 0.65][df.minimums > 0.35]\n",
      "<ipython-input-497-22c2fc2d3afe>:5: UserWarning: Boolean Series key will be reindexed to match DataFrame index.\n",
      "  df_low = df[df.avg_labels == 'low'][df.maximums < 0.37]\n",
      "<ipython-input-497-22c2fc2d3afe>:4: UserWarning: Boolean Series key will be reindexed to match DataFrame index.\n",
      "  df_med = df[df.avg_labels == 'medium'][df.maximums < 0.65][df.minimums > 0.35]\n",
      "<ipython-input-497-22c2fc2d3afe>:4: UserWarning: Boolean Series key will be reindexed to match DataFrame index.\n",
      "  df_med = df[df.avg_labels == 'medium'][df.maximums < 0.65][df.minimums > 0.35]\n"
     ]
    },
    {
     "name": "stdout",
     "output_type": "stream",
     "text": [
      "(12000, 13)\n",
      "(15300, 13)\n"
     ]
    },
    {
     "name": "stderr",
     "output_type": "stream",
     "text": [
      "<ipython-input-497-22c2fc2d3afe>:5: UserWarning: Boolean Series key will be reindexed to match DataFrame index.\n",
      "  df_low = df[df.avg_labels == 'low'][df.maximums < 0.37]\n"
     ]
    }
   ],
   "source": [
    "def get_even_distribution(df, attr, min_sample_size):\n",
    "    \n",
    "    df_high = df[df.avg_labels == 'high']\n",
    "    df_med = df[df.avg_labels == 'medium'][df.maximums < 0.65][df.minimums > 0.35]\n",
    "    df_low = df[df.avg_labels == 'low'][df.maximums < 0.37]\n",
    "    low_df = mapper.get_sample(df_low, df_low[attr], \"low\", min_sample_size)\n",
    "    med_df = mapper.get_sample(df_med, df_med[attr], \"medium\", min_sample_size)\n",
    "    high_df = mapper.get_sample(df_high, df_high[attr], \"high\", min_sample_size)\n",
    "    \n",
    "    distr_df = pd.concat([low_df, med_df, high_df])\n",
    "    return distr_df\n",
    "\n",
    "avg_df = get_even_distribution(new_filtered, 'avg_labels', 5100)\n",
    "max_df = get_even_distribution(new_filtered, 'max_labels', 4000)\n",
    "print(max_df.shape)\n",
    "print(avg_df.shape)\n",
    "#max_df.head()"
   ]
  },
  {
   "cell_type": "code",
   "execution_count": 490,
   "id": "technological-dispute",
   "metadata": {},
   "outputs": [
    {
     "data": {
      "text/html": [
       "<div>\n",
       "<style scoped>\n",
       "    .dataframe tbody tr th:only-of-type {\n",
       "        vertical-align: middle;\n",
       "    }\n",
       "\n",
       "    .dataframe tbody tr th {\n",
       "        vertical-align: top;\n",
       "    }\n",
       "\n",
       "    .dataframe thead th {\n",
       "        text-align: right;\n",
       "    }\n",
       "</style>\n",
       "<table border=\"1\" class=\"dataframe\">\n",
       "  <thead>\n",
       "    <tr style=\"text-align: right;\">\n",
       "      <th></th>\n",
       "      <th>text</th>\n",
       "      <th>mapped</th>\n",
       "      <th>original</th>\n",
       "      <th>mark</th>\n",
       "      <th>caps</th>\n",
       "      <th>letters</th>\n",
       "      <th>filtered</th>\n",
       "      <th>maximums</th>\n",
       "      <th>averages</th>\n",
       "      <th>variance</th>\n",
       "      <th>avg_labels</th>\n",
       "      <th>max_labels</th>\n",
       "      <th>minimums</th>\n",
       "    </tr>\n",
       "  </thead>\n",
       "  <tbody>\n",
       "    <tr>\n",
       "      <th>1253330</th>\n",
       "      <td>sing smokey twitter background</td>\n",
       "      <td>[0.606, 0.462, -1, 0.357]</td>\n",
       "      <td>sing it smokey well do twitter background</td>\n",
       "      <td>True</td>\n",
       "      <td>True</td>\n",
       "      <td>False</td>\n",
       "      <td>True</td>\n",
       "      <td>0.606</td>\n",
       "      <td>0.48</td>\n",
       "      <td>0.02</td>\n",
       "      <td>medium</td>\n",
       "      <td>none</td>\n",
       "      <td>0.357</td>\n",
       "    </tr>\n",
       "    <tr>\n",
       "      <th>5910</th>\n",
       "      <td>back work go</td>\n",
       "      <td>[0.353, 0.596, 0.441]</td>\n",
       "      <td>back to work i go</td>\n",
       "      <td>True</td>\n",
       "      <td>True</td>\n",
       "      <td>False</td>\n",
       "      <td>True</td>\n",
       "      <td>0.596</td>\n",
       "      <td>0.46</td>\n",
       "      <td>0.02</td>\n",
       "      <td>medium</td>\n",
       "      <td>medium</td>\n",
       "      <td>0.353</td>\n",
       "    </tr>\n",
       "    <tr>\n",
       "      <th>693655</th>\n",
       "      <td>hang son tomorrow</td>\n",
       "      <td>[0.529, 0.365, 0.377]</td>\n",
       "      <td>hanging out with my son tomorrow</td>\n",
       "      <td>False</td>\n",
       "      <td>False</td>\n",
       "      <td>True</td>\n",
       "      <td>True</td>\n",
       "      <td>0.529</td>\n",
       "      <td>0.42</td>\n",
       "      <td>0.01</td>\n",
       "      <td>medium</td>\n",
       "      <td>medium</td>\n",
       "      <td>0.365</td>\n",
       "    </tr>\n",
       "    <tr>\n",
       "      <th>28791</th>\n",
       "      <td>thanks plan despite rain</td>\n",
       "      <td>[0.472, 0.54, -1, 0.388]</td>\n",
       "      <td>thanks we plan to despite the rain</td>\n",
       "      <td>True</td>\n",
       "      <td>False</td>\n",
       "      <td>False</td>\n",
       "      <td>True</td>\n",
       "      <td>0.540</td>\n",
       "      <td>0.47</td>\n",
       "      <td>0.01</td>\n",
       "      <td>medium</td>\n",
       "      <td>medium</td>\n",
       "      <td>0.388</td>\n",
       "    </tr>\n",
       "    <tr>\n",
       "      <th>256040</th>\n",
       "      <td>work tomorrow thank gawd good guvment job need...</td>\n",
       "      <td>[0.596, 0.377, 0.353, -1, 0.368, -1, 0.541, 0....</td>\n",
       "      <td>work tomorrow thank gawd for my good guvment j...</td>\n",
       "      <td>False</td>\n",
       "      <td>True</td>\n",
       "      <td>True</td>\n",
       "      <td>True</td>\n",
       "      <td>0.596</td>\n",
       "      <td>0.48</td>\n",
       "      <td>0.01</td>\n",
       "      <td>medium</td>\n",
       "      <td>medium</td>\n",
       "      <td>0.353</td>\n",
       "    </tr>\n",
       "    <tr>\n",
       "      <th>...</th>\n",
       "      <td>...</td>\n",
       "      <td>...</td>\n",
       "      <td>...</td>\n",
       "      <td>...</td>\n",
       "      <td>...</td>\n",
       "      <td>...</td>\n",
       "      <td>...</td>\n",
       "      <td>...</td>\n",
       "      <td>...</td>\n",
       "      <td>...</td>\n",
       "      <td>...</td>\n",
       "      <td>...</td>\n",
       "      <td>...</td>\n",
       "    </tr>\n",
       "    <tr>\n",
       "      <th>508873</th>\n",
       "      <td>still shop night baking</td>\n",
       "      <td>[-1, 0.632, 0.396, 0.455]</td>\n",
       "      <td>still havent been shopping ill be up all night...</td>\n",
       "      <td>False</td>\n",
       "      <td>False</td>\n",
       "      <td>False</td>\n",
       "      <td>True</td>\n",
       "      <td>0.632</td>\n",
       "      <td>0.49</td>\n",
       "      <td>0.02</td>\n",
       "      <td>medium</td>\n",
       "      <td>none</td>\n",
       "      <td>0.396</td>\n",
       "    </tr>\n",
       "    <tr>\n",
       "      <th>886226</th>\n",
       "      <td>vote good luck</td>\n",
       "      <td>[0.5, 0.368, 0.49]</td>\n",
       "      <td>voted good luck</td>\n",
       "      <td>True</td>\n",
       "      <td>False</td>\n",
       "      <td>False</td>\n",
       "      <td>True</td>\n",
       "      <td>0.500</td>\n",
       "      <td>0.45</td>\n",
       "      <td>0.01</td>\n",
       "      <td>medium</td>\n",
       "      <td>none</td>\n",
       "      <td>0.368</td>\n",
       "    </tr>\n",
       "    <tr>\n",
       "      <th>580746</th>\n",
       "      <td>sick traffic downtown</td>\n",
       "      <td>[0.431, 0.559, -1]</td>\n",
       "      <td>so sick of the traffic in downtown</td>\n",
       "      <td>False</td>\n",
       "      <td>False</td>\n",
       "      <td>False</td>\n",
       "      <td>True</td>\n",
       "      <td>0.559</td>\n",
       "      <td>0.49</td>\n",
       "      <td>0.01</td>\n",
       "      <td>medium</td>\n",
       "      <td>medium</td>\n",
       "      <td>0.431</td>\n",
       "    </tr>\n",
       "    <tr>\n",
       "      <th>1481877</th>\n",
       "      <td>shippment fail arrive</td>\n",
       "      <td>[0.44, 0.578, 0.406]</td>\n",
       "      <td>your shippment of fail has arrived</td>\n",
       "      <td>False</td>\n",
       "      <td>True</td>\n",
       "      <td>False</td>\n",
       "      <td>True</td>\n",
       "      <td>0.578</td>\n",
       "      <td>0.47</td>\n",
       "      <td>0.01</td>\n",
       "      <td>medium</td>\n",
       "      <td>medium</td>\n",
       "      <td>0.406</td>\n",
       "    </tr>\n",
       "    <tr>\n",
       "      <th>1101177</th>\n",
       "      <td>love get discount free stuff cause</td>\n",
       "      <td>[0.519, 0.594, 0.53, 0.5, 0.367, 0.373]</td>\n",
       "      <td>i love getting discounts and free stuff just c...</td>\n",
       "      <td>False</td>\n",
       "      <td>True</td>\n",
       "      <td>False</td>\n",
       "      <td>True</td>\n",
       "      <td>0.594</td>\n",
       "      <td>0.48</td>\n",
       "      <td>0.01</td>\n",
       "      <td>medium</td>\n",
       "      <td>medium</td>\n",
       "      <td>0.367</td>\n",
       "    </tr>\n",
       "  </tbody>\n",
       "</table>\n",
       "<p>5100 rows × 13 columns</p>\n",
       "</div>"
      ],
      "text/plain": [
       "                                                      text  \\\n",
       "1253330                     sing smokey twitter background   \n",
       "5910                                          back work go   \n",
       "693655                                   hang son tomorrow   \n",
       "28791                             thanks plan despite rain   \n",
       "256040   work tomorrow thank gawd good guvment job need...   \n",
       "...                                                    ...   \n",
       "508873                             still shop night baking   \n",
       "886226                                      vote good luck   \n",
       "580746                               sick traffic downtown   \n",
       "1481877                              shippment fail arrive   \n",
       "1101177                 love get discount free stuff cause   \n",
       "\n",
       "                                                    mapped  \\\n",
       "1253330                          [0.606, 0.462, -1, 0.357]   \n",
       "5910                                 [0.353, 0.596, 0.441]   \n",
       "693655                               [0.529, 0.365, 0.377]   \n",
       "28791                             [0.472, 0.54, -1, 0.388]   \n",
       "256040   [0.596, 0.377, 0.353, -1, 0.368, -1, 0.541, 0....   \n",
       "...                                                    ...   \n",
       "508873                           [-1, 0.632, 0.396, 0.455]   \n",
       "886226                                  [0.5, 0.368, 0.49]   \n",
       "580746                                  [0.431, 0.559, -1]   \n",
       "1481877                               [0.44, 0.578, 0.406]   \n",
       "1101177            [0.519, 0.594, 0.53, 0.5, 0.367, 0.373]   \n",
       "\n",
       "                                                  original   mark   caps  \\\n",
       "1253330          sing it smokey well do twitter background   True   True   \n",
       "5910                                     back to work i go   True   True   \n",
       "693655                    hanging out with my son tomorrow  False  False   \n",
       "28791                   thanks we plan to despite the rain   True  False   \n",
       "256040   work tomorrow thank gawd for my good guvment j...  False   True   \n",
       "...                                                    ...    ...    ...   \n",
       "508873   still havent been shopping ill be up all night...  False  False   \n",
       "886226                                     voted good luck   True  False   \n",
       "580746                  so sick of the traffic in downtown  False  False   \n",
       "1481877                 your shippment of fail has arrived  False   True   \n",
       "1101177  i love getting discounts and free stuff just c...  False   True   \n",
       "\n",
       "         letters  filtered  maximums  averages  variance avg_labels  \\\n",
       "1253330    False      True     0.606      0.48      0.02     medium   \n",
       "5910       False      True     0.596      0.46      0.02     medium   \n",
       "693655      True      True     0.529      0.42      0.01     medium   \n",
       "28791      False      True     0.540      0.47      0.01     medium   \n",
       "256040      True      True     0.596      0.48      0.01     medium   \n",
       "...          ...       ...       ...       ...       ...        ...   \n",
       "508873     False      True     0.632      0.49      0.02     medium   \n",
       "886226     False      True     0.500      0.45      0.01     medium   \n",
       "580746     False      True     0.559      0.49      0.01     medium   \n",
       "1481877    False      True     0.578      0.47      0.01     medium   \n",
       "1101177    False      True     0.594      0.48      0.01     medium   \n",
       "\n",
       "        max_labels  minimums  \n",
       "1253330       none     0.357  \n",
       "5910        medium     0.353  \n",
       "693655      medium     0.365  \n",
       "28791       medium     0.388  \n",
       "256040      medium     0.353  \n",
       "...            ...       ...  \n",
       "508873        none     0.396  \n",
       "886226        none     0.368  \n",
       "580746      medium     0.431  \n",
       "1481877     medium     0.406  \n",
       "1101177     medium     0.367  \n",
       "\n",
       "[5100 rows x 13 columns]"
      ]
     },
     "execution_count": 490,
     "metadata": {},
     "output_type": "execute_result"
    }
   ],
   "source": [
    "avg_df[avg_df.avg_labels == \"medium\"]"
   ]
  },
  {
   "cell_type": "code",
   "execution_count": 498,
   "id": "violent-cartoon",
   "metadata": {},
   "outputs": [
    {
     "data": {
      "image/png": "[encoded data removed]",
      "text/plain": [
       "<Figure size 1440x360 with 2 Axes>"
      ]
     },
     "metadata": {
      "needs_background": "light"
     },
     "output_type": "display_data"
    }
   ],
   "source": [
    "avg_lens = analyzer.get_length_statistics(avg_df)\n",
    "max_lens = analyzer.get_length_statistics(max_df)\n",
    "\n",
    "data = [avg_lens, max_lens]\n",
    "titles = [\"Number of words in mapped tweets by average\", \"Number of words in mapped tweets by maximum\", ]\n",
    "fig, axes = plt.subplots(nrows=1, ncols=2, figsize=(20,5))\n",
    "for rec, ax, title in zip(data, axes, titles):\n",
    "    ax.set_title(title, size=15)\n",
    "    ax.bar([k for k in rec.keys()], rec.values())"
   ]
  },
  {
   "cell_type": "code",
   "execution_count": 492,
   "id": "direct-picture",
   "metadata": {},
   "outputs": [],
   "source": [
    "def init_transfered_model(df, attr, max_seq_len):\n",
    "    x_train, x_test, y_train, y_test = create_raw_input(df['original'], df[attr], 0.2)\n",
    "    bert_layer, tokenizer = pull_bert('https://tfhub.dev/tensorflow/small_bert/bert_en_uncased_L-4_H-256_A-4/2')\n",
    "    #max_seq_len = get_max_lengths(df['original'], tokenizer)\n",
    "    \n",
    "    X_train = bert_encode(x_train, tokenizer, max_seq_len)\n",
    "    X_test = bert_encode(x_test, tokenizer, max_seq_len)\n",
    "    \n",
    "    return X_train, X_test, y_train, y_test, bert_layer\n",
    "\n",
    "avgX_train, avgX_test, avgy_train, avgy_test, avgbert_layer = init_transfered_model(avg_df, 'avg_labels', 150)\n",
    "#maxX_train, maxX_test, maxy_train, maxy_test, maxbert_layer = init_transfered_model(max_df, 'max_labels', 150)"
   ]
  },
  {
   "cell_type": "code",
   "execution_count": 493,
   "id": "detailed-florence",
   "metadata": {},
   "outputs": [
    {
     "name": "stdout",
     "output_type": "stream",
     "text": [
      "KerasTensor(type_spec=TensorSpec(shape=(None, 256), dtype=tf.float32, name=None), name='keras_layer_16/StatefulPartitionedCall:5', description=\"created by layer 'keras_layer_16'\")\n",
      "Model: \"model_39\"\n",
      "__________________________________________________________________________________________________\n",
      "Layer (type)                    Output Shape         Param #     Connected to                     \n",
      "==================================================================================================\n",
      "input_mask (InputLayer)         [(None, 150)]        0                                            \n",
      "__________________________________________________________________________________________________\n",
      "input_type_ids (InputLayer)     [(None, 150)]        0                                            \n",
      "__________________________________________________________________________________________________\n",
      "input_word_ids (InputLayer)     [(None, 150)]        0                                            \n",
      "__________________________________________________________________________________________________\n",
      "keras_layer_16 (KerasLayer)     {'default': (None, 2 11170561    input_mask[0][0]                 \n",
      "                                                                 input_type_ids[0][0]             \n",
      "                                                                 input_word_ids[0][0]             \n",
      "__________________________________________________________________________________________________\n",
      "dropout_42 (Dropout)            (None, 150, 256)     0           keras_layer_16[0][6]             \n",
      "__________________________________________________________________________________________________\n",
      "conv1d_179 (Conv1D)             (None, 148, 256)     196864      dropout_42[0][0]                 \n",
      "__________________________________________________________________________________________________\n",
      "average_pooling1d_51 (AveragePo (None, 37, 256)      0           conv1d_179[0][0]                 \n",
      "__________________________________________________________________________________________________\n",
      "conv1d_180 (Conv1D)             (None, 35, 128)      98432       average_pooling1d_51[0][0]       \n",
      "__________________________________________________________________________________________________\n",
      "average_pooling1d_52 (AveragePo (None, 17, 128)      0           conv1d_180[0][0]                 \n",
      "__________________________________________________________________________________________________\n",
      "conv1d_181 (Conv1D)             (None, 15, 64)       24640       average_pooling1d_52[0][0]       \n",
      "__________________________________________________________________________________________________\n",
      "conv1d_182 (Conv1D)             (None, 13, 8)        1544        conv1d_181[0][0]                 \n",
      "__________________________________________________________________________________________________\n",
      "flatten_39 (Flatten)            (None, 104)          0           conv1d_182[0][0]                 \n",
      "__________________________________________________________________________________________________\n",
      "dense_39 (Dense)                (None, 3)            315         flatten_39[0][0]                 \n",
      "==================================================================================================\n",
      "Total params: 11,492,356\n",
      "Trainable params: 321,795\n",
      "Non-trainable params: 11,170,561\n",
      "__________________________________________________________________________________________________\n"
     ]
    }
   ],
   "source": [
    "import tensorflow as tf\n",
    "\n",
    "def create_model(bert_layer, max_seq_len, num_class):\n",
    "\n",
    "    input_word_ids = tf.keras.layers.Input(shape=(max_seq_len,), dtype=tf.int32, name=\"input_word_ids\")\n",
    "    input_mask = tf.keras.layers.Input(shape=(max_seq_len,), dtype=tf.int32, name=\"input_mask\")\n",
    "    input_type_ids = tf.keras.layers.Input(shape=(max_seq_len,), dtype=tf.int32, name=\"input_type_ids\")\n",
    "\n",
    "    bert_input = {\n",
    "        'input_word_ids': input_word_ids,\n",
    "        'input_mask': input_mask,\n",
    "        'input_type_ids': input_type_ids\n",
    "    }\n",
    "\n",
    "    outputs = bert_layer(bert_input)\n",
    "    #print(outputs)\n",
    "    pooled_output = outputs['pooled_output']\n",
    "    sequence_output = outputs['sequence_output']\n",
    "\n",
    "    print(pooled_output)\n",
    "\n",
    "    output = tf.keras.layers.Dropout(rate=0.05)(sequence_output)\n",
    "    output = tf.keras.layers.Conv1D(filters=256, kernel_size=3, activation='relu')(output)\n",
    "    output = tf.keras.layers.AvgPool1D(pool_size=4)(output)\n",
    "    output = tf.keras.layers.Conv1D(filters=128, kernel_size=3, activation='relu')(output)\n",
    "    output = tf.keras.layers.AvgPool1D(pool_size=2)(output)\n",
    "    output = tf.keras.layers.Conv1D(filters=64, kernel_size=3, activation='relu')(output)\n",
    "    output = tf.keras.layers.Conv1D(filters=8, kernel_size=3, activation='relu')(output)\n",
    "    output = tf.keras.layers.Flatten()(output)\n",
    "    output = tf.keras.layers.Dense(num_class, activation='softmax')(output)\n",
    "\n",
    "    model = tf.keras.Model(\n",
    "        inputs={\n",
    "            'input_word_ids': input_word_ids,\n",
    "            'input_mask': input_mask,\n",
    "            'input_type_ids': input_type_ids\n",
    "        },\n",
    "        outputs=output\n",
    "    )\n",
    "\n",
    "    model.summary()\n",
    "\n",
    "    model.compile(\n",
    "        optimizer='adam',\n",
    "        loss='categorical_crossentropy',\n",
    "        metrics='accuracy'\n",
    "    )\n",
    "    \n",
    "    return model\n",
    "\n",
    "model_avg = create_model(avgbert_layer, 150, len(avgy_train[0]))\n",
    "#model_max = create_model(maxbert_layer, maxmax_seq_len, len(maxy_train[0]))"
   ]
  },
  {
   "cell_type": "code",
   "execution_count": 494,
   "id": "burning-marketing",
   "metadata": {},
   "outputs": [
    {
     "name": "stdout",
     "output_type": "stream",
     "text": [
      "Epoch 1/5\n",
      "383/383 [==============================] - 507s 1s/step - loss: 0.5576 - accuracy: 0.7575\n",
      "Epoch 2/5\n",
      "383/383 [==============================] - 489s 1s/step - loss: 0.3977 - accuracy: 0.8413\n",
      "Epoch 3/5\n",
      "383/383 [==============================] - 490s 1s/step - loss: 0.3174 - accuracy: 0.8724\n",
      "Epoch 4/5\n",
      "383/383 [==============================] - 488s 1s/step - loss: 0.2678 - accuracy: 0.8977\n",
      "Epoch 5/5\n",
      "383/383 [==============================] - 472s 1s/step - loss: 0.2183 - accuracy: 0.9171\n"
     ]
    }
   ],
   "source": [
    "history_avg = model_avg.fit(\n",
    "    avgX_train,\n",
    "    avgy_train,\n",
    "    epochs=5,\n",
    "    verbose=1\n",
    ")"
   ]
  },
  {
   "cell_type": "code",
   "execution_count": 495,
   "id": "nutritional-suggestion",
   "metadata": {},
   "outputs": [
    {
     "name": "stdout",
     "output_type": "stream",
     "text": [
      "96/96 [==============================] - 117s 1s/step - loss: 0.3632 - accuracy: 0.8578\n"
     ]
    },
    {
     "data": {
      "text/plain": [
       "[0.3631669282913208, 0.8578431606292725]"
      ]
     },
     "execution_count": 495,
     "metadata": {},
     "output_type": "execute_result"
    }
   ],
   "source": [
    "model_avg.evaluate(avgX_test, avgy_test)"
   ]
  },
  {
   "cell_type": "code",
   "execution_count": 496,
   "id": "heated-facial",
   "metadata": {},
   "outputs": [
    {
     "name": "stderr",
     "output_type": "stream",
     "text": [
      "WARNING:absl:Found untraced functions such as restored_function_body, restored_function_body, restored_function_body, restored_function_body, restored_function_body while saving (showing 5 of 315). These functions will not be directly callable after loading.\n"
     ]
    },
    {
     "name": "stdout",
     "output_type": "stream",
     "text": [
      "INFO:tensorflow:Assets written to: D:/model_85_acc/avg_model\\assets\n"
     ]
    },
    {
     "name": "stderr",
     "output_type": "stream",
     "text": [
      "INFO:tensorflow:Assets written to: D:/model_85_acc/avg_model\\assets\n"
     ]
    }
   ],
   "source": [
    "model_avg.save('D:/model_85_acc/avg_model')"
   ]
  },
  {
   "cell_type": "code",
   "execution_count": 500,
   "id": "critical-grain",
   "metadata": {},
   "outputs": [],
   "source": [
    "maxX_train, maxX_test, maxy_train, maxy_test, maxbert_layer = init_transfered_model(max_df, 'max_labels', 150)"
   ]
  },
  {
   "cell_type": "code",
   "execution_count": 501,
   "id": "tribal-artwork",
   "metadata": {},
   "outputs": [
    {
     "name": "stdout",
     "output_type": "stream",
     "text": [
      "KerasTensor(type_spec=TensorSpec(shape=(None, 256), dtype=tf.float32, name=None), name='keras_layer_17/StatefulPartitionedCall:5', description=\"created by layer 'keras_layer_17'\")\n",
      "Model: \"model_40\"\n",
      "__________________________________________________________________________________________________\n",
      "Layer (type)                    Output Shape         Param #     Connected to                     \n",
      "==================================================================================================\n",
      "input_mask (InputLayer)         [(None, 150)]        0                                            \n",
      "__________________________________________________________________________________________________\n",
      "input_type_ids (InputLayer)     [(None, 150)]        0                                            \n",
      "__________________________________________________________________________________________________\n",
      "input_word_ids (InputLayer)     [(None, 150)]        0                                            \n",
      "__________________________________________________________________________________________________\n",
      "keras_layer_17 (KerasLayer)     {'default': (None, 2 11170561    input_mask[0][0]                 \n",
      "                                                                 input_type_ids[0][0]             \n",
      "                                                                 input_word_ids[0][0]             \n",
      "__________________________________________________________________________________________________\n",
      "dropout_43 (Dropout)            (None, 150, 256)     0           keras_layer_17[0][6]             \n",
      "__________________________________________________________________________________________________\n",
      "conv1d_183 (Conv1D)             (None, 148, 256)     196864      dropout_43[0][0]                 \n",
      "__________________________________________________________________________________________________\n",
      "average_pooling1d_53 (AveragePo (None, 37, 256)      0           conv1d_183[0][0]                 \n",
      "__________________________________________________________________________________________________\n",
      "conv1d_184 (Conv1D)             (None, 35, 128)      98432       average_pooling1d_53[0][0]       \n",
      "__________________________________________________________________________________________________\n",
      "average_pooling1d_54 (AveragePo (None, 17, 128)      0           conv1d_184[0][0]                 \n",
      "__________________________________________________________________________________________________\n",
      "conv1d_185 (Conv1D)             (None, 15, 64)       24640       average_pooling1d_54[0][0]       \n",
      "__________________________________________________________________________________________________\n",
      "conv1d_186 (Conv1D)             (None, 13, 8)        1544        conv1d_185[0][0]                 \n",
      "__________________________________________________________________________________________________\n",
      "flatten_40 (Flatten)            (None, 104)          0           conv1d_186[0][0]                 \n",
      "__________________________________________________________________________________________________\n",
      "dense_40 (Dense)                (None, 3)            315         flatten_40[0][0]                 \n",
      "==================================================================================================\n",
      "Total params: 11,492,356\n",
      "Trainable params: 321,795\n",
      "Non-trainable params: 11,170,561\n",
      "__________________________________________________________________________________________________\n",
      "Epoch 1/4\n",
      "300/300 [==============================] - 380s 1s/step - loss: 0.5637 - accuracy: 0.7604\n",
      "Epoch 2/4\n",
      "300/300 [==============================] - 354s 1s/step - loss: 0.3806 - accuracy: 0.8462\n",
      "Epoch 3/4\n",
      "300/300 [==============================] - 352s 1s/step - loss: 0.3177 - accuracy: 0.8754\n",
      "Epoch 4/4\n",
      "300/300 [==============================] - 351s 1s/step - loss: 0.2603 - accuracy: 0.8976\n"
     ]
    }
   ],
   "source": [
    "model_max = create_model(maxbert_layer, 150, len(maxy_train[0]))\n",
    "history_max = model_max.fit(\n",
    "    maxX_train,\n",
    "    maxy_train,\n",
    "    epochs=4,\n",
    "    verbose=1\n",
    ")"
   ]
  },
  {
   "cell_type": "code",
   "execution_count": 503,
   "id": "signal-nurse",
   "metadata": {},
   "outputs": [
    {
     "data": {
      "image/png": "[encoded data removed]",
      "text/plain": [
       "<Figure size 1080x360 with 2 Axes>"
      ]
     },
     "metadata": {
      "needs_background": "light"
     },
     "output_type": "display_data"
    },
    {
     "data": {
      "image/png": "[encoded data removed]",
      "text/plain": [
       "<Figure size 1080x360 with 2 Axes>"
      ]
     },
     "metadata": {
      "needs_background": "light"
     },
     "output_type": "display_data"
    }
   ],
   "source": [
    "import matplotlib.pyplot as plt\n",
    "\n",
    "def show_results(history, subtitle, epochs):\n",
    "    metrics_data = [history.history['accuracy'], history.history['loss']]\n",
    "    labels = ['accuracy', 'loss']\n",
    "    fig, axes = plt.subplots(nrows=1, ncols=2, figsize=(15,5))\n",
    "\n",
    "    fig.suptitle(subtitle)\n",
    "\n",
    "    for data, ax, label in zip(metrics_data, axes, labels):\n",
    "        ax.set_xlabel('epochs')\n",
    "        ax.set_ylabel(label)\n",
    "        ax.plot(range(1,epochs), data)\n",
    "\n",
    "    plt.show()\n",
    "    \n",
    "show_results(history_avg, \"Averages model training\", 6)\n",
    "show_results(history_max, \"Maximums model training\", 5)"
   ]
  },
  {
   "cell_type": "code",
   "execution_count": 505,
   "id": "average-found",
   "metadata": {},
   "outputs": [
    {
     "name": "stdout",
     "output_type": "stream",
     "text": [
      "75/75 [==============================] - 93s 1s/step - loss: 0.3583 - accuracy: 0.8662\n"
     ]
    },
    {
     "data": {
      "text/plain": [
       "[0.3582601845264435, 0.8662499785423279]"
      ]
     },
     "execution_count": 505,
     "metadata": {},
     "output_type": "execute_result"
    }
   ],
   "source": [
    "model_max.evaluate(maxX_test, maxy_test)"
   ]
  },
  {
   "cell_type": "code",
   "execution_count": 504,
   "id": "generous-table",
   "metadata": {},
   "outputs": [
    {
     "name": "stderr",
     "output_type": "stream",
     "text": [
      "WARNING:absl:Found untraced functions such as restored_function_body, restored_function_body, restored_function_body, restored_function_body, restored_function_body while saving (showing 5 of 315). These functions will not be directly callable after loading.\n"
     ]
    },
    {
     "name": "stdout",
     "output_type": "stream",
     "text": [
      "INFO:tensorflow:Assets written to: D:/model_85_acc/max_model\\assets\n"
     ]
    },
    {
     "name": "stderr",
     "output_type": "stream",
     "text": [
      "INFO:tensorflow:Assets written to: D:/model_85_acc/max_model\\assets\n"
     ]
    }
   ],
   "source": [
    "model_max.save('D:/model_85_acc/max_model')"
   ]
  },
  {
   "cell_type": "code",
   "execution_count": 29,
   "id": "featured-daily",
   "metadata": {},
   "outputs": [
    {
     "name": "stderr",
     "output_type": "stream",
     "text": [
      "WARNING:absl:Found untraced functions such as restored_function_body, restored_function_body, restored_function_body, restored_function_body, restored_function_body while saving (showing 5 of 165). These functions will not be directly callable after loading.\n"
     ]
    },
    {
     "name": "stdout",
     "output_type": "stream",
     "text": [
      "INFO:tensorflow:Assets written to: D:/arousal_models_75/avg_model\\assets\n"
     ]
    },
    {
     "name": "stderr",
     "output_type": "stream",
     "text": [
      "INFO:tensorflow:Assets written to: D:/arousal_models_75/avg_model\\assets\n"
     ]
    }
   ],
   "source": [
    "#previous model\n",
    "model_avg.save('D:/arousal_models_75/avg_model')"
   ]
  },
  {
   "cell_type": "code",
   "execution_count": 30,
   "id": "cooked-fields",
   "metadata": {},
   "outputs": [
    {
     "name": "stderr",
     "output_type": "stream",
     "text": [
      "WARNING:absl:Found untraced functions such as restored_function_body, restored_function_body, restored_function_body, restored_function_body, restored_function_body while saving (showing 5 of 165). These functions will not be directly callable after loading.\n"
     ]
    },
    {
     "name": "stdout",
     "output_type": "stream",
     "text": [
      "INFO:tensorflow:Assets written to: D:/arousal_models_75/max_model\\assets\n"
     ]
    },
    {
     "name": "stderr",
     "output_type": "stream",
     "text": [
      "INFO:tensorflow:Assets written to: D:/arousal_models_75/max_model\\assets\n"
     ]
    }
   ],
   "source": [
    "#previous model\n",
    "model_max.save('D:/arousal_models_75/max_model')"
   ]
  },
  {
   "cell_type": "code",
   "execution_count": 32,
   "id": "early-comment",
   "metadata": {},
   "outputs": [
    {
     "name": "stdout",
     "output_type": "stream",
     "text": [
      "233/233 [==============================] - 78s 333ms/step - loss: 0.4313 - accuracy: 0.8153\n"
     ]
    },
    {
     "data": {
      "text/plain": [
       "[0.43130698800086975, 0.8152917623519897]"
      ]
     },
     "execution_count": 32,
     "metadata": {},
     "output_type": "execute_result"
    }
   ],
   "source": [
    "#previous model\n",
    "model_avg.evaluate(avgX_test, avgy_test)"
   ]
  },
  {
   "cell_type": "code",
   "execution_count": 33,
   "id": "facial-animal",
   "metadata": {},
   "outputs": [
    {
     "name": "stdout",
     "output_type": "stream",
     "text": [
      "892/892 [==============================] - 362s 405ms/step - loss: 0.2996 - accuracy: 0.8795\n"
     ]
    },
    {
     "data": {
      "text/plain": [
       "[0.29957151412963867, 0.8795066475868225]"
      ]
     },
     "execution_count": 33,
     "metadata": {},
     "output_type": "execute_result"
    }
   ],
   "source": [
    "#previous model\n",
    "model_max.evaluate(maxX_test, maxy_test)"
   ]
  },
  {
   "cell_type": "code",
   "execution_count": 511,
   "id": "cooked-thesis",
   "metadata": {},
   "outputs": [
    {
     "name": "stdout",
     "output_type": "stream",
     "text": [
      "Single exclamation mark in tweets with low arousal: 1194\n",
      "Single exclamation mark in tweets with medium arousal: 1354\n",
      "Single exclamation mark in tweets with high arousal: 1705\n"
     ]
    },
    {
     "name": "stderr",
     "output_type": "stream",
     "text": [
      "<ipython-input-511-8de5c2f85876>:1: UserWarning: Boolean Series key will be reindexed to match DataFrame index.\n",
      "  print(\"Single exclamation mark in tweets with low arousal:\",len(avg_df[avg_df.avg_labels == \"low\"][avg_df.mark == True]))\n",
      "<ipython-input-511-8de5c2f85876>:2: UserWarning: Boolean Series key will be reindexed to match DataFrame index.\n",
      "  print(\"Single exclamation mark in tweets with medium arousal:\",len(avg_df[avg_df.avg_labels == \"medium\"][avg_df.mark == True]))\n",
      "<ipython-input-511-8de5c2f85876>:3: UserWarning: Boolean Series key will be reindexed to match DataFrame index.\n",
      "  print(\"Single exclamation mark in tweets with high arousal:\",len(avg_df[avg_df.avg_labels == \"high\"][avg_df.mark == True]))\n"
     ]
    }
   ],
   "source": [
    "print(\"Single exclamation mark in tweets with low arousal:\",len(avg_df[avg_df.avg_labels == \"low\"][avg_df.mark == True]))\n",
    "print(\"Single exclamation mark in tweets with medium arousal:\",len(avg_df[avg_df.avg_labels == \"medium\"][avg_df.mark == True]))\n",
    "print(\"Single exclamation mark in tweets with high arousal:\",len(avg_df[avg_df.avg_labels == \"high\"][avg_df.mark == True]))"
   ]
  },
  {
   "cell_type": "code",
   "execution_count": 512,
   "id": "higher-islam",
   "metadata": {},
   "outputs": [
    {
     "name": "stdout",
     "output_type": "stream",
     "text": [
      "Single word with capital letters in tweets with low arousal: 839\n",
      "Single word with capital letters in tweets with medium arousal: 1491\n",
      "Single word with capital letters in tweets with high arousal: 1185\n"
     ]
    },
    {
     "name": "stderr",
     "output_type": "stream",
     "text": [
      "<ipython-input-512-f8b037d3f152>:1: UserWarning: Boolean Series key will be reindexed to match DataFrame index.\n",
      "  print(\"Single word with capital letters in tweets with low arousal:\",len(avg_df[avg_df.avg_labels == \"low\"][avg_df.caps == True]))\n",
      "<ipython-input-512-f8b037d3f152>:2: UserWarning: Boolean Series key will be reindexed to match DataFrame index.\n",
      "  print(\"Single word with capital letters in tweets with medium arousal:\",len(avg_df[avg_df.avg_labels == \"medium\"][avg_df.caps == True]))\n",
      "<ipython-input-512-f8b037d3f152>:3: UserWarning: Boolean Series key will be reindexed to match DataFrame index.\n",
      "  print(\"Single word with capital letters in tweets with high arousal:\",len(avg_df[avg_df.avg_labels == \"high\"][avg_df.caps == True]))\n"
     ]
    }
   ],
   "source": [
    "print(\"Single word with capital letters in tweets with low arousal:\",len(avg_df[avg_df.avg_labels == \"low\"][avg_df.caps == True]))\n",
    "print(\"Single word with capital letters in tweets with medium arousal:\",len(avg_df[avg_df.avg_labels == \"medium\"][avg_df.caps == True]))\n",
    "print(\"Single word with capital letters in tweets with high arousal:\",len(avg_df[avg_df.avg_labels == \"high\"][avg_df.caps == True]))"
   ]
  },
  {
   "cell_type": "code",
   "execution_count": 513,
   "id": "mysterious-machinery",
   "metadata": {},
   "outputs": [
    {
     "name": "stdout",
     "output_type": "stream",
     "text": [
      "Single word with repeating letters in tweets with low arousal: 964\n",
      "Single word with repeating letters in tweets with medium arousal: 1048\n",
      "Single word with repeating letters in tweets with high arousal: 1149\n"
     ]
    },
    {
     "name": "stderr",
     "output_type": "stream",
     "text": [
      "<ipython-input-513-47e766b7b0dd>:1: UserWarning: Boolean Series key will be reindexed to match DataFrame index.\n",
      "  print(\"Single word with repeating letters in tweets with low arousal:\",len(avg_df[avg_df.avg_labels == \"low\"][avg_df.letters == True]))\n",
      "<ipython-input-513-47e766b7b0dd>:2: UserWarning: Boolean Series key will be reindexed to match DataFrame index.\n",
      "  print(\"Single word with repeating letters in tweets with medium arousal:\",len(avg_df[avg_df.avg_labels == \"medium\"][avg_df.letters == True]))\n",
      "<ipython-input-513-47e766b7b0dd>:3: UserWarning: Boolean Series key will be reindexed to match DataFrame index.\n",
      "  print(\"Single word with repeating letters in tweets with high arousal:\",len(avg_df[avg_df.avg_labels == \"high\"][avg_df.letters == True]))\n"
     ]
    }
   ],
   "source": [
    "print(\"Single word with repeating letters in tweets with low arousal:\",len(avg_df[avg_df.avg_labels == \"low\"][avg_df.letters == True]))\n",
    "print(\"Single word with repeating letters in tweets with medium arousal:\",len(avg_df[avg_df.avg_labels == \"medium\"][avg_df.letters == True]))\n",
    "print(\"Single word with repeating letters in tweets with high arousal:\",len(avg_df[avg_df.avg_labels == \"high\"][avg_df.letters == True]))"
   ]
  },
  {
   "cell_type": "code",
   "execution_count": 518,
   "id": "composite-killing",
   "metadata": {},
   "outputs": [
    {
     "name": "stdout",
     "output_type": "stream",
     "text": [
      "233\n",
      "452\n",
      "454\n"
     ]
    },
    {
     "name": "stderr",
     "output_type": "stream",
     "text": [
      "<ipython-input-518-5cf81d43b671>:1: UserWarning: Boolean Series key will be reindexed to match DataFrame index.\n",
      "  print(len(avg_df[avg_df.avg_labels == \"low\"][avg_df.mark == True][avg_df.caps == True]))\n",
      "<ipython-input-518-5cf81d43b671>:1: UserWarning: Boolean Series key will be reindexed to match DataFrame index.\n",
      "  print(len(avg_df[avg_df.avg_labels == \"low\"][avg_df.mark == True][avg_df.caps == True]))\n",
      "<ipython-input-518-5cf81d43b671>:2: UserWarning: Boolean Series key will be reindexed to match DataFrame index.\n",
      "  print(len(avg_df[avg_df.avg_labels == \"medium\"][avg_df.mark == True][avg_df.caps == True]))\n",
      "<ipython-input-518-5cf81d43b671>:2: UserWarning: Boolean Series key will be reindexed to match DataFrame index.\n",
      "  print(len(avg_df[avg_df.avg_labels == \"medium\"][avg_df.mark == True][avg_df.caps == True]))\n",
      "<ipython-input-518-5cf81d43b671>:3: UserWarning: Boolean Series key will be reindexed to match DataFrame index.\n",
      "  print(len(avg_df[avg_df.avg_labels == \"high\"][avg_df.mark == True][avg_df.caps == True]))\n",
      "<ipython-input-518-5cf81d43b671>:3: UserWarning: Boolean Series key will be reindexed to match DataFrame index.\n",
      "  print(len(avg_df[avg_df.avg_labels == \"high\"][avg_df.mark == True][avg_df.caps == True]))\n"
     ]
    }
   ],
   "source": [
    "print(len(avg_df[avg_df.avg_labels == \"low\"][avg_df.mark == True][avg_df.caps == True]))\n",
    "print(len(avg_df[avg_df.avg_labels == \"medium\"][avg_df.mark == True][avg_df.caps == True]))\n",
    "print(len(avg_df[avg_df.avg_labels == \"high\"][avg_df.mark == True][avg_df.caps == True]))"
   ]
  },
  {
   "cell_type": "code",
   "execution_count": 519,
   "id": "antique-candle",
   "metadata": {},
   "outputs": [
    {
     "name": "stdout",
     "output_type": "stream",
     "text": [
      "289\n",
      "386\n",
      "555\n"
     ]
    },
    {
     "name": "stderr",
     "output_type": "stream",
     "text": [
      "<ipython-input-519-4e677c9a0eec>:1: UserWarning: Boolean Series key will be reindexed to match DataFrame index.\n",
      "  print(len(avg_df[avg_df.avg_labels == \"low\"][avg_df.mark == True][avg_df.letters == True]))\n",
      "<ipython-input-519-4e677c9a0eec>:1: UserWarning: Boolean Series key will be reindexed to match DataFrame index.\n",
      "  print(len(avg_df[avg_df.avg_labels == \"low\"][avg_df.mark == True][avg_df.letters == True]))\n",
      "<ipython-input-519-4e677c9a0eec>:2: UserWarning: Boolean Series key will be reindexed to match DataFrame index.\n",
      "  print(len(avg_df[avg_df.avg_labels == \"medium\"][avg_df.mark == True][avg_df.letters == True]))\n",
      "<ipython-input-519-4e677c9a0eec>:2: UserWarning: Boolean Series key will be reindexed to match DataFrame index.\n",
      "  print(len(avg_df[avg_df.avg_labels == \"medium\"][avg_df.mark == True][avg_df.letters == True]))\n",
      "<ipython-input-519-4e677c9a0eec>:3: UserWarning: Boolean Series key will be reindexed to match DataFrame index.\n",
      "  print(len(avg_df[avg_df.avg_labels == \"high\"][avg_df.mark == True][avg_df.letters == True]))\n",
      "<ipython-input-519-4e677c9a0eec>:3: UserWarning: Boolean Series key will be reindexed to match DataFrame index.\n",
      "  print(len(avg_df[avg_df.avg_labels == \"high\"][avg_df.mark == True][avg_df.letters == True]))\n"
     ]
    }
   ],
   "source": [
    "print(len(avg_df[avg_df.avg_labels == \"low\"][avg_df.mark == True][avg_df.letters == True]))\n",
    "print(len(avg_df[avg_df.avg_labels == \"medium\"][avg_df.mark == True][avg_df.letters == True]))\n",
    "print(len(avg_df[avg_df.avg_labels == \"high\"][avg_df.mark == True][avg_df.letters == True]))"
   ]
  },
  {
   "cell_type": "code",
   "execution_count": 521,
   "id": "amended-rebate",
   "metadata": {},
   "outputs": [
    {
     "name": "stdout",
     "output_type": "stream",
     "text": [
      "170\n",
      "297\n",
      "297\n"
     ]
    },
    {
     "name": "stderr",
     "output_type": "stream",
     "text": [
      "<ipython-input-521-d1f27f4da605>:1: UserWarning: Boolean Series key will be reindexed to match DataFrame index.\n",
      "  print(len(avg_df[avg_df.avg_labels == \"low\"][avg_df.caps == True][avg_df.letters == True]))\n",
      "<ipython-input-521-d1f27f4da605>:1: UserWarning: Boolean Series key will be reindexed to match DataFrame index.\n",
      "  print(len(avg_df[avg_df.avg_labels == \"low\"][avg_df.caps == True][avg_df.letters == True]))\n",
      "<ipython-input-521-d1f27f4da605>:2: UserWarning: Boolean Series key will be reindexed to match DataFrame index.\n",
      "  print(len(avg_df[avg_df.avg_labels == \"medium\"][avg_df.caps == True][avg_df.letters == True]))\n",
      "<ipython-input-521-d1f27f4da605>:2: UserWarning: Boolean Series key will be reindexed to match DataFrame index.\n",
      "  print(len(avg_df[avg_df.avg_labels == \"medium\"][avg_df.caps == True][avg_df.letters == True]))\n",
      "<ipython-input-521-d1f27f4da605>:3: UserWarning: Boolean Series key will be reindexed to match DataFrame index.\n",
      "  print(len(avg_df[avg_df.avg_labels == \"high\"][avg_df.caps == True][avg_df.letters == True]))\n",
      "<ipython-input-521-d1f27f4da605>:3: UserWarning: Boolean Series key will be reindexed to match DataFrame index.\n",
      "  print(len(avg_df[avg_df.avg_labels == \"high\"][avg_df.caps == True][avg_df.letters == True]))\n"
     ]
    }
   ],
   "source": [
    "print(len(avg_df[avg_df.avg_labels == \"low\"][avg_df.caps == True][avg_df.letters == True]))\n",
    "print(len(avg_df[avg_df.avg_labels == \"medium\"][avg_df.caps == True][avg_df.letters == True]))\n",
    "print(len(avg_df[avg_df.avg_labels == \"high\"][avg_df.caps == True][avg_df.letters == True]))"
   ]
  },
  {
   "cell_type": "code",
   "execution_count": 520,
   "id": "choice-checklist",
   "metadata": {},
   "outputs": [
    {
     "name": "stdout",
     "output_type": "stream",
     "text": [
      "69\n",
      "126\n",
      "171\n"
     ]
    },
    {
     "name": "stderr",
     "output_type": "stream",
     "text": [
      "<ipython-input-520-1d5e97239911>:1: UserWarning: Boolean Series key will be reindexed to match DataFrame index.\n",
      "  print(len(avg_df[avg_df.avg_labels == \"low\"][avg_df.mark == True][avg_df.caps == True][avg_df.letters == True]))\n",
      "<ipython-input-520-1d5e97239911>:1: UserWarning: Boolean Series key will be reindexed to match DataFrame index.\n",
      "  print(len(avg_df[avg_df.avg_labels == \"low\"][avg_df.mark == True][avg_df.caps == True][avg_df.letters == True]))\n",
      "<ipython-input-520-1d5e97239911>:1: UserWarning: Boolean Series key will be reindexed to match DataFrame index.\n",
      "  print(len(avg_df[avg_df.avg_labels == \"low\"][avg_df.mark == True][avg_df.caps == True][avg_df.letters == True]))\n",
      "<ipython-input-520-1d5e97239911>:2: UserWarning: Boolean Series key will be reindexed to match DataFrame index.\n",
      "  print(len(avg_df[avg_df.avg_labels == \"medium\"][avg_df.mark == True][avg_df.caps == True][avg_df.letters == True]))\n",
      "<ipython-input-520-1d5e97239911>:2: UserWarning: Boolean Series key will be reindexed to match DataFrame index.\n",
      "  print(len(avg_df[avg_df.avg_labels == \"medium\"][avg_df.mark == True][avg_df.caps == True][avg_df.letters == True]))\n",
      "<ipython-input-520-1d5e97239911>:2: UserWarning: Boolean Series key will be reindexed to match DataFrame index.\n",
      "  print(len(avg_df[avg_df.avg_labels == \"medium\"][avg_df.mark == True][avg_df.caps == True][avg_df.letters == True]))\n",
      "<ipython-input-520-1d5e97239911>:3: UserWarning: Boolean Series key will be reindexed to match DataFrame index.\n",
      "  print(len(avg_df[avg_df.avg_labels == \"high\"][avg_df.mark == True][avg_df.caps == True][avg_df.letters == True]))\n",
      "<ipython-input-520-1d5e97239911>:3: UserWarning: Boolean Series key will be reindexed to match DataFrame index.\n",
      "  print(len(avg_df[avg_df.avg_labels == \"high\"][avg_df.mark == True][avg_df.caps == True][avg_df.letters == True]))\n",
      "<ipython-input-520-1d5e97239911>:3: UserWarning: Boolean Series key will be reindexed to match DataFrame index.\n",
      "  print(len(avg_df[avg_df.avg_labels == \"high\"][avg_df.mark == True][avg_df.caps == True][avg_df.letters == True]))\n"
     ]
    }
   ],
   "source": [
    "print(len(avg_df[avg_df.avg_labels == \"low\"][avg_df.mark == True][avg_df.caps == True][avg_df.letters == True]))\n",
    "print(len(avg_df[avg_df.avg_labels == \"medium\"][avg_df.mark == True][avg_df.caps == True][avg_df.letters == True]))\n",
    "print(len(avg_df[avg_df.avg_labels == \"high\"][avg_df.mark == True][avg_df.caps == True][avg_df.letters == True]))"
   ]
  },
  {
   "cell_type": "code",
   "execution_count": null,
   "id": "taken-husband",
   "metadata": {},
   "outputs": [],
   "source": []
  }
 ],
 "metadata": {
  "kernelspec": {
   "display_name": "Python 3",
   "language": "python",
   "name": "python3"
  },
  "language_info": {
   "codemirror_mode": {
    "name": "ipython",
    "version": 3
   },
   "file_extension": ".py",
   "mimetype": "text/x-python",
   "name": "python",
   "nbconvert_exporter": "python",
   "pygments_lexer": "ipython3",
   "version": "3.8.0"
  }
 },
 "nbformat": 4,
 "nbformat_minor": 5
}
