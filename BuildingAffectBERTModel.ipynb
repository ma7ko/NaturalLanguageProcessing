{
 "cells": [
  {
   "cell_type": "code",
   "execution_count": 108,
   "id": "demanding-patient",
   "metadata": {},
   "outputs": [
    {
     "name": "stdout",
     "output_type": "stream",
     "text": [
      "Number of words in NRC-VAD: 20007\n",
      "Number of words in NRC-AffectIntensity: 5816\n"
     ]
    }
   ],
   "source": [
    "from nltk.tokenize import word_tokenize, TweetTokenizer\n",
    "\n",
    "all_arr = []\n",
    "\n",
    "def read_lexicon(lexicon_name): \n",
    "    '''read lexicon from computer\n",
    "        params: lexicon_name\n",
    "        type: string'''\n",
    "    \n",
    "    f = open(f\"{lexicon_name}.txt\",'r')\n",
    "    txt = f.readline()\n",
    "    dict_vad = {}\n",
    "    \n",
    "    while txt != '' :\n",
    "        txt = f.readline()\n",
    "        if txt == '':\n",
    "            break\n",
    "        vad_arr = word_tokenize(txt)\n",
    "        \n",
    "        if lexicon_name == \"NRC-VAD\":\n",
    "            key = vad_arr[0]\n",
    "            starting_index = 1\n",
    "            while vad_arr[starting_index].isalpha():\n",
    "                starting_index = starting_index + 1\n",
    "            value = vad_arr[starting_index:starting_index+3]\n",
    "            dict_vad[key] = value\n",
    "        all_arr.append(vad_arr)\n",
    "    \n",
    "    return dict_vad\n",
    "\n",
    "            \n",
    "dict_vad = read_lexicon(\"NRC-VAD\")\n",
    "print(\"Number of words in NRC-VAD:\", len(all_arr))\n",
    "all_arr = []\n",
    "read_lexicon(\"NRC-AffectIntensity\")\n",
    "print(\"Number of words in NRC-AffectIntensity:\", len(all_arr))"
   ]
  },
  {
   "cell_type": "code",
   "execution_count": 109,
   "id": "agricultural-sentence",
   "metadata": {},
   "outputs": [
    {
     "name": "stdout",
     "output_type": "stream",
     "text": [
      "Words with affect greater than 0.8: 1197\n",
      "Word with affect lower than 0.25: 2144\n"
     ]
    }
   ],
   "source": [
    "affects = [float(affect[1]) for affect in list(filter(None, list(dict_vad.values())))]\n",
    "high_affects = [affect for affect in list(filter(None, affects)) if float(affect) > 0.8]\n",
    "low_affects = [affect for affect in list(filter(None, affects)) if float(affect) < 0.3]\n",
    "print(\"Words with affect greater than 0.8:\", len(high_affects))\n",
    "print(\"Word with affect lower than 0.25:\", len(low_affects))"
   ]
  },
  {
   "cell_type": "code",
   "execution_count": 110,
   "id": "dutch-institute",
   "metadata": {},
   "outputs": [
    {
     "data": {
      "text/html": [
       "<div>\n",
       "<style scoped>\n",
       "    .dataframe tbody tr th:only-of-type {\n",
       "        vertical-align: middle;\n",
       "    }\n",
       "\n",
       "    .dataframe tbody tr th {\n",
       "        vertical-align: top;\n",
       "    }\n",
       "\n",
       "    .dataframe thead th {\n",
       "        text-align: right;\n",
       "    }\n",
       "</style>\n",
       "<table border=\"1\" class=\"dataframe\">\n",
       "  <thead>\n",
       "    <tr style=\"text-align: right;\">\n",
       "      <th></th>\n",
       "      <th>tweet_id</th>\n",
       "      <th>target</th>\n",
       "      <th>author</th>\n",
       "      <th>text</th>\n",
       "    </tr>\n",
       "  </thead>\n",
       "  <tbody>\n",
       "    <tr>\n",
       "      <th>0</th>\n",
       "      <td>1956967341</td>\n",
       "      <td>empty</td>\n",
       "      <td>xoshayzers</td>\n",
       "      <td>@tiffanylue i know  i was listenin to bad habi...</td>\n",
       "    </tr>\n",
       "    <tr>\n",
       "      <th>1</th>\n",
       "      <td>1956967666</td>\n",
       "      <td>sadness</td>\n",
       "      <td>wannamama</td>\n",
       "      <td>Layin n bed with a headache  ughhhh...waitin o...</td>\n",
       "    </tr>\n",
       "    <tr>\n",
       "      <th>2</th>\n",
       "      <td>1956967696</td>\n",
       "      <td>sadness</td>\n",
       "      <td>coolfunky</td>\n",
       "      <td>Funeral ceremony...gloomy friday...</td>\n",
       "    </tr>\n",
       "    <tr>\n",
       "      <th>3</th>\n",
       "      <td>1956967789</td>\n",
       "      <td>enthusiasm</td>\n",
       "      <td>czareaquino</td>\n",
       "      <td>wants to hang out with friends SOON!</td>\n",
       "    </tr>\n",
       "    <tr>\n",
       "      <th>4</th>\n",
       "      <td>1956968416</td>\n",
       "      <td>neutral</td>\n",
       "      <td>xkilljoyx</td>\n",
       "      <td>@dannycastillo We want to trade with someone w...</td>\n",
       "    </tr>\n",
       "  </tbody>\n",
       "</table>\n",
       "</div>"
      ],
      "text/plain": [
       "     tweet_id      target       author  \\\n",
       "0  1956967341       empty   xoshayzers   \n",
       "1  1956967666     sadness    wannamama   \n",
       "2  1956967696     sadness    coolfunky   \n",
       "3  1956967789  enthusiasm  czareaquino   \n",
       "4  1956968416     neutral    xkilljoyx   \n",
       "\n",
       "                                                text  \n",
       "0  @tiffanylue i know  i was listenin to bad habi...  \n",
       "1  Layin n bed with a headache  ughhhh...waitin o...  \n",
       "2                Funeral ceremony...gloomy friday...  \n",
       "3               wants to hang out with friends SOON!  \n",
       "4  @dannycastillo We want to trade with someone w...  "
      ]
     },
     "execution_count": 110,
     "metadata": {},
     "output_type": "execute_result"
    }
   ],
   "source": [
    "import pandas as pd\n",
    "\n",
    "df = pd.read_csv(\"D:\\\\Marko\\\\Project_NLP_171161\\\\text_emotion.csv\", \n",
    "           names=['tweet_id', 'target', 'author', 'text'],\n",
    "           header=0)\n",
    "df.head()"
   ]
  },
  {
   "cell_type": "code",
   "execution_count": 111,
   "id": "automated-supervision",
   "metadata": {},
   "outputs": [
    {
     "data": {
      "text/html": [
       "<div>\n",
       "<style scoped>\n",
       "    .dataframe tbody tr th:only-of-type {\n",
       "        vertical-align: middle;\n",
       "    }\n",
       "\n",
       "    .dataframe tbody tr th {\n",
       "        vertical-align: top;\n",
       "    }\n",
       "\n",
       "    .dataframe thead th {\n",
       "        text-align: right;\n",
       "    }\n",
       "</style>\n",
       "<table border=\"1\" class=\"dataframe\">\n",
       "  <thead>\n",
       "    <tr style=\"text-align: right;\">\n",
       "      <th></th>\n",
       "      <th>tweet_id</th>\n",
       "      <th>target</th>\n",
       "      <th>author</th>\n",
       "      <th>text</th>\n",
       "    </tr>\n",
       "  </thead>\n",
       "  <tbody>\n",
       "    <tr>\n",
       "      <th>0</th>\n",
       "      <td>1956967341</td>\n",
       "      <td>empty</td>\n",
       "      <td>xoshayzers</td>\n",
       "      <td>i know i was listenin to bad habit earlier and...</td>\n",
       "    </tr>\n",
       "    <tr>\n",
       "      <th>1</th>\n",
       "      <td>1956967666</td>\n",
       "      <td>sadness</td>\n",
       "      <td>wannamama</td>\n",
       "      <td>layin n bed with a headache ughhhh waitin on y...</td>\n",
       "    </tr>\n",
       "    <tr>\n",
       "      <th>2</th>\n",
       "      <td>1956967696</td>\n",
       "      <td>sadness</td>\n",
       "      <td>coolfunky</td>\n",
       "      <td>funeral ceremony gloomy friday</td>\n",
       "    </tr>\n",
       "    <tr>\n",
       "      <th>3</th>\n",
       "      <td>1956967789</td>\n",
       "      <td>enthusiasm</td>\n",
       "      <td>czareaquino</td>\n",
       "      <td>wants to hang out with friends soon</td>\n",
       "    </tr>\n",
       "    <tr>\n",
       "      <th>4</th>\n",
       "      <td>1956968416</td>\n",
       "      <td>neutral</td>\n",
       "      <td>xkilljoyx</td>\n",
       "      <td>we want to trade with someone who has houston ...</td>\n",
       "    </tr>\n",
       "  </tbody>\n",
       "</table>\n",
       "</div>"
      ],
      "text/plain": [
       "     tweet_id      target       author  \\\n",
       "0  1956967341       empty   xoshayzers   \n",
       "1  1956967666     sadness    wannamama   \n",
       "2  1956967696     sadness    coolfunky   \n",
       "3  1956967789  enthusiasm  czareaquino   \n",
       "4  1956968416     neutral    xkilljoyx   \n",
       "\n",
       "                                                text  \n",
       "0  i know i was listenin to bad habit earlier and...  \n",
       "1  layin n bed with a headache ughhhh waitin on y...  \n",
       "2                     funeral ceremony gloomy friday  \n",
       "3                wants to hang out with friends soon  \n",
       "4  we want to trade with someone who has houston ...  "
      ]
     },
     "execution_count": 111,
     "metadata": {},
     "output_type": "execute_result"
    }
   ],
   "source": [
    "import re\n",
    "from string import punctuation\n",
    "\n",
    "def preprocess_tweet(df):\n",
    "    preprocessed_tweet = [tweet.lower() for tweet in df.text]\n",
    "\n",
    "    r = re.compile(r'[{}]+'.format(re.escape(punctuation.replace(\"\\'\",\"\").replace(\"-\",\"\"))))\n",
    "    reap = re.compile(r'[{}]+'.format(re.escape(\"'-\")))\n",
    "    re2 = re.compile(r\"&.*;\")\n",
    "    user = re.compile(r\"@.*\")\n",
    "\n",
    "    preprocessed_tweets = []\n",
    "    for tweet in preprocessed_tweet:\n",
    "        filtered = []\n",
    "        for word in tweet.split(' '):\n",
    "            if user.sub('', word) != \"\":\n",
    "                filtered.append(word)\n",
    "        tweet_new = ' '.join(filtered)\n",
    "        preprocessed_tweets.append(tweet_new)\n",
    "\n",
    "    preprocessed_tweets = [re2.sub('', tweet) for tweet in preprocessed_tweets]\n",
    "    preprocessed_tweets = [r.sub(' ', tweet).strip() for tweet in preprocessed_tweets]\n",
    "    preprocessed_tweets = [reap.sub('', tweet) for tweet in preprocessed_tweets]\n",
    "    preprocessed_tweets = [re.sub(' +', ' ', tweet) for tweet in preprocessed_tweets]\n",
    "    \n",
    "    return preprocessed_tweets\n",
    "\n",
    "df.text = preprocess_tweet(df)\n",
    "df.head()"
   ]
  },
  {
   "cell_type": "code",
   "execution_count": 112,
   "id": "suffering-folder",
   "metadata": {},
   "outputs": [
    {
     "name": "stdout",
     "output_type": "stream",
     "text": [
      "In the tweets were found 179232 words\n",
      "From the tweets words were found in 38532 from 40000 tweets\n"
     ]
    }
   ],
   "source": [
    "found = []\n",
    "sentence_found = []\n",
    "total_sent_affect = []\n",
    "total_sent_dom = []\n",
    "for sentence in df.text:\n",
    "    sent_f = False\n",
    "    sentence_affect = []\n",
    "    sentence_dom = []\n",
    "    for word in sentence.split():\n",
    "        if word in dict_vad.keys():\n",
    "            sent_f = True\n",
    "            found.append(True)\n",
    "            sentence_affect.append(float(dict_vad[word][1]))\n",
    "            sentence_dom.append(float(dict_vad[word][2]))\n",
    "    if sent_f:\n",
    "        sentence_found.append(sent_f)\n",
    "    total_sent_affect.append(sentence_affect)\n",
    "    total_sent_dom.append(sentence_dom)\n",
    "print(\"In the tweets were found\", len(found) , \"words\")\n",
    "print(\"From the tweets words were found in\", len(sentence_found) , \"from 40000 tweets\")"
   ]
  },
  {
   "cell_type": "code",
   "execution_count": 113,
   "id": "other-religious",
   "metadata": {},
   "outputs": [
    {
     "name": "stdout",
     "output_type": "stream",
     "text": [
      "40000\n",
      "6043\n",
      "6088\n"
     ]
    },
    {
     "data": {
      "text/plain": [
       "'greater_than_point8 = [i for i in max_dom if i > 0.8]\\nless_than_point25 = [i for i in max_dom if i < 0.45]\\nprint(len(greater_than_point8))\\nprint(len(less_than_point25))'"
      ]
     },
     "execution_count": 113,
     "metadata": {},
     "output_type": "execute_result"
    }
   ],
   "source": [
    "max_affect = []\n",
    "max_dom = []\n",
    "for i in total_sent_affect:\n",
    "    if len(i) > 0:\n",
    "        max_affect.append(max(i))\n",
    "    if len(i) == 0:\n",
    "        max_affect.append(0)\n",
    "        \n",
    "for i in total_sent_dom:\n",
    "    if len(i) > 0:\n",
    "        max_dom.append(max(i))\n",
    "    if len(i) == 0:\n",
    "        max_dom.append(0)\n",
    "print(len(max_affect))\n",
    "greater_than_point8 = [i for i in max_affect if i > 0.8]\n",
    "less_than_point25 = [i for i in max_affect if i < 0.442 and i > 0]\n",
    "print(len(greater_than_point8))\n",
    "print(len(less_than_point25))\n",
    "'''greater_than_point8 = [i for i in max_dom if i > 0.8]\n",
    "less_than_point25 = [i for i in max_dom if i < 0.45]\n",
    "print(len(greater_than_point8))\n",
    "print(len(less_than_point25))'''"
   ]
  },
  {
   "cell_type": "code",
   "execution_count": 114,
   "id": "metallic-museum",
   "metadata": {},
   "outputs": [
    {
     "name": "stdout",
     "output_type": "stream",
     "text": [
      "(13599, 5)\n"
     ]
    },
    {
     "data": {
      "text/html": [
       "<div>\n",
       "<style scoped>\n",
       "    .dataframe tbody tr th:only-of-type {\n",
       "        vertical-align: middle;\n",
       "    }\n",
       "\n",
       "    .dataframe tbody tr th {\n",
       "        vertical-align: top;\n",
       "    }\n",
       "\n",
       "    .dataframe thead th {\n",
       "        text-align: right;\n",
       "    }\n",
       "</style>\n",
       "<table border=\"1\" class=\"dataframe\">\n",
       "  <thead>\n",
       "    <tr style=\"text-align: right;\">\n",
       "      <th></th>\n",
       "      <th>tweet_id</th>\n",
       "      <th>target</th>\n",
       "      <th>author</th>\n",
       "      <th>text</th>\n",
       "      <th>affect</th>\n",
       "    </tr>\n",
       "  </thead>\n",
       "  <tbody>\n",
       "    <tr>\n",
       "      <th>6</th>\n",
       "      <td>1956968487</td>\n",
       "      <td>sadness</td>\n",
       "      <td>ShansBee</td>\n",
       "      <td>i should be sleep but im not thinking about an...</td>\n",
       "      <td>high</td>\n",
       "    </tr>\n",
       "    <tr>\n",
       "      <th>7</th>\n",
       "      <td>1956968636</td>\n",
       "      <td>worry</td>\n",
       "      <td>mcsleazy</td>\n",
       "      <td>hmmm http www djhero com is down</td>\n",
       "      <td>low</td>\n",
       "    </tr>\n",
       "    <tr>\n",
       "      <th>9</th>\n",
       "      <td>1956969172</td>\n",
       "      <td>sadness</td>\n",
       "      <td>Ingenue_Em</td>\n",
       "      <td>im sorry at least its friday</td>\n",
       "      <td>low</td>\n",
       "    </tr>\n",
       "    <tr>\n",
       "      <th>11</th>\n",
       "      <td>1956969531</td>\n",
       "      <td>worry</td>\n",
       "      <td>dudeitsmanda</td>\n",
       "      <td>choked on her retainers</td>\n",
       "      <td>low</td>\n",
       "    </tr>\n",
       "    <tr>\n",
       "      <th>12</th>\n",
       "      <td>1956970047</td>\n",
       "      <td>sadness</td>\n",
       "      <td>Danied32</td>\n",
       "      <td>ugh i have to beat this stupid song to get to ...</td>\n",
       "      <td>high</td>\n",
       "    </tr>\n",
       "  </tbody>\n",
       "</table>\n",
       "</div>"
      ],
      "text/plain": [
       "      tweet_id   target        author  \\\n",
       "6   1956968487  sadness      ShansBee   \n",
       "7   1956968636    worry      mcsleazy   \n",
       "9   1956969172  sadness    Ingenue_Em   \n",
       "11  1956969531    worry  dudeitsmanda   \n",
       "12  1956970047  sadness      Danied32   \n",
       "\n",
       "                                                 text affect  \n",
       "6   i should be sleep but im not thinking about an...   high  \n",
       "7                    hmmm http www djhero com is down    low  \n",
       "9                        im sorry at least its friday    low  \n",
       "11                            choked on her retainers    low  \n",
       "12  ugh i have to beat this stupid song to get to ...   high  "
      ]
     },
     "execution_count": 114,
     "metadata": {},
     "output_type": "execute_result"
    }
   ],
   "source": [
    "classes = []\n",
    "for i in max_affect:\n",
    "    if i > 0.8:\n",
    "        classes.append(\"high\")\n",
    "    elif i < 0.442:\n",
    "        classes.append(\"low\")\n",
    "    else:\n",
    "        classes.append(\"none\")\n",
    "\n",
    "df[\"affect\"] = classes\n",
    "\n",
    "df = df[df.affect != \"none\"]\n",
    "print(df.shape)\n",
    "df.head()"
   ]
  },
  {
   "cell_type": "code",
   "execution_count": 116,
   "id": "excess-rental",
   "metadata": {},
   "outputs": [
    {
     "name": "stdout",
     "output_type": "stream",
     "text": [
      "Completed preprocessing!\n"
     ]
    }
   ],
   "source": [
    "import csv\n",
    "file = open('arousal.csv', 'w+', encoding=\"utf-8\")\n",
    "dataWriter = csv.writer(file, delimiter=',',lineterminator=\"\\n\")\n",
    "\n",
    "total = 13599\n",
    "for i in range(total):\n",
    "    dataWriter.writerow([df.values[i,0], df.values[i,1], df.values[i,2], df.values[i,3], df.values[i,4]])\n",
    "print('Completed preprocessing!')\n",
    "file.close()"
   ]
  },
  {
   "cell_type": "code",
   "execution_count": 118,
   "id": "cloudy-deployment",
   "metadata": {},
   "outputs": [
    {
     "name": "stdout",
     "output_type": "stream",
     "text": [
      "(10879,)\n",
      "(2720,)\n",
      "[1 0 0 ... 0 1 0]\n",
      "[[0. 1.]\n",
      " [1. 0.]\n",
      " [1. 0.]\n",
      " ...\n",
      " [1. 0.]\n",
      " [0. 1.]\n",
      " [1. 0.]]\n",
      "Path to locally saved vocabulary: b'C:\\\\Users\\\\Dell\\\\AppData\\\\Local\\\\Temp\\\\tfhub_modules\\\\c1fce07c21cd96ce9003d3fa248853470512b3a0\\\\assets\\\\vocab.txt'\n",
      "Is the text lowercased before training the model? True\n",
      "Max length of the tweets is 90\n"
     ]
    }
   ],
   "source": [
    "from sklearn.model_selection import train_test_split\n",
    "from sklearn.preprocessing import LabelEncoder\n",
    "from keras.utils import np_utils\n",
    "import tensorflow_hub as hub\n",
    "import tensorflow as tf\n",
    "import official.nlp.bert.tokenization as tokenization\n",
    "\n",
    "x = df.text\n",
    "y = df.affect\n",
    "\n",
    "x_train, x_test, y_train, y_test = train_test_split(x, y, test_size=0.2, stratify=y)\n",
    "\n",
    "label_encoder = LabelEncoder()\n",
    "\n",
    "label_encoder.fit(y)\n",
    "encoded_y_train = label_encoder.transform(y_train)\n",
    "encoded_y_test = label_encoder.transform(y_test)\n",
    "\n",
    "dummy_y_train = np_utils.to_categorical(encoded_y_train)\n",
    "dummy_y_test = np_utils.to_categorical(encoded_y_test)\n",
    "\n",
    "print(x_train.shape)\n",
    "print(x_test.shape)\n",
    "\n",
    "print(encoded_y_train)\n",
    "print(dummy_y_train)\n",
    "\n",
    "loaded_model = hub.load('https://tfhub.dev/tensorflow/small_bert/bert_en_uncased_L-4_H-256_A-4/2')\n",
    "bert_layer = hub.KerasLayer(loaded_model, trainable = False)\n",
    "\n",
    "vocab_file = bert_layer.resolved_object.vocab_file.asset_path.numpy()\n",
    "print(\"Path to locally saved vocabulary:\", vocab_file)\n",
    "do_lower_case = bert_layer.resolved_object.do_lower_case.numpy()\n",
    "print(\"Is the text lowercased before training the model?\", do_lower_case)\n",
    "\n",
    "tokenizer = tokenization.FullTokenizer(vocab_file, do_lower_case)\n",
    "\n",
    "def encode_names(n):\n",
    "    tokens = list(tokenizer.tokenize(n))\n",
    "    tokens.append('[SEP]')\n",
    "    return tokenizer.convert_tokens_to_ids(tokens)\n",
    "\n",
    "tweets = tf.ragged.constant([\n",
    "    encode_names(n) for n in x\n",
    "])\n",
    "\n",
    "tweet_lens = [len(tweet) for tweet in tweets]\n",
    "\n",
    "max_seq_len = int(max(tweet_lens)*1.5)\n",
    "print(\"Max length of the tweets is\", max_seq_len)"
   ]
  },
  {
   "cell_type": "code",
   "execution_count": 120,
   "id": "north-apartment",
   "metadata": {},
   "outputs": [
    {
     "name": "stdout",
     "output_type": "stream",
     "text": [
      "tf.Tensor(\n",
      "[ 101 2003 2055 2000 2156 7918 2050 2125 2005 1037 3204  102    0    0\n",
      "    0    0    0    0    0    0    0    0    0    0    0    0    0    0\n",
      "    0    0    0    0    0    0    0    0    0    0    0    0    0    0\n",
      "    0    0    0    0    0    0    0    0    0    0    0    0    0    0\n",
      "    0    0    0    0    0    0    0    0    0    0    0    0    0    0\n",
      "    0    0    0    0    0    0    0    0    0    0    0    0    0    0\n",
      "    0    0    0    0    0    0], shape=(90,), dtype=int32)\n",
      "tf.Tensor(\n",
      "[1 1 1 1 1 1 1 1 1 1 1 1 0 0 0 0 0 0 0 0 0 0 0 0 0 0 0 0 0 0 0 0 0 0 0 0 0\n",
      " 0 0 0 0 0 0 0 0 0 0 0 0 0 0 0 0 0 0 0 0 0 0 0 0 0 0 0 0 0 0 0 0 0 0 0 0 0\n",
      " 0 0 0 0 0 0 0 0 0 0 0 0 0 0 0 0], shape=(90,), dtype=int32)\n",
      "tf.Tensor(\n",
      "[0 1 1 1 1 1 1 1 1 1 1 1 0 0 0 0 0 0 0 0 0 0 0 0 0 0 0 0 0 0 0 0 0 0 0 0 0\n",
      " 0 0 0 0 0 0 0 0 0 0 0 0 0 0 0 0 0 0 0 0 0 0 0 0 0 0 0 0 0 0 0 0 0 0 0 0 0\n",
      " 0 0 0 0 0 0 0 0 0 0 0 0 0 0 0 0], shape=(90,), dtype=int32)\n"
     ]
    }
   ],
   "source": [
    "import numpy as np\n",
    "\n",
    "def encode_names(n, tokenizer):\n",
    "    tokens = list(tokenizer.tokenize(n))\n",
    "    tokens.append('[SEP]')\n",
    "    return tokenizer.convert_tokens_to_ids(tokens)\n",
    "\n",
    "def bert_encode(string_list, tokenizer, max_seq_length):\n",
    "    num_examples = len(string_list)\n",
    "    \n",
    "    string_tokens = tf.ragged.constant([\n",
    "        encode_names(n, tokenizer) for n in np.array(string_list)\n",
    "    ])\n",
    "    \n",
    "    cls = [tokenizer.convert_tokens_to_ids(['[CLS]'])]*string_tokens.shape[0]\n",
    "    input_word_ids = tf.concat([cls, string_tokens], axis=1)\n",
    "    \n",
    "    input_mask = tf.ones_like(input_word_ids).to_tensor(shape=(None, max_seq_length))\n",
    "    \n",
    "    type_cls = tf.zeros_like(cls)\n",
    "    type_tokens = tf.ones_like(string_tokens)\n",
    "    input_type_ids = tf.concat([type_cls, type_tokens], axis=1).to_tensor(shape=(None, max_seq_length))\n",
    "    \n",
    "    inputs = {\n",
    "        'input_word_ids': input_word_ids.to_tensor(shape=(None, max_seq_length)),\n",
    "        'input_mask': input_mask,\n",
    "        'input_type_ids': input_type_ids\n",
    "    }\n",
    "    \n",
    "    return inputs\n",
    "\n",
    "X_train = bert_encode(x_train, tokenizer, max_seq_len)\n",
    "X_test = bert_encode(x_test, tokenizer, max_seq_len)\n",
    "\n",
    "print(X_train['input_word_ids'][0])\n",
    "print(X_train['input_mask'][0])\n",
    "print(X_train['input_type_ids'][0])"
   ]
  },
  {
   "cell_type": "code",
   "execution_count": 121,
   "id": "superior-order",
   "metadata": {},
   "outputs": [
    {
     "name": "stdout",
     "output_type": "stream",
     "text": [
      "KerasTensor(type_spec=TensorSpec(shape=(None, 256), dtype=tf.float32, name=None), name='keras_layer/StatefulPartitionedCall:5', description=\"created by layer 'keras_layer'\")\n",
      "True\n",
      "False\n",
      "Model: \"model\"\n",
      "__________________________________________________________________________________________________\n",
      "Layer (type)                    Output Shape         Param #     Connected to                     \n",
      "==================================================================================================\n",
      "input_mask (InputLayer)         [(None, 90)]         0                                            \n",
      "__________________________________________________________________________________________________\n",
      "input_type_ids (InputLayer)     [(None, 90)]         0                                            \n",
      "__________________________________________________________________________________________________\n",
      "input_word_ids (InputLayer)     [(None, 90)]         0                                            \n",
      "__________________________________________________________________________________________________\n",
      "keras_layer (KerasLayer)        {'default': (None, 2 11170561    input_mask[0][0]                 \n",
      "                                                                 input_type_ids[0][0]             \n",
      "                                                                 input_word_ids[0][0]             \n",
      "__________________________________________________________________________________________________\n",
      "dropout (Dropout)               (None, 90, 256)      0           keras_layer[0][6]                \n",
      "__________________________________________________________________________________________________\n",
      "conv1d (Conv1D)                 (None, 88, 128)      98432       dropout[0][0]                    \n",
      "__________________________________________________________________________________________________\n",
      "max_pooling1d (MaxPooling1D)    (None, 22, 128)      0           conv1d[0][0]                     \n",
      "__________________________________________________________________________________________________\n",
      "dropout_1 (Dropout)             (None, 22, 128)      0           max_pooling1d[0][0]              \n",
      "__________________________________________________________________________________________________\n",
      "conv1d_1 (Conv1D)               (None, 20, 64)       24640       dropout_1[0][0]                  \n",
      "__________________________________________________________________________________________________\n",
      "max_pooling1d_1 (MaxPooling1D)  (None, 10, 64)       0           conv1d_1[0][0]                   \n",
      "__________________________________________________________________________________________________\n",
      "conv1d_2 (Conv1D)               (None, 9, 8)         1032        max_pooling1d_1[0][0]            \n",
      "__________________________________________________________________________________________________\n",
      "max_pooling1d_2 (MaxPooling1D)  (None, 4, 8)         0           conv1d_2[0][0]                   \n",
      "__________________________________________________________________________________________________\n",
      "flatten (Flatten)               (None, 32)           0           max_pooling1d_2[0][0]            \n",
      "__________________________________________________________________________________________________\n",
      "dense (Dense)                   (None, 2)            66          flatten[0][0]                    \n",
      "==================================================================================================\n",
      "Total params: 11,294,731\n",
      "Trainable params: 124,170\n",
      "Non-trainable params: 11,170,561\n",
      "__________________________________________________________________________________________________\n"
     ]
    }
   ],
   "source": [
    "num_class = len(label_encoder.classes_)\n",
    "\n",
    "input_word_ids = tf.keras.layers.Input(shape=(max_seq_len,), dtype=tf.int32, name=\"input_word_ids\")\n",
    "input_mask = tf.keras.layers.Input(shape=(max_seq_len,), dtype=tf.int32, name=\"input_mask\")\n",
    "input_type_ids = tf.keras.layers.Input(shape=(max_seq_len,), dtype=tf.int32, name=\"input_type_ids\")\n",
    "\n",
    "bert_input = {\n",
    "    'input_word_ids': input_word_ids,\n",
    "    'input_mask': input_mask,\n",
    "    'input_type_ids': input_type_ids\n",
    "}\n",
    "\n",
    "outputs = bert_layer(bert_input)\n",
    "#print(outputs)\n",
    "pooled_output = outputs['pooled_output']\n",
    "sequence_output = outputs['sequence_output']\n",
    "\n",
    "print(pooled_output)\n",
    "\n",
    "output = tf.keras.layers.Dropout(rate=0.2)(sequence_output)\n",
    "output = tf.keras.layers.Conv1D(filters=128, kernel_size=3, activation='relu')(output)\n",
    "output = tf.keras.layers.MaxPool1D(pool_size=4)(output)\n",
    "output = tf.keras.layers.Dropout(rate=0.1)(output)\n",
    "output = tf.keras.layers.Conv1D(filters=64, kernel_size=3, activation='relu')(output)\n",
    "output = tf.keras.layers.MaxPool1D(pool_size=2)(output)\n",
    "output = tf.keras.layers.Conv1D(filters=8, kernel_size=2, activation='relu')(output)\n",
    "output = tf.keras.layers.MaxPool1D(pool_size=2)(output)\n",
    "output = tf.keras.layers.Flatten()(output)\n",
    "output = tf.keras.layers.Dense(num_class, activation='softmax')(output)\n",
    "\n",
    "model = tf.keras.Model(\n",
    "    inputs={\n",
    "        'input_word_ids': input_word_ids,\n",
    "        'input_mask': input_mask,\n",
    "        'input_type_ids': input_type_ids\n",
    "    },\n",
    "    outputs=output\n",
    ")\n",
    "\n",
    "model.layers[3].trainable = True\n",
    "print(model.layers[3].trainable)\n",
    "\n",
    "model.layers[3].trainable = False\n",
    "print(model.layers[3].trainable)\n",
    "\n",
    "model.summary()\n",
    "\n",
    "model.compile(\n",
    "    optimizer='adam',\n",
    "    loss='categorical_crossentropy',\n",
    "    metrics='accuracy'\n",
    ")"
   ]
  },
  {
   "cell_type": "code",
   "execution_count": 122,
   "id": "standing-robertson",
   "metadata": {},
   "outputs": [
    {
     "name": "stdout",
     "output_type": "stream",
     "text": [
      "Epoch 1/4\n",
      "340/340 [==============================] - 217s 614ms/step - loss: 0.3835 - accuracy: 0.8264\n",
      "Epoch 2/4\n",
      "340/340 [==============================] - 208s 611ms/step - loss: 0.3025 - accuracy: 0.8726\n",
      "Epoch 3/4\n",
      "340/340 [==============================] - 208s 611ms/step - loss: 0.2636 - accuracy: 0.8928\n",
      "Epoch 4/4\n",
      "340/340 [==============================] - 209s 615ms/step - loss: 0.2286 - accuracy: 0.9050\n"
     ]
    }
   ],
   "source": [
    "history = model.fit(\n",
    "    X_train,\n",
    "    dummy_y_train,\n",
    "    epochs=4,\n",
    "    verbose=1\n",
    ")"
   ]
  },
  {
   "cell_type": "code",
   "execution_count": 132,
   "id": "tough-warner",
   "metadata": {},
   "outputs": [
    {
     "data": {
      "image/png": "[encoded data removed]",
      "text/plain": [
       "<Figure size 1080x360 with 2 Axes>"
      ]
     },
     "metadata": {
      "needs_background": "light"
     },
     "output_type": "display_data"
    }
   ],
   "source": [
    "import matplotlib.pyplot as plt\n",
    "\n",
    "metrics_data = [history.history['accuracy'], history.history['loss']]\n",
    "labels = ['accuracy', 'loss']\n",
    "fig, axes = plt.subplots(nrows=1, ncols=2, figsize=(15,5))\n",
    "\n",
    "fig.suptitle(\"Model Training Evaluation\")\n",
    "\n",
    "for data, ax, label in zip(metrics_data, axes, labels):\n",
    "    ax.set_xlabel('epochs')\n",
    "    ax.set_ylabel(label)\n",
    "    ax.plot(range(1,5), data)\n",
    "\n",
    "plt.show()"
   ]
  },
  {
   "cell_type": "code",
   "execution_count": 133,
   "id": "detected-cycle",
   "metadata": {},
   "outputs": [
    {
     "name": "stdout",
     "output_type": "stream",
     "text": [
      "85/85 [==============================] - 50s 579ms/step - loss: 0.2215 - accuracy: 0.9085\n",
      "[0.22151340544223785, 0.9084559082984924]\n"
     ]
    }
   ],
   "source": [
    "evaluated_model = model.evaluate(X_test, dummy_y_test)\n",
    "print(evaluated_model)"
   ]
  },
  {
   "cell_type": "code",
   "execution_count": 134,
   "id": "concerned-pakistan",
   "metadata": {},
   "outputs": [
    {
     "name": "stderr",
     "output_type": "stream",
     "text": [
      "WARNING:absl:Found untraced functions such as restored_function_body, restored_function_body, restored_function_body, restored_function_body, restored_function_body while saving (showing 5 of 315). These functions will not be directly callable after loading.\n"
     ]
    },
    {
     "name": "stdout",
     "output_type": "stream",
     "text": [
      "INFO:tensorflow:Assets written to: D:/my_saved_models/affect_prediction_model\\assets\n"
     ]
    },
    {
     "name": "stderr",
     "output_type": "stream",
     "text": [
      "INFO:tensorflow:Assets written to: D:/my_saved_models/affect_prediction_model\\assets\n"
     ]
    }
   ],
   "source": [
    "model.save('D:/my_saved_models/affect_prediction_model')"
   ]
  },
  {
   "cell_type": "code",
   "execution_count": null,
   "id": "working-captain",
   "metadata": {},
   "outputs": [],
   "source": []
  }
 ],
 "metadata": {
  "kernelspec": {
   "display_name": "Python 3",
   "language": "python",
   "name": "python3"
  },
  "language_info": {
   "codemirror_mode": {
    "name": "ipython",
    "version": 3
   },
   "file_extension": ".py",
   "mimetype": "text/x-python",
   "name": "python",
   "nbconvert_exporter": "python",
   "pygments_lexer": "ipython3",
   "version": "3.8.0"
  }
 },
 "nbformat": 4,
 "nbformat_minor": 5
}
