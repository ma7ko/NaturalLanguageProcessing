{
 "cells": [
  {
   "cell_type": "code",
   "execution_count": null,
   "id": "raised-southeast",
   "metadata": {},
   "outputs": [],
   "source": [
    "import pandas as pd\n",
    "m = LexiconMapper()\n",
    "t = pd.DataFrame([[[12,13,-1,-1,-1]]], columns=['mapped'])\n",
    "print(m.filter_tweets(t, -1,0.5))"
   ]
  }
 ],
 "metadata": {
  "kernelspec": {
   "display_name": "Python 3",
   "language": "python",
   "name": "python3"
  },
  "language_info": {
   "codemirror_mode": {
    "name": "ipython",
    "version": 3
   },
   "file_extension": ".py",
   "mimetype": "text/x-python",
   "name": "python",
   "nbconvert_exporter": "python",
   "pygments_lexer": "ipython3",
   "version": "3.8.0"
  }
 },
 "nbformat": 4,
 "nbformat_minor": 5
}
