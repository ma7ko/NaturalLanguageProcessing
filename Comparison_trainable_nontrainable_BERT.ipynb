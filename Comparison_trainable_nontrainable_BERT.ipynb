{
 "cells": [
  {
   "cell_type": "code",
   "execution_count": 2,
   "id": "still-genre",
   "metadata": {},
   "outputs": [
    {
     "name": "stdout",
     "output_type": "stream",
     "text": [
      "True\n"
     ]
    }
   ],
   "source": [
    "import os\n",
    "import numpy as np\n",
    "import pandas as pd\n",
    "import tensorflow as tf\n",
    "import tensorflow_hub as hub\n",
    "\n",
    "from keras.utils import np_utils\n",
    "\n",
    "import official.nlp.bert.bert_models\n",
    "import official.nlp.bert.configs\n",
    "import official.nlp.bert.run_classifier\n",
    "import official.nlp.bert.tokenization as tokenization\n",
    "\n",
    "from official.modeling import tf_utils\n",
    "from official import nlp\n",
    "from official.nlp import bert\n",
    "\n",
    "from sklearn.model_selection import train_test_split\n",
    "from sklearn.preprocessing import LabelEncoder\n",
    "\n",
    "import matplotlib.pyplot as plt\n",
    "\n",
    "from collections import Counter\n",
    "\n",
    "print(tf.executing_eagerly())"
   ]
  },
  {
   "cell_type": "code",
   "execution_count": 3,
   "id": "sharing-rating",
   "metadata": {},
   "outputs": [
    {
     "data": {
      "text/html": [
       "<div>\n",
       "<style scoped>\n",
       "    .dataframe tbody tr th:only-of-type {\n",
       "        vertical-align: middle;\n",
       "    }\n",
       "\n",
       "    .dataframe tbody tr th {\n",
       "        vertical-align: top;\n",
       "    }\n",
       "\n",
       "    .dataframe thead th {\n",
       "        text-align: right;\n",
       "    }\n",
       "</style>\n",
       "<table border=\"1\" class=\"dataframe\">\n",
       "  <thead>\n",
       "    <tr style=\"text-align: right;\">\n",
       "      <th></th>\n",
       "      <th>target</th>\n",
       "      <th>id</th>\n",
       "      <th>date</th>\n",
       "      <th>flag</th>\n",
       "      <th>user</th>\n",
       "      <th>text</th>\n",
       "    </tr>\n",
       "  </thead>\n",
       "  <tbody>\n",
       "    <tr>\n",
       "      <th>0</th>\n",
       "      <td>0</td>\n",
       "      <td>1467810369</td>\n",
       "      <td>Mon Apr 06 22:19:45 PDT 2009</td>\n",
       "      <td>NO_QUERY</td>\n",
       "      <td>_TheSpecialOne_</td>\n",
       "      <td>@switchfoot http://twitpic.com/2y1zl - Awww, t...</td>\n",
       "    </tr>\n",
       "    <tr>\n",
       "      <th>1</th>\n",
       "      <td>0</td>\n",
       "      <td>1467810672</td>\n",
       "      <td>Mon Apr 06 22:19:49 PDT 2009</td>\n",
       "      <td>NO_QUERY</td>\n",
       "      <td>scotthamilton</td>\n",
       "      <td>is upset that he can't update his Facebook by ...</td>\n",
       "    </tr>\n",
       "    <tr>\n",
       "      <th>2</th>\n",
       "      <td>0</td>\n",
       "      <td>1467810917</td>\n",
       "      <td>Mon Apr 06 22:19:53 PDT 2009</td>\n",
       "      <td>NO_QUERY</td>\n",
       "      <td>mattycus</td>\n",
       "      <td>@Kenichan I dived many times for the ball. Man...</td>\n",
       "    </tr>\n",
       "    <tr>\n",
       "      <th>3</th>\n",
       "      <td>0</td>\n",
       "      <td>1467811184</td>\n",
       "      <td>Mon Apr 06 22:19:57 PDT 2009</td>\n",
       "      <td>NO_QUERY</td>\n",
       "      <td>ElleCTF</td>\n",
       "      <td>my whole body feels itchy and like its on fire</td>\n",
       "    </tr>\n",
       "    <tr>\n",
       "      <th>4</th>\n",
       "      <td>0</td>\n",
       "      <td>1467811193</td>\n",
       "      <td>Mon Apr 06 22:19:57 PDT 2009</td>\n",
       "      <td>NO_QUERY</td>\n",
       "      <td>Karoli</td>\n",
       "      <td>@nationwideclass no, it's not behaving at all....</td>\n",
       "    </tr>\n",
       "  </tbody>\n",
       "</table>\n",
       "</div>"
      ],
      "text/plain": [
       "   target          id                          date      flag  \\\n",
       "0       0  1467810369  Mon Apr 06 22:19:45 PDT 2009  NO_QUERY   \n",
       "1       0  1467810672  Mon Apr 06 22:19:49 PDT 2009  NO_QUERY   \n",
       "2       0  1467810917  Mon Apr 06 22:19:53 PDT 2009  NO_QUERY   \n",
       "3       0  1467811184  Mon Apr 06 22:19:57 PDT 2009  NO_QUERY   \n",
       "4       0  1467811193  Mon Apr 06 22:19:57 PDT 2009  NO_QUERY   \n",
       "\n",
       "              user                                               text  \n",
       "0  _TheSpecialOne_  @switchfoot http://twitpic.com/2y1zl - Awww, t...  \n",
       "1    scotthamilton  is upset that he can't update his Facebook by ...  \n",
       "2         mattycus  @Kenichan I dived many times for the ball. Man...  \n",
       "3          ElleCTF    my whole body feels itchy and like its on fire   \n",
       "4           Karoli  @nationwideclass no, it's not behaving at all....  "
      ]
     },
     "execution_count": 3,
     "metadata": {},
     "output_type": "execute_result"
    }
   ],
   "source": [
    "df = pd.read_csv('D:/Marko/MoviesSentimentAnalysis/140SentimentDataset/training.1600000.processed.noemoticon.csv',\n",
    "                names = [\n",
    "                    'target',\n",
    "                    'id',\n",
    "                    'date',\n",
    "                    'flag',\n",
    "                    'user',\n",
    "                    'text'\n",
    "                ])\n",
    "df.head()"
   ]
  },
  {
   "cell_type": "code",
   "execution_count": 4,
   "id": "sophisticated-clause",
   "metadata": {},
   "outputs": [
    {
     "data": {
      "text/plain": [
       "array([0, 4], dtype=int64)"
      ]
     },
     "execution_count": 4,
     "metadata": {},
     "output_type": "execute_result"
    }
   ],
   "source": [
    "df.target.unique()\n",
    "# 0 - negative tweet\n",
    "# 4 - positive tweet"
   ]
  },
  {
   "cell_type": "code",
   "execution_count": 5,
   "id": "ultimate-lancaster",
   "metadata": {},
   "outputs": [
    {
     "data": {
      "text/html": [
       "<div>\n",
       "<style scoped>\n",
       "    .dataframe tbody tr th:only-of-type {\n",
       "        vertical-align: middle;\n",
       "    }\n",
       "\n",
       "    .dataframe tbody tr th {\n",
       "        vertical-align: top;\n",
       "    }\n",
       "\n",
       "    .dataframe thead th {\n",
       "        text-align: right;\n",
       "    }\n",
       "</style>\n",
       "<table border=\"1\" class=\"dataframe\">\n",
       "  <thead>\n",
       "    <tr style=\"text-align: right;\">\n",
       "      <th></th>\n",
       "      <th>target</th>\n",
       "      <th>id</th>\n",
       "      <th>date</th>\n",
       "      <th>flag</th>\n",
       "      <th>user</th>\n",
       "      <th>text</th>\n",
       "    </tr>\n",
       "  </thead>\n",
       "  <tbody>\n",
       "    <tr>\n",
       "      <th>0</th>\n",
       "      <td>0</td>\n",
       "      <td>1467810369</td>\n",
       "      <td>Mon Apr 06 22:19:45 PDT 2009</td>\n",
       "      <td>NO_QUERY</td>\n",
       "      <td>_TheSpecialOne_</td>\n",
       "      <td>@switchfoot http://twitpic.com/2y1zl - awww, t...</td>\n",
       "    </tr>\n",
       "    <tr>\n",
       "      <th>1</th>\n",
       "      <td>0</td>\n",
       "      <td>1467810672</td>\n",
       "      <td>Mon Apr 06 22:19:49 PDT 2009</td>\n",
       "      <td>NO_QUERY</td>\n",
       "      <td>scotthamilton</td>\n",
       "      <td>is upset that he can't update his facebook by ...</td>\n",
       "    </tr>\n",
       "    <tr>\n",
       "      <th>2</th>\n",
       "      <td>0</td>\n",
       "      <td>1467810917</td>\n",
       "      <td>Mon Apr 06 22:19:53 PDT 2009</td>\n",
       "      <td>NO_QUERY</td>\n",
       "      <td>mattycus</td>\n",
       "      <td>@kenichan i dived many times for the ball. man...</td>\n",
       "    </tr>\n",
       "    <tr>\n",
       "      <th>3</th>\n",
       "      <td>0</td>\n",
       "      <td>1467811184</td>\n",
       "      <td>Mon Apr 06 22:19:57 PDT 2009</td>\n",
       "      <td>NO_QUERY</td>\n",
       "      <td>ElleCTF</td>\n",
       "      <td>my whole body feels itchy and like its on fire</td>\n",
       "    </tr>\n",
       "    <tr>\n",
       "      <th>4</th>\n",
       "      <td>0</td>\n",
       "      <td>1467811193</td>\n",
       "      <td>Mon Apr 06 22:19:57 PDT 2009</td>\n",
       "      <td>NO_QUERY</td>\n",
       "      <td>Karoli</td>\n",
       "      <td>@nationwideclass no, it's not behaving at all....</td>\n",
       "    </tr>\n",
       "  </tbody>\n",
       "</table>\n",
       "</div>"
      ],
      "text/plain": [
       "   target          id                          date      flag  \\\n",
       "0       0  1467810369  Mon Apr 06 22:19:45 PDT 2009  NO_QUERY   \n",
       "1       0  1467810672  Mon Apr 06 22:19:49 PDT 2009  NO_QUERY   \n",
       "2       0  1467810917  Mon Apr 06 22:19:53 PDT 2009  NO_QUERY   \n",
       "3       0  1467811184  Mon Apr 06 22:19:57 PDT 2009  NO_QUERY   \n",
       "4       0  1467811193  Mon Apr 06 22:19:57 PDT 2009  NO_QUERY   \n",
       "\n",
       "              user                                               text  \n",
       "0  _TheSpecialOne_  @switchfoot http://twitpic.com/2y1zl - awww, t...  \n",
       "1    scotthamilton  is upset that he can't update his facebook by ...  \n",
       "2         mattycus  @kenichan i dived many times for the ball. man...  \n",
       "3          ElleCTF    my whole body feels itchy and like its on fire   \n",
       "4           Karoli  @nationwideclass no, it's not behaving at all....  "
      ]
     },
     "execution_count": 5,
     "metadata": {},
     "output_type": "execute_result"
    }
   ],
   "source": [
    "# we have to convert the tweets to lowercase letters for bert uncased model\n",
    "\n",
    "df.text = [tweet.lower() for tweet in df.text]\n",
    "df.head()"
   ]
  },
  {
   "cell_type": "code",
   "execution_count": 6,
   "id": "ongoing-stadium",
   "metadata": {},
   "outputs": [
    {
     "name": "stdout",
     "output_type": "stream",
     "text": [
      "Counter({0: 800000, 4: 800000})\n"
     ]
    },
    {
     "data": {
      "image/png": "[encoded data removed]",
      "text/plain": [
       "<Figure size 432x288 with 1 Axes>"
      ]
     },
     "metadata": {
      "needs_background": "light"
     },
     "output_type": "display_data"
    }
   ],
   "source": [
    "class_distrib = Counter(df.target)\n",
    "\n",
    "print(class_distrib)\n",
    "plt.bar(['negative', 'positive'], class_distrib.values())\n",
    "plt.show()"
   ]
  },
  {
   "cell_type": "code",
   "execution_count": 7,
   "id": "outer-surge",
   "metadata": {},
   "outputs": [
    {
     "name": "stdout",
     "output_type": "stream",
     "text": [
      "(32000, 6)\n"
     ]
    },
    {
     "data": {
      "text/html": [
       "<div>\n",
       "<style scoped>\n",
       "    .dataframe tbody tr th:only-of-type {\n",
       "        vertical-align: middle;\n",
       "    }\n",
       "\n",
       "    .dataframe tbody tr th {\n",
       "        vertical-align: top;\n",
       "    }\n",
       "\n",
       "    .dataframe thead th {\n",
       "        text-align: right;\n",
       "    }\n",
       "</style>\n",
       "<table border=\"1\" class=\"dataframe\">\n",
       "  <thead>\n",
       "    <tr style=\"text-align: right;\">\n",
       "      <th></th>\n",
       "      <th>target</th>\n",
       "      <th>id</th>\n",
       "      <th>date</th>\n",
       "      <th>flag</th>\n",
       "      <th>user</th>\n",
       "      <th>text</th>\n",
       "    </tr>\n",
       "  </thead>\n",
       "  <tbody>\n",
       "    <tr>\n",
       "      <th>1055148</th>\n",
       "      <td>4</td>\n",
       "      <td>1962159448</td>\n",
       "      <td>Fri May 29 10:36:54 PDT 2009</td>\n",
       "      <td>NO_QUERY</td>\n",
       "      <td>starchild24</td>\n",
       "      <td>yesterday was a fun day   i love my work.</td>\n",
       "    </tr>\n",
       "    <tr>\n",
       "      <th>205169</th>\n",
       "      <td>0</td>\n",
       "      <td>1972807026</td>\n",
       "      <td>Sat May 30 09:55:30 PDT 2009</td>\n",
       "      <td>NO_QUERY</td>\n",
       "      <td>soundkitchen</td>\n",
       "      <td>swfwheel ???? js ? externalinterface ?????????...</td>\n",
       "    </tr>\n",
       "    <tr>\n",
       "      <th>214746</th>\n",
       "      <td>0</td>\n",
       "      <td>1975307423</td>\n",
       "      <td>Sat May 30 14:53:05 PDT 2009</td>\n",
       "      <td>NO_QUERY</td>\n",
       "      <td>Desibeez</td>\n",
       "      <td>@julioanta, i could of sworn it was otown, ugh...</td>\n",
       "    </tr>\n",
       "    <tr>\n",
       "      <th>367135</th>\n",
       "      <td>0</td>\n",
       "      <td>2049116589</td>\n",
       "      <td>Fri Jun 05 16:19:26 PDT 2009</td>\n",
       "      <td>NO_QUERY</td>\n",
       "      <td>ryanwalker19</td>\n",
       "      <td>awwww maddy has gone</td>\n",
       "    </tr>\n",
       "    <tr>\n",
       "      <th>985037</th>\n",
       "      <td>4</td>\n",
       "      <td>1834438053</td>\n",
       "      <td>Mon May 18 02:56:10 PDT 2009</td>\n",
       "      <td>NO_QUERY</td>\n",
       "      <td>_nataliee</td>\n",
       "      <td>i guess i should feel special that alfie nearl...</td>\n",
       "    </tr>\n",
       "  </tbody>\n",
       "</table>\n",
       "</div>"
      ],
      "text/plain": [
       "         target          id                          date      flag  \\\n",
       "1055148       4  1962159448  Fri May 29 10:36:54 PDT 2009  NO_QUERY   \n",
       "205169        0  1972807026  Sat May 30 09:55:30 PDT 2009  NO_QUERY   \n",
       "214746        0  1975307423  Sat May 30 14:53:05 PDT 2009  NO_QUERY   \n",
       "367135        0  2049116589  Fri Jun 05 16:19:26 PDT 2009  NO_QUERY   \n",
       "985037        4  1834438053  Mon May 18 02:56:10 PDT 2009  NO_QUERY   \n",
       "\n",
       "                 user                                               text  \n",
       "1055148   starchild24          yesterday was a fun day   i love my work.  \n",
       "205169   soundkitchen  swfwheel ???? js ? externalinterface ?????????...  \n",
       "214746       Desibeez  @julioanta, i could of sworn it was otown, ugh...  \n",
       "367135   ryanwalker19                              awwww maddy has gone   \n",
       "985037      _nataliee  i guess i should feel special that alfie nearl...  "
      ]
     },
     "execution_count": 7,
     "metadata": {},
     "output_type": "execute_result"
    }
   ],
   "source": [
    "sample_size = int(len(df)*0.02)\n",
    "sampleDf = df.sample(sample_size, random_state=23)\n",
    "\n",
    "x = sampleDf.text\n",
    "y = sampleDf.target\n",
    "x_train, x_test, y_train, y_test = train_test_split(\n",
    "    x,\n",
    "    y,\n",
    "    test_size=0.2,\n",
    "    stratify=y,\n",
    "    random_state=32\n",
    ")\n",
    "\n",
    "print(sampleDf.shape)\n",
    "sampleDf.head()"
   ]
  },
  {
   "cell_type": "code",
   "execution_count": 8,
   "id": "proof-horizontal",
   "metadata": {},
   "outputs": [
    {
     "name": "stdout",
     "output_type": "stream",
     "text": [
      "[Counter({0: 16014, 4: 15986}), Counter({0: 12811, 4: 12789}), Counter({0: 3203, 4: 3197})]\n"
     ]
    },
    {
     "data": {
      "image/png": "[encoded data removed]",
      "text/plain": [
       "<Figure size 1800x504 with 3 Axes>"
      ]
     },
     "metadata": {
      "needs_background": "light"
     },
     "output_type": "display_data"
    }
   ],
   "source": [
    "plt_data = [Counter(y), Counter(y_train), Counter(y_test)]\n",
    "print(plt_data)\n",
    "\n",
    "fig, axes = plt.subplots(nrows=1, ncols=3, figsize=(25,7))\n",
    "\n",
    "for data, ax in zip(plt_data, axes):\n",
    "    ax.bar(['positive', 'negative'], data.values())\n",
    "    \n",
    "plt.show()"
   ]
  },
  {
   "cell_type": "code",
   "execution_count": 9,
   "id": "graphic-shower",
   "metadata": {},
   "outputs": [
    {
     "name": "stdout",
     "output_type": "stream",
     "text": [
      "Encoded y_train size 25600\n",
      "[1 0 1 ... 0 0 0]\n",
      "Dummy y_train size 25600\n",
      "[[0. 1.]\n",
      " [1. 0.]\n",
      " [0. 1.]\n",
      " ...\n",
      " [1. 0.]\n",
      " [1. 0.]\n",
      " [1. 0.]]\n"
     ]
    }
   ],
   "source": [
    "encoder = LabelEncoder()\n",
    "encoder.fit(y)\n",
    "encoded_y_train = encoder.transform(y_train)\n",
    "encoded_y_test = encoder.transform(y_test)\n",
    "\n",
    "dummy_y_train = np_utils.to_categorical(encoded_y_train)\n",
    "dummy_y_test = np_utils.to_categorical(encoded_y_test)\n",
    "\n",
    "print(\"Encoded y_train size\", len(encoded_y_train))\n",
    "print(encoded_y_train)\n",
    "\n",
    "print(\"Dummy y_train size\", len(dummy_y_train))\n",
    "print(dummy_y_train)"
   ]
  },
  {
   "cell_type": "code",
   "execution_count": 10,
   "id": "cleared-terrain",
   "metadata": {},
   "outputs": [],
   "source": [
    "encoder_fname = 'twitter_classes.npy'\n",
    "np.save(encoder_fname, encoder.classes_)"
   ]
  },
  {
   "cell_type": "code",
   "execution_count": 11,
   "id": "grand-weight",
   "metadata": {},
   "outputs": [],
   "source": [
    "loaded_model = hub.load(\"https://tfhub.dev/tensorflow/small_bert/bert_en_uncased_L-2_H-256_A-4/2\")\n",
    "bert_layer = hub.KerasLayer(loaded_model, trainable=True)"
   ]
  },
  {
   "cell_type": "code",
   "execution_count": 12,
   "id": "respective-pitch",
   "metadata": {},
   "outputs": [
    {
     "name": "stdout",
     "output_type": "stream",
     "text": [
      "Path to locally saved vocabulary: b'C:\\\\Users\\\\Dell\\\\AppData\\\\Local\\\\Temp\\\\tfhub_modules\\\\821b847cbc14f7de954585332dddc61bb2d629e3\\\\assets\\\\vocab.txt'\n",
      "Is the text lowercased before training the model? True\n"
     ]
    }
   ],
   "source": [
    "vocab_file = bert_layer.resolved_object.vocab_file.asset_path.numpy()\n",
    "print(\"Path to locally saved vocabulary:\", vocab_file)\n",
    "do_lower_case = bert_layer.resolved_object.do_lower_case.numpy()\n",
    "print(\"Is the text lowercased before training the model?\", do_lower_case)"
   ]
  },
  {
   "cell_type": "code",
   "execution_count": 13,
   "id": "revised-supplier",
   "metadata": {},
   "outputs": [],
   "source": [
    "tokenizer = tokenization.FullTokenizer(vocab_file, do_lower_case)"
   ]
  },
  {
   "cell_type": "code",
   "execution_count": 16,
   "id": "remarkable-march",
   "metadata": {},
   "outputs": [],
   "source": [
    "def encode_names(n):\n",
    "    tokens = list(tokenizer.tokenize(n))\n",
    "    tokens.append('[SEP]')\n",
    "    return tokenizer.convert_tokens_to_ids(tokens)\n",
    "\n",
    "tweets = tf.ragged.constant([\n",
    "    encode_names(n) for n in x_train\n",
    "])"
   ]
  },
  {
   "cell_type": "code",
   "execution_count": 17,
   "id": "renewable-klein",
   "metadata": {},
   "outputs": [
    {
     "data": {
      "image/png": "[encoded data removed]",
      "text/plain": [
       "<Figure size 432x288 with 1 Axes>"
      ]
     },
     "metadata": {
      "needs_background": "light"
     },
     "output_type": "display_data"
    }
   ],
   "source": [
    "cls = [tokenizer.convert_tokens_to_ids(['[CLS]'])]*tweets.shape[0]\n",
    "input_word_ids = tf.concat([cls, tweets], axis=1)\n",
    "_ = plt.pcolormesh(input_word_ids[:10].to_tensor())"
   ]
  },
  {
   "cell_type": "code",
   "execution_count": 18,
   "id": "moderate-statistics",
   "metadata": {},
   "outputs": [],
   "source": [
    "lens = [len(i) for i in input_word_ids]"
   ]
  },
  {
   "cell_type": "code",
   "execution_count": 19,
   "id": "latter-copyright",
   "metadata": {},
   "outputs": [
    {
     "name": "stdout",
     "output_type": "stream",
     "text": [
      "Max length is 100\n"
     ]
    }
   ],
   "source": [
    "max_seq_length = max(lens)\n",
    "print(\"Max length is\", max_seq_length)"
   ]
  },
  {
   "cell_type": "code",
   "execution_count": 20,
   "id": "nutritional-support",
   "metadata": {},
   "outputs": [
    {
     "name": "stdout",
     "output_type": "stream",
     "text": [
      "New max length is 150\n"
     ]
    }
   ],
   "source": [
    "max_seq_length = int(max_seq_length*1.5)\n",
    "print(\"New max length is\", max_seq_length)"
   ]
  },
  {
   "cell_type": "code",
   "execution_count": 26,
   "id": "forty-kenya",
   "metadata": {},
   "outputs": [],
   "source": [
    "def encode_names(n, tokenizer):\n",
    "    tokens = list(tokenizer.tokenize(n))\n",
    "    tokens.append('[SEP]')\n",
    "    return tokenizer.convert_tokens_to_ids(tokens)\n",
    "\n",
    "def bert_encode(string_list, tokenizer, max_seq_length):\n",
    "    num_examples = len(string_list)\n",
    "    \n",
    "    string_tokens = tf.ragged.constant([\n",
    "        encode_names(n, tokenizer) for n in np.array(string_list)\n",
    "    ])\n",
    "    \n",
    "    cls = [tokenizer.convert_tokens_to_ids(['[CLS]'])]*string_tokens.shape[0]\n",
    "    input_word_ids = tf.concat([cls, string_tokens], axis=1)\n",
    "    \n",
    "    input_mask = tf.ones_like(input_word_ids).to_tensor(shape=(None, max_seq_length))\n",
    "    \n",
    "    type_cls = tf.zeros_like(cls)\n",
    "    type_tokens = tf.ones_like(string_tokens)\n",
    "    input_type_ids = tf.concat([type_cls, type_tokens], axis=1).to_tensor(shape=(None, max_seq_length))\n",
    "    \n",
    "    inputs = {\n",
    "        'input_word_ids': input_word_ids.to_tensor(shape=(None, max_seq_length)),\n",
    "        'input_mask': input_mask,\n",
    "        'input_type_ids': input_type_ids\n",
    "    }\n",
    "    \n",
    "    return inputs"
   ]
  },
  {
   "cell_type": "code",
   "execution_count": 27,
   "id": "electric-guide",
   "metadata": {},
   "outputs": [],
   "source": [
    "X_train = bert_encode(x_train, tokenizer, max_seq_length)\n",
    "X_test = bert_encode(x_test, tokenizer, max_seq_length)"
   ]
  },
  {
   "cell_type": "code",
   "execution_count": 32,
   "id": "noticed-engagement",
   "metadata": {},
   "outputs": [
    {
     "name": "stdout",
     "output_type": "stream",
     "text": [
      "tf.Tensor(\n",
      "[  101  1030 18804 25643  8458 22091  2860  2860  2860  1012  1012  2016\n",
      "  2003 23677  1012  1012  2515  2016  3637  2012  1996  3329  1997  6737\n",
      "  4364  2793  2030  2007  1996  4268  1029   102     0     0     0     0\n",
      "     0     0     0     0     0     0     0     0     0     0     0     0\n",
      "     0     0     0     0     0     0     0     0     0     0     0     0\n",
      "     0     0     0     0     0     0     0     0     0     0     0     0\n",
      "     0     0     0     0     0     0     0     0     0     0     0     0\n",
      "     0     0     0     0     0     0     0     0     0     0     0     0\n",
      "     0     0     0     0     0     0     0     0     0     0     0     0\n",
      "     0     0     0     0     0     0     0     0     0     0     0     0\n",
      "     0     0     0     0     0     0     0     0     0     0     0     0\n",
      "     0     0     0     0     0     0     0     0     0     0     0     0\n",
      "     0     0     0     0     0     0], shape=(150,), dtype=int32)\n",
      "tf.Tensor(\n",
      "[1 1 1 1 1 1 1 1 1 1 1 1 1 1 1 1 1 1 1 1 1 1 1 1 1 1 1 1 1 1 1 1 0 0 0 0 0\n",
      " 0 0 0 0 0 0 0 0 0 0 0 0 0 0 0 0 0 0 0 0 0 0 0 0 0 0 0 0 0 0 0 0 0 0 0 0 0\n",
      " 0 0 0 0 0 0 0 0 0 0 0 0 0 0 0 0 0 0 0 0 0 0 0 0 0 0 0 0 0 0 0 0 0 0 0 0 0\n",
      " 0 0 0 0 0 0 0 0 0 0 0 0 0 0 0 0 0 0 0 0 0 0 0 0 0 0 0 0 0 0 0 0 0 0 0 0 0\n",
      " 0 0], shape=(150,), dtype=int32)\n",
      "tf.Tensor(\n",
      "[0 1 1 1 1 1 1 1 1 1 1 1 1 1 1 1 1 1 1 1 1 1 1 1 1 1 1 1 1 1 1 1 0 0 0 0 0\n",
      " 0 0 0 0 0 0 0 0 0 0 0 0 0 0 0 0 0 0 0 0 0 0 0 0 0 0 0 0 0 0 0 0 0 0 0 0 0\n",
      " 0 0 0 0 0 0 0 0 0 0 0 0 0 0 0 0 0 0 0 0 0 0 0 0 0 0 0 0 0 0 0 0 0 0 0 0 0\n",
      " 0 0 0 0 0 0 0 0 0 0 0 0 0 0 0 0 0 0 0 0 0 0 0 0 0 0 0 0 0 0 0 0 0 0 0 0 0\n",
      " 0 0], shape=(150,), dtype=int32)\n"
     ]
    }
   ],
   "source": [
    "print(X_train['input_word_ids'][0])\n",
    "print(X_train['input_mask'][0])\n",
    "print(X_train['input_type_ids'][0])"
   ]
  },
  {
   "cell_type": "code",
   "execution_count": 33,
   "id": "functional-affiliate",
   "metadata": {},
   "outputs": [
    {
     "name": "stdout",
     "output_type": "stream",
     "text": [
      "Model: \"model\"\n",
      "__________________________________________________________________________________________________\n",
      "Layer (type)                    Output Shape         Param #     Connected to                     \n",
      "==================================================================================================\n",
      "input_mask (InputLayer)         [(None, 150)]        0                                            \n",
      "__________________________________________________________________________________________________\n",
      "input_type_ids (InputLayer)     [(None, 150)]        0                                            \n",
      "__________________________________________________________________________________________________\n",
      "input_word_ids (InputLayer)     [(None, 150)]        0                                            \n",
      "__________________________________________________________________________________________________\n",
      "keras_layer (KerasLayer)        {'default': (None, 2 9591041     input_mask[0][0]                 \n",
      "                                                                 input_type_ids[0][0]             \n",
      "                                                                 input_word_ids[0][0]             \n",
      "__________________________________________________________________________________________________\n",
      "dropout (Dropout)               (None, 256)          0           keras_layer[0][3]                \n",
      "__________________________________________________________________________________________________\n",
      "dense (Dense)                   (None, 2)            514         dropout[0][0]                    \n",
      "==================================================================================================\n",
      "Total params: 9,591,555\n",
      "Trainable params: 9,591,554\n",
      "Non-trainable params: 1\n",
      "__________________________________________________________________________________________________\n"
     ]
    }
   ],
   "source": [
    "num_class = len(encoder.classes_)\n",
    "\n",
    "input_word_ids = tf.keras.layers.Input(shape=(max_seq_length,), dtype=tf.int32, name=\"input_word_ids\")\n",
    "input_mask = tf.keras.layers.Input(shape=(max_seq_length,), dtype=tf.int32, name=\"input_mask\")\n",
    "input_type_ids = tf.keras.layers.Input(shape=(max_seq_length,), dtype=tf.int32, name=\"input_type_ids\")\n",
    "\n",
    "bert_input = {\n",
    "    'input_word_ids': input_word_ids,\n",
    "    'input_mask': input_mask,\n",
    "    'input_type_ids': input_type_ids\n",
    "}\n",
    "\n",
    "outputs = bert_layer(bert_input)\n",
    "pooled_output = outputs['pooled_output']\n",
    "\n",
    "output = tf.keras.layers.Dropout(rate=0.1)(pooled_output)\n",
    "output = tf.keras.layers.Dense(num_class, activation='softmax')(output)\n",
    "\n",
    "model = tf.keras.Model(\n",
    "    inputs={\n",
    "        'input_word_ids': input_word_ids,\n",
    "        'input_mask': input_mask,\n",
    "        'input_type_ids': input_type_ids\n",
    "    },\n",
    "    outputs=output\n",
    ")\n",
    "\n",
    "model.summary()"
   ]
  },
  {
   "cell_type": "code",
   "execution_count": 67,
   "id": "composed-hampshire",
   "metadata": {},
   "outputs": [
    {
     "name": "stdout",
     "output_type": "stream",
     "text": [
      "('You must install pydot (`pip install pydot`) and install graphviz (see instructions at https://graphviz.gitlab.io/download/) ', 'for plot_model/model_to_dot to work.')\n"
     ]
    }
   ],
   "source": [
    "tf.keras.utils.plot_model(model, show_shapes=True, dpi=48)"
   ]
  },
  {
   "cell_type": "code",
   "execution_count": 36,
   "id": "incomplete-consultation",
   "metadata": {},
   "outputs": [],
   "source": [
    "model.compile(\n",
    "    optimizer='adam',\n",
    "    loss='categorical_crossentropy',\n",
    "    metrics='accuracy'\n",
    ")"
   ]
  },
  {
   "cell_type": "code",
   "execution_count": 37,
   "id": "personal-november",
   "metadata": {},
   "outputs": [
    {
     "name": "stdout",
     "output_type": "stream",
     "text": [
      "Epoch 1/2\n",
      "800/800 [==============================] - 1558s 2s/step - loss: 0.6225 - accuracy: 0.6727\n",
      "Epoch 2/2\n",
      "800/800 [==============================] - 1521s 2s/step - loss: 0.5846 - accuracy: 0.7018\n"
     ]
    },
    {
     "data": {
      "text/plain": [
       "<keras.callbacks.History at 0x2691fb96cd0>"
      ]
     },
     "execution_count": 37,
     "metadata": {},
     "output_type": "execute_result"
    }
   ],
   "source": [
    "model.fit(\n",
    "    X_train,\n",
    "    dummy_y_train,\n",
    "    epochs=2,\n",
    "    verbose=1\n",
    ")"
   ]
  },
  {
   "cell_type": "code",
   "execution_count": 57,
   "id": "matched-union",
   "metadata": {},
   "outputs": [],
   "source": [
    "y_pred = model.predict(X_test)     "
   ]
  },
  {
   "cell_type": "code",
   "execution_count": 58,
   "id": "charming-beach",
   "metadata": {},
   "outputs": [
    {
     "name": "stdout",
     "output_type": "stream",
     "text": [
      "0.7071875\n"
     ]
    }
   ],
   "source": [
    "all_arr = []\n",
    "\n",
    "for i in range(0, len(y_pred)):\n",
    "    pos = np.argmax(y_pred[i])\n",
    "    arr = []\n",
    "    for j in range(0, len(y_pred[i])):\n",
    "        if j == pos:\n",
    "            arr.append(1)\n",
    "        else:\n",
    "            arr.append(0)\n",
    "    all_arr.append(arr)\n",
    "    \n",
    "#print(all_arr)\n",
    "\n",
    "from sklearn.metrics import accuracy_score\n",
    "print(accuracy_score(dummy_y_test,all_arr))"
   ]
  },
  {
   "cell_type": "code",
   "execution_count": 49,
   "id": "complicated-haiti",
   "metadata": {},
   "outputs": [
    {
     "data": {
      "image/png": "[encoded data removed]",
      "text/plain": [
       "<Figure size 432x288 with 1 Axes>"
      ]
     },
     "metadata": {
      "needs_background": "light"
     },
     "output_type": "display_data"
    }
   ],
   "source": [
    "step_in_epoch = [200,400,600,800]\n",
    "accuracy_epoch_1 = [0.6306,0.6587,0.6720,0.6727]\n",
    "accuracy_epoch_2 = [0.6659,0.6878,0.6977,0.7018]\n",
    "\n",
    "plt.plot(step_in_epoch, accuracy_epoch_1)\n",
    "plt.plot(step_in_epoch, accuracy_epoch_2)\n",
    "plt.show()"
   ]
  },
  {
   "cell_type": "code",
   "execution_count": 50,
   "id": "thermal-trail",
   "metadata": {},
   "outputs": [],
   "source": [
    "bert_layer_not = hub.KerasLayer(loaded_model, trainable=False)"
   ]
  },
  {
   "cell_type": "code",
   "execution_count": 51,
   "id": "incorporated-folder",
   "metadata": {},
   "outputs": [
    {
     "name": "stdout",
     "output_type": "stream",
     "text": [
      "Model: \"model_1\"\n",
      "__________________________________________________________________________________________________\n",
      "Layer (type)                    Output Shape         Param #     Connected to                     \n",
      "==================================================================================================\n",
      "input_mask (InputLayer)         [(None, 150)]        0                                            \n",
      "__________________________________________________________________________________________________\n",
      "input_type_ids (InputLayer)     [(None, 150)]        0                                            \n",
      "__________________________________________________________________________________________________\n",
      "input_word_ids (InputLayer)     [(None, 150)]        0                                            \n",
      "__________________________________________________________________________________________________\n",
      "keras_layer_1 (KerasLayer)      {'default': (None, 2 9591041     input_mask[0][0]                 \n",
      "                                                                 input_type_ids[0][0]             \n",
      "                                                                 input_word_ids[0][0]             \n",
      "__________________________________________________________________________________________________\n",
      "dropout_1 (Dropout)             (None, 256)          0           keras_layer_1[0][3]              \n",
      "__________________________________________________________________________________________________\n",
      "dense_1 (Dense)                 (None, 2)            514         dropout_1[0][0]                  \n",
      "==================================================================================================\n",
      "Total params: 9,591,555\n",
      "Trainable params: 514\n",
      "Non-trainable params: 9,591,041\n",
      "__________________________________________________________________________________________________\n"
     ]
    }
   ],
   "source": [
    "input_word_ids = tf.keras.layers.Input(shape=(max_seq_length,), dtype=tf.int32, name=\"input_word_ids\")\n",
    "input_mask = tf.keras.layers.Input(shape=(max_seq_length,), dtype=tf.int32, name=\"input_mask\")\n",
    "input_type_ids = tf.keras.layers.Input(shape=(max_seq_length,), dtype=tf.int32, name=\"input_type_ids\")\n",
    "\n",
    "bert_input = {\n",
    "    'input_word_ids': input_word_ids,\n",
    "    'input_mask': input_mask,\n",
    "    'input_type_ids': input_type_ids\n",
    "}\n",
    "\n",
    "outputs = bert_layer_not(bert_input)\n",
    "pooled_output = outputs['pooled_output']\n",
    "\n",
    "output = tf.keras.layers.Dropout(rate=0.1)(pooled_output)\n",
    "output = tf.keras.layers.Dense(num_class, activation='softmax')(output)\n",
    "\n",
    "model_nt = tf.keras.Model(\n",
    "    inputs={\n",
    "        'input_word_ids': input_word_ids,\n",
    "        'input_mask': input_mask,\n",
    "        'input_type_ids': input_type_ids\n",
    "    },\n",
    "    outputs=output\n",
    ")\n",
    "\n",
    "model_nt.summary()"
   ]
  },
  {
   "cell_type": "code",
   "execution_count": 52,
   "id": "boring-potter",
   "metadata": {},
   "outputs": [],
   "source": [
    "model_nt.compile(\n",
    "    optimizer='adam',\n",
    "    loss='categorical_crossentropy',\n",
    "    metrics='accuracy'\n",
    ")"
   ]
  },
  {
   "cell_type": "code",
   "execution_count": 54,
   "id": "democratic-optimum",
   "metadata": {},
   "outputs": [
    {
     "name": "stdout",
     "output_type": "stream",
     "text": [
      "Epoch 1/2\n",
      "800/800 [==============================] - 414s 499ms/step - loss: 0.5460 - accuracy: 0.7320\n",
      "Epoch 2/2\n",
      "800/800 [==============================] - 407s 508ms/step - loss: 0.5228 - accuracy: 0.7504\n"
     ]
    }
   ],
   "source": [
    "history = model_nt.fit(\n",
    "    X_train,\n",
    "    dummy_y_train,\n",
    "    epochs=2,\n",
    "    verbose=1\n",
    ")"
   ]
  },
  {
   "cell_type": "code",
   "execution_count": 55,
   "id": "rocky-apparel",
   "metadata": {},
   "outputs": [],
   "source": [
    "y_pred_nt = model_nt.predict(X_test)"
   ]
  },
  {
   "cell_type": "code",
   "execution_count": 56,
   "id": "executed-macedonia",
   "metadata": {},
   "outputs": [
    {
     "name": "stdout",
     "output_type": "stream",
     "text": [
      "0.7109375\n"
     ]
    }
   ],
   "source": [
    "all_arr = []\n",
    "\n",
    "for i in range(0, len(y_pred_nt)):\n",
    "    pos = np.argmax(y_pred_nt[i])\n",
    "    arr = []\n",
    "    for j in range(0, len(y_pred_nt[i])):\n",
    "        if j == pos:\n",
    "            arr.append(1)\n",
    "        else:\n",
    "            arr.append(0)\n",
    "    all_arr.append(arr)\n",
    "    \n",
    "#print(all_arr)\n",
    "\n",
    "from sklearn.metrics import accuracy_score\n",
    "print(accuracy_score(dummy_y_test,all_arr))"
   ]
  },
  {
   "cell_type": "code",
   "execution_count": 59,
   "id": "shared-villa",
   "metadata": {},
   "outputs": [
    {
     "data": {
      "image/png": "[encoded data removed]",
      "text/plain": [
       "<Figure size 432x288 with 1 Axes>"
      ]
     },
     "metadata": {
      "needs_background": "light"
     },
     "output_type": "display_data"
    }
   ],
   "source": [
    "step_in_epoch = [200,400,600,800]\n",
    "accuracy_epoch_1 = [0.6921,0.7178,0.7284,0.7320]\n",
    "accuracy_epoch_2 = [0.7453,0.7475,0.7492,0.7504]\n",
    "\n",
    "plt.plot(step_in_epoch, accuracy_epoch_1)\n",
    "plt.plot(step_in_epoch, accuracy_epoch_2)\n",
    "plt.show()"
   ]
  },
  {
   "cell_type": "code",
   "execution_count": 61,
   "id": "spread-coast",
   "metadata": {},
   "outputs": [
    {
     "name": "stderr",
     "output_type": "stream",
     "text": [
      "WARNING:absl:Found untraced functions such as restored_function_body, restored_function_body, restored_function_body, restored_function_body, restored_function_body while saving (showing 5 of 165). These functions will not be directly callable after loading.\n"
     ]
    },
    {
     "name": "stdout",
     "output_type": "stream",
     "text": [
      "INFO:tensorflow:Assets written to: D:/my_saved_models/trainable_model\\assets\n"
     ]
    },
    {
     "name": "stderr",
     "output_type": "stream",
     "text": [
      "INFO:tensorflow:Assets written to: D:/my_saved_models/trainable_model\\assets\n",
      "WARNING:absl:Found untraced functions such as restored_function_body, restored_function_body, restored_function_body, restored_function_body, restored_function_body while saving (showing 5 of 165). These functions will not be directly callable after loading.\n"
     ]
    },
    {
     "name": "stdout",
     "output_type": "stream",
     "text": [
      "INFO:tensorflow:Assets written to: D:/my_saved_models/nontrainable_model\\assets\n"
     ]
    },
    {
     "name": "stderr",
     "output_type": "stream",
     "text": [
      "INFO:tensorflow:Assets written to: D:/my_saved_models/nontrainable_model\\assets\n"
     ]
    }
   ],
   "source": [
    "model.save('D:/my_saved_models/trainable_model')\n",
    "model_nt.save('D:/my_saved_models/nontrainable_model')"
   ]
  },
  {
   "cell_type": "code",
   "execution_count": 63,
   "id": "indonesian-wholesale",
   "metadata": {},
   "outputs": [
    {
     "name": "stdout",
     "output_type": "stream",
     "text": [
      "<keras.engine.functional.Functional object at 0x00000269213989A0>\n"
     ]
    }
   ],
   "source": [
    "import keras\n",
    "my_trainable_saved_model = keras.models.load_model('D:/my_saved_models/trainable_model')\n",
    "print(my_trainable_saved_model)"
   ]
  },
  {
   "cell_type": "code",
   "execution_count": 65,
   "id": "fifty-dominican",
   "metadata": {},
   "outputs": [
    {
     "name": "stdout",
     "output_type": "stream",
     "text": [
      "{'input_word_ids': <tf.Tensor: shape=(16000, 150), dtype=int32, numpy=\n",
      "array([[  101,  7483,  2001, ...,     0,     0,     0],\n",
      "       [  101, 25430,  2546, ...,     0,     0,     0],\n",
      "       [  101,  1030, 15090, ...,     0,     0,     0],\n",
      "       ...,\n",
      "       [  101,  2092,  2049, ...,     0,     0,     0],\n",
      "       [  101,  1030, 22953, ...,     0,     0,     0],\n",
      "       [  101,  2003, 17111, ...,     0,     0,     0]])>, 'input_mask': <tf.Tensor: shape=(16000, 150), dtype=int32, numpy=\n",
      "array([[1, 1, 1, ..., 0, 0, 0],\n",
      "       [1, 1, 1, ..., 0, 0, 0],\n",
      "       [1, 1, 1, ..., 0, 0, 0],\n",
      "       ...,\n",
      "       [1, 1, 1, ..., 0, 0, 0],\n",
      "       [1, 1, 1, ..., 0, 0, 0],\n",
      "       [1, 1, 1, ..., 0, 0, 0]])>, 'input_type_ids': <tf.Tensor: shape=(16000, 150), dtype=int32, numpy=\n",
      "array([[0, 1, 1, ..., 0, 0, 0],\n",
      "       [0, 1, 1, ..., 0, 0, 0],\n",
      "       [0, 1, 1, ..., 0, 0, 0],\n",
      "       ...,\n",
      "       [0, 1, 1, ..., 0, 0, 0],\n",
      "       [0, 1, 1, ..., 0, 0, 0],\n",
      "       [0, 1, 1, ..., 0, 0, 0]])>}\n"
     ]
    }
   ],
   "source": [
    "newSampleDf = df.sample(int(len(df)*0.01), random_state=23)\n",
    "\n",
    "new_x = newSampleDf.text\n",
    "new_y = newSampleDf.target\n",
    "\n",
    "x_tokens = bert_encode(new_x, tokenizer, max_seq_length)\n",
    "print(x_tokens)"
   ]
  },
  {
   "cell_type": "code",
   "execution_count": 66,
   "id": "signal-discharge",
   "metadata": {},
   "outputs": [
    {
     "data": {
      "text/plain": [
       "array([[0.71814346, 0.28185654],\n",
       "       [0.36146596, 0.638534  ],\n",
       "       [0.44308925, 0.55691075],\n",
       "       ...,\n",
       "       [0.7280339 , 0.27196613],\n",
       "       [0.44063917, 0.55936086],\n",
       "       [0.7156173 , 0.28438267]], dtype=float32)"
      ]
     },
     "execution_count": 66,
     "metadata": {},
     "output_type": "execute_result"
    }
   ],
   "source": [
    "my_trainable_saved_model.predict(x_tokens)"
   ]
  },
  {
   "cell_type": "code",
   "execution_count": null,
   "id": "absolute-princess",
   "metadata": {},
   "outputs": [],
   "source": []
  }
 ],
 "metadata": {
  "kernelspec": {
   "display_name": "Python 3",
   "language": "python",
   "name": "python3"
  },
  "language_info": {
   "codemirror_mode": {
    "name": "ipython",
    "version": 3
   },
   "file_extension": ".py",
   "mimetype": "text/x-python",
   "name": "python",
   "nbconvert_exporter": "python",
   "pygments_lexer": "ipython3",
   "version": "3.8.0"
  }
 },
 "nbformat": 4,
 "nbformat_minor": 5
}
